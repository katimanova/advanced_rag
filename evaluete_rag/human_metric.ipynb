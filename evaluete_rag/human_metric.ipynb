{
 "cells": [
  {
   "cell_type": "markdown",
   "metadata": {},
   "source": [
    "### Метрика, выполненная человеком\n",
    "\n",
    "Определяем сходство вручную:\n",
    "- 0 - никакого сходства\n",
    "- 1 - полное сходство \n",
    "- 2 - частичное сходство (затем заменим на 0.5)"
   ]
  },
  {
   "cell_type": "code",
   "execution_count": 3,
   "metadata": {},
   "outputs": [],
   "source": [
    "# пути\n",
    "path = '../all_ratings/eval_rag_step_1/step_1_1/evaluete_base_rag.csv'"
   ]
  },
  {
   "cell_type": "code",
   "execution_count": 4,
   "metadata": {},
   "outputs": [
    {
     "data": {
      "text/html": [
       "<div>\n",
       "<style scoped>\n",
       "    .dataframe tbody tr th:only-of-type {\n",
       "        vertical-align: middle;\n",
       "    }\n",
       "\n",
       "    .dataframe tbody tr th {\n",
       "        vertical-align: top;\n",
       "    }\n",
       "\n",
       "    .dataframe thead th {\n",
       "        text-align: right;\n",
       "    }\n",
       "</style>\n",
       "<table border=\"1\" class=\"dataframe\">\n",
       "  <thead>\n",
       "    <tr style=\"text-align: right;\">\n",
       "      <th></th>\n",
       "      <th>question</th>\n",
       "      <th>contexts</th>\n",
       "      <th>ground_truth</th>\n",
       "      <th>answer</th>\n",
       "      <th>faithfulness</th>\n",
       "      <th>answer_relevancy</th>\n",
       "      <th>context_precision</th>\n",
       "      <th>context_relevancy</th>\n",
       "      <th>answer_similarity</th>\n",
       "      <th>bleu_score</th>\n",
       "      <th>cos-sim-TF-IDF</th>\n",
       "      <th>sim-spacy</th>\n",
       "      <th>cos-sim-BertModel</th>\n",
       "      <th>human</th>\n",
       "    </tr>\n",
       "  </thead>\n",
       "  <tbody>\n",
       "    <tr>\n",
       "      <th>0</th>\n",
       "      <td>Можно ли не расписываться на карте?</td>\n",
       "      <td>[\"['После получения карты поставьте свою подпи...</td>\n",
       "      <td>При отсутствии подписи карта может быть не при...</td>\n",
       "      <td>Не указано, можно ли не расписываться на карте.</td>\n",
       "      <td>NaN</td>\n",
       "      <td>0.000000</td>\n",
       "      <td>1.0</td>\n",
       "      <td>1.0</td>\n",
       "      <td>0.811101</td>\n",
       "      <td>0.0</td>\n",
       "      <td>0.077070</td>\n",
       "      <td>0.445012</td>\n",
       "      <td>0.962151</td>\n",
       "      <td>0.0</td>\n",
       "    </tr>\n",
       "    <tr>\n",
       "      <th>1</th>\n",
       "      <td>Мой друг попросил меня дать свою карту для опл...</td>\n",
       "      <td>[\"['Никогда не принимайте рекомендации, советы...</td>\n",
       "      <td>Не передавайте карту другим лицам, в т.ч. родс...</td>\n",
       "      <td>Да, использование карты будет безопасным, если...</td>\n",
       "      <td>NaN</td>\n",
       "      <td>0.841236</td>\n",
       "      <td>1.0</td>\n",
       "      <td>1.0</td>\n",
       "      <td>0.863962</td>\n",
       "      <td>0.0</td>\n",
       "      <td>0.058044</td>\n",
       "      <td>0.845790</td>\n",
       "      <td>0.988961</td>\n",
       "      <td>0.0</td>\n",
       "    </tr>\n",
       "    <tr>\n",
       "      <th>2</th>\n",
       "      <td>Безопасно ли хранить пинкод в заметках в телеф...</td>\n",
       "      <td>[\"['Категорически запрещается записывать ПИН-к...</td>\n",
       "      <td>Да, однако не указывайте в названии заметки, ч...</td>\n",
       "      <td>Нет, не рекомендуется хранить пинкод в заметка...</td>\n",
       "      <td>NaN</td>\n",
       "      <td>0.000000</td>\n",
       "      <td>1.0</td>\n",
       "      <td>0.0</td>\n",
       "      <td>0.886986</td>\n",
       "      <td>0.0</td>\n",
       "      <td>0.056122</td>\n",
       "      <td>0.543077</td>\n",
       "      <td>0.971645</td>\n",
       "      <td>0.0</td>\n",
       "    </tr>\n",
       "    <tr>\n",
       "      <th>3</th>\n",
       "      <td>Я потеряла карту</td>\n",
       "      <td>[\"[' Вы потеряли карту или ее украли\\\\nПрежде ...</td>\n",
       "      <td>Если вы не уверены, что карту украли, не спеши...</td>\n",
       "      <td>Если вы потеряли карту, вам следует немедленно...</td>\n",
       "      <td>0.5</td>\n",
       "      <td>0.870734</td>\n",
       "      <td>1.0</td>\n",
       "      <td>0.3</td>\n",
       "      <td>0.910199</td>\n",
       "      <td>0.0</td>\n",
       "      <td>0.200897</td>\n",
       "      <td>0.903016</td>\n",
       "      <td>0.991184</td>\n",
       "      <td>0.5</td>\n",
       "    </tr>\n",
       "    <tr>\n",
       "      <th>4</th>\n",
       "      <td>Почему при использовании карты важно не распис...</td>\n",
       "      <td>[\"['Проверяйте правильность суммы, указанной н...</td>\n",
       "      <td>Важно проверять правильность суммы перед подпи...</td>\n",
       "      <td>Подпись на квитанциях/чеках до проверки правил...</td>\n",
       "      <td>NaN</td>\n",
       "      <td>0.920934</td>\n",
       "      <td>1.0</td>\n",
       "      <td>0.0</td>\n",
       "      <td>0.954130</td>\n",
       "      <td>0.0</td>\n",
       "      <td>0.095980</td>\n",
       "      <td>0.860726</td>\n",
       "      <td>0.986887</td>\n",
       "      <td>0.5</td>\n",
       "    </tr>\n",
       "  </tbody>\n",
       "</table>\n",
       "</div>"
      ],
      "text/plain": [
       "                                            question  \\\n",
       "0                Можно ли не расписываться на карте?   \n",
       "1  Мой друг попросил меня дать свою карту для опл...   \n",
       "2  Безопасно ли хранить пинкод в заметках в телеф...   \n",
       "3                                   Я потеряла карту   \n",
       "4  Почему при использовании карты важно не распис...   \n",
       "\n",
       "                                            contexts  \\\n",
       "0  [\"['После получения карты поставьте свою подпи...   \n",
       "1  [\"['Никогда не принимайте рекомендации, советы...   \n",
       "2  [\"['Категорически запрещается записывать ПИН-к...   \n",
       "3  [\"[' Вы потеряли карту или ее украли\\\\nПрежде ...   \n",
       "4  [\"['Проверяйте правильность суммы, указанной н...   \n",
       "\n",
       "                                        ground_truth  \\\n",
       "0  При отсутствии подписи карта может быть не при...   \n",
       "1  Не передавайте карту другим лицам, в т.ч. родс...   \n",
       "2  Да, однако не указывайте в названии заметки, ч...   \n",
       "3  Если вы не уверены, что карту украли, не спеши...   \n",
       "4  Важно проверять правильность суммы перед подпи...   \n",
       "\n",
       "                                              answer  faithfulness  \\\n",
       "0    Не указано, можно ли не расписываться на карте.           NaN   \n",
       "1  Да, использование карты будет безопасным, если...           NaN   \n",
       "2  Нет, не рекомендуется хранить пинкод в заметка...           NaN   \n",
       "3  Если вы потеряли карту, вам следует немедленно...           0.5   \n",
       "4  Подпись на квитанциях/чеках до проверки правил...           NaN   \n",
       "\n",
       "   answer_relevancy  context_precision  context_relevancy  answer_similarity  \\\n",
       "0          0.000000                1.0                1.0           0.811101   \n",
       "1          0.841236                1.0                1.0           0.863962   \n",
       "2          0.000000                1.0                0.0           0.886986   \n",
       "3          0.870734                1.0                0.3           0.910199   \n",
       "4          0.920934                1.0                0.0           0.954130   \n",
       "\n",
       "   bleu_score  cos-sim-TF-IDF  sim-spacy  cos-sim-BertModel  human  \n",
       "0         0.0        0.077070   0.445012           0.962151    0.0  \n",
       "1         0.0        0.058044   0.845790           0.988961    0.0  \n",
       "2         0.0        0.056122   0.543077           0.971645    0.0  \n",
       "3         0.0        0.200897   0.903016           0.991184    0.5  \n",
       "4         0.0        0.095980   0.860726           0.986887    0.5  "
      ]
     },
     "execution_count": 4,
     "metadata": {},
     "output_type": "execute_result"
    }
   ],
   "source": [
    "import pandas as pd\n",
    "\n",
    "df = pd.read_csv(path)\n",
    "df.head()"
   ]
  },
  {
   "cell_type": "code",
   "execution_count": 9,
   "metadata": {},
   "outputs": [],
   "source": [
    "df['human'] = 0"
   ]
  },
  {
   "cell_type": "code",
   "execution_count": 27,
   "metadata": {},
   "outputs": [
    {
     "data": {
      "text/plain": [
       "1"
      ]
     },
     "execution_count": 27,
     "metadata": {},
     "output_type": "execute_result"
    }
   ],
   "source": [
    "from IPython.display import HTML\n",
    "\n",
    "def nice_print(ans):\n",
    "    html_cell = HTML(f\"<pre style='background-color: #efefef; padding: 10px; border: 1px solid #ccc; border-radius: 5px; white-space: pre-wrap; line-height: 1.5rem;'>{ans}</pre>\")\n",
    "    display(html_cell)"
   ]
  },
  {
   "cell_type": "code",
   "execution_count": 11,
   "metadata": {},
   "outputs": [
    {
     "name": "stdout",
     "output_type": "stream",
     "text": [
      "Строка 1\n"
     ]
    },
    {
     "data": {
      "text/html": [
       "<pre style='background-color: #efefef; padding: 10px; border: 1px solid #ccc; border-radius: 5px; white-space: pre-wrap; line-height: 1.5rem;'>Вопрос: Можно ли не расписываться на карте?</pre>"
      ],
      "text/plain": [
       "<IPython.core.display.HTML object>"
      ]
     },
     "metadata": {},
     "output_type": "display_data"
    },
    {
     "data": {
      "text/html": [
       "<pre style='background-color: #efefef; padding: 10px; border: 1px solid #ccc; border-radius: 5px; white-space: pre-wrap; line-height: 1.5rem;'>Ground Truth: При отсутствии подписи карта может быть не принята к оплате в торгово-сервисном предприятии, а также повышается риск использования карты злоумышленниками в случае ее утраты/кражи.</pre>"
      ],
      "text/plain": [
       "<IPython.core.display.HTML object>"
      ]
     },
     "metadata": {},
     "output_type": "display_data"
    },
    {
     "data": {
      "text/html": [
       "<pre style='background-color: #efefef; padding: 10px; border: 1px solid #ccc; border-radius: 5px; white-space: pre-wrap; line-height: 1.5rem;'>Answer: Не указано, можно ли не расписываться на карте.</pre>"
      ],
      "text/plain": [
       "<IPython.core.display.HTML object>"
      ]
     },
     "metadata": {},
     "output_type": "display_data"
    },
    {
     "name": "stdout",
     "output_type": "stream",
     "text": [
      "____________________________________________\n",
      "Строка 2\n"
     ]
    },
    {
     "data": {
      "text/html": [
       "<pre style='background-color: #efefef; padding: 10px; border: 1px solid #ccc; border-radius: 5px; white-space: pre-wrap; line-height: 1.5rem;'>Вопрос: Мой друг попросил меня дать свою карту для оплаты и потом вернуть, это не опасно?</pre>"
      ],
      "text/plain": [
       "<IPython.core.display.HTML object>"
      ]
     },
     "metadata": {},
     "output_type": "display_data"
    },
    {
     "data": {
      "text/html": [
       "<pre style='background-color: #efefef; padding: 10px; border: 1px solid #ccc; border-radius: 5px; white-space: pre-wrap; line-height: 1.5rem;'>Ground Truth: Не передавайте карту другим лицам, в т.ч. родственникам и знакомым для проведения транзакций и никогда не принимайте рекомендации, советы, помощь от третьих лиц при пользовании картой, особенно при снятии наличных денежных средств в банкоматах.</pre>"
      ],
      "text/plain": [
       "<IPython.core.display.HTML object>"
      ]
     },
     "metadata": {},
     "output_type": "display_data"
    },
    {
     "data": {
      "text/html": [
       "<pre style='background-color: #efefef; padding: 10px; border: 1px solid #ccc; border-radius: 5px; white-space: pre-wrap; line-height: 1.5rem;'>Answer: Да, использование карты будет безопасным, если следовать простым правилам, таким как подписание карты, обращение с ней бережно, хранение в безопасном месте и не передавать ее другим лицам. Однако, важно также внимательно ознакомиться с разделом \"Что такое ПИН-код и как обеспечить его конфиденциальность\".</pre>"
      ],
      "text/plain": [
       "<IPython.core.display.HTML object>"
      ]
     },
     "metadata": {},
     "output_type": "display_data"
    },
    {
     "name": "stdout",
     "output_type": "stream",
     "text": [
      "____________________________________________\n",
      "Строка 3\n"
     ]
    },
    {
     "data": {
      "text/html": [
       "<pre style='background-color: #efefef; padding: 10px; border: 1px solid #ccc; border-radius: 5px; white-space: pre-wrap; line-height: 1.5rem;'>Вопрос: Безопасно ли хранить пинкод в заметках в телефоне?</pre>"
      ],
      "text/plain": [
       "<IPython.core.display.HTML object>"
      ]
     },
     "metadata": {},
     "output_type": "display_data"
    },
    {
     "data": {
      "text/html": [
       "<pre style='background-color: #efefef; padding: 10px; border: 1px solid #ccc; border-radius: 5px; white-space: pre-wrap; line-height: 1.5rem;'>Ground Truth: Да, однако не указывайте в названии заметки, что это ПИН-код от Вашей карты.</pre>"
      ],
      "text/plain": [
       "<IPython.core.display.HTML object>"
      ]
     },
     "metadata": {},
     "output_type": "display_data"
    },
    {
     "data": {
      "text/html": [
       "<pre style='background-color: #efefef; padding: 10px; border: 1px solid #ccc; border-radius: 5px; white-space: pre-wrap; line-height: 1.5rem;'>Answer: Нет, не рекомендуется хранить пинкод в заметках в телефоне.</pre>"
      ],
      "text/plain": [
       "<IPython.core.display.HTML object>"
      ]
     },
     "metadata": {},
     "output_type": "display_data"
    },
    {
     "name": "stdout",
     "output_type": "stream",
     "text": [
      "____________________________________________\n",
      "Строка 4\n"
     ]
    },
    {
     "data": {
      "text/html": [
       "<pre style='background-color: #efefef; padding: 10px; border: 1px solid #ccc; border-radius: 5px; white-space: pre-wrap; line-height: 1.5rem;'>Вопрос: Я потеряла карту</pre>"
      ],
      "text/plain": [
       "<IPython.core.display.HTML object>"
      ]
     },
     "metadata": {},
     "output_type": "display_data"
    },
    {
     "data": {
      "text/html": [
       "<pre style='background-color: #efefef; padding: 10px; border: 1px solid #ccc; border-radius: 5px; white-space: pre-wrap; line-height: 1.5rem;'>Ground Truth: Если вы не уверены, что карту украли, не спешите ее блокировать, установите лимит «0» на операции и запретите покупки через Интернет, если карта будет найдена лимиты можно изменить. В случае, если вы полагаете, что Вашу карту всё-таки украли, то как можно быстрее, сообщите о случившемся в Банк посредством дистанционного обслуживания и заблокируйте карту. Это возможно сделать по телефону, в интернет-банке или в мобильном приложении Банка.</pre>"
      ],
      "text/plain": [
       "<IPython.core.display.HTML object>"
      ]
     },
     "metadata": {},
     "output_type": "display_data"
    },
    {
     "data": {
      "text/html": [
       "<pre style='background-color: #efefef; padding: 10px; border: 1px solid #ccc; border-radius: 5px; white-space: pre-wrap; line-height: 1.5rem;'>Answer: Если вы потеряли карту, вам следует немедленно заблокировать ее через дистанционное обслуживание и сообщить об этом в Банк. Также обратитесь к своему оператору сотовой связи для блокировки SIM-карты, если у вас есть мобильный телефон, на котором установлено приложение банка. Если у вас возникли претензии по списаниям, отраженным в выписке по карточному счету, обратитесь в банк в сроки, указанные в общих условиях выпуска и обслуживания кредитных карт и общих условиях открытия, ведения и закрытия счетов физических лиц, а также выпуска и обслуживания расчетных карт. Оформите заявление на отказ от операций и приложите документы, которые доказывают, что в определенный момент вы не могли совершить эти операции.</pre>"
      ],
      "text/plain": [
       "<IPython.core.display.HTML object>"
      ]
     },
     "metadata": {},
     "output_type": "display_data"
    },
    {
     "name": "stdout",
     "output_type": "stream",
     "text": [
      "____________________________________________\n",
      "Строка 5\n"
     ]
    },
    {
     "data": {
      "text/html": [
       "<pre style='background-color: #efefef; padding: 10px; border: 1px solid #ccc; border-radius: 5px; white-space: pre-wrap; line-height: 1.5rem;'>Вопрос: Почему при использовании карты важно не расписываться на квитанциях/чеках до того, как вы проверите правильность указанной суммы?</pre>"
      ],
      "text/plain": [
       "<IPython.core.display.HTML object>"
      ]
     },
     "metadata": {},
     "output_type": "display_data"
    },
    {
     "data": {
      "text/html": [
       "<pre style='background-color: #efefef; padding: 10px; border: 1px solid #ccc; border-radius: 5px; white-space: pre-wrap; line-height: 1.5rem;'>Ground Truth: Важно проверять правильность суммы перед подписанием квитанции/чека, потому что после подписи вы соглашаетесь с этой суммой, и она будет списана с вашего счета.</pre>"
      ],
      "text/plain": [
       "<IPython.core.display.HTML object>"
      ]
     },
     "metadata": {},
     "output_type": "display_data"
    },
    {
     "data": {
      "text/html": [
       "<pre style='background-color: #efefef; padding: 10px; border: 1px solid #ccc; border-radius: 5px; white-space: pre-wrap; line-height: 1.5rem;'>Answer: Подпись на квитанциях/чеках до проверки правильности указанной суммы может привести к тому, что вы подпишетесь под неправильной суммой. Это может повлечь за собой финансовые потери или другие проблемы. Поэтому важно сначала проверить сумму, а затем уже подписывать квитанцию/чек.</pre>"
      ],
      "text/plain": [
       "<IPython.core.display.HTML object>"
      ]
     },
     "metadata": {},
     "output_type": "display_data"
    },
    {
     "name": "stdout",
     "output_type": "stream",
     "text": [
      "____________________________________________\n",
      "Строка 6\n"
     ]
    },
    {
     "data": {
      "text/html": [
       "<pre style='background-color: #efefef; padding: 10px; border: 1px solid #ccc; border-radius: 5px; white-space: pre-wrap; line-height: 1.5rem;'>Вопрос: Что делать, если я потеряла телефон, на котором было установлено мобильное приложение банка?</pre>"
      ],
      "text/plain": [
       "<IPython.core.display.HTML object>"
      ]
     },
     "metadata": {},
     "output_type": "display_data"
    },
    {
     "data": {
      "text/html": [
       "<pre style='background-color: #efefef; padding: 10px; border: 1px solid #ccc; border-radius: 5px; white-space: pre-wrap; line-height: 1.5rem;'>Ground Truth: Если вы потеряли телефон с установленным мобильным приложением банка, необходимо:\n",
       "\n",
       "Срочно обратиться к оператору сотовой связи для блокировки SIM-карты.\n",
       "Обратиться в банк через дистанционное обслуживание для блокировки доступа в мобильное приложение и удаления данных карты с телефона.</pre>"
      ],
      "text/plain": [
       "<IPython.core.display.HTML object>"
      ]
     },
     "metadata": {},
     "output_type": "display_data"
    },
    {
     "data": {
      "text/html": [
       "<pre style='background-color: #efefef; padding: 10px; border: 1px solid #ccc; border-radius: 5px; white-space: pre-wrap; line-height: 1.5rem;'>Answer: Если вы потеряли телефон, на котором было установлено мобильное приложение банка, вам следует немедленно связаться со службой поддержки вашего банка и сообщить им о произошедшем. Они помогут вам заблокировать доступ к вашему счету и предотвратить возможное мошенничество. Также рекомендуется сменить пароль от своего аккаунта в банке и проверить выписку по своему счету на предмет подозрительных транзакций.</pre>"
      ],
      "text/plain": [
       "<IPython.core.display.HTML object>"
      ]
     },
     "metadata": {},
     "output_type": "display_data"
    },
    {
     "name": "stdout",
     "output_type": "stream",
     "text": [
      "____________________________________________\n",
      "Строка 7\n"
     ]
    },
    {
     "data": {
      "text/html": [
       "<pre style='background-color: #efefef; padding: 10px; border: 1px solid #ccc; border-radius: 5px; white-space: pre-wrap; line-height: 1.5rem;'>Вопрос: Можно ли использовать интернет-кафе и другие общедоступные места для совершения операций по карте в интернете? Объясните причину.</pre>"
      ],
      "text/plain": [
       "<IPython.core.display.HTML object>"
      ]
     },
     "metadata": {},
     "output_type": "display_data"
    },
    {
     "data": {
      "text/html": [
       "<pre style='background-color: #efefef; padding: 10px; border: 1px solid #ccc; border-radius: 5px; white-space: pre-wrap; line-height: 1.5rem;'>Ground Truth: Нет, не рекомендуется использовать интернет-кафе и другие общедоступные места для совершения операций по карте в интернете. Причина в том, что такие общедоступные сети являются менее безопасными, и есть риск перехвата данных карты злоумышленниками.</pre>"
      ],
      "text/plain": [
       "<IPython.core.display.HTML object>"
      ]
     },
     "metadata": {},
     "output_type": "display_data"
    },
    {
     "data": {
      "text/html": [
       "<pre style='background-color: #efefef; padding: 10px; border: 1px solid #ccc; border-radius: 5px; white-space: pre-wrap; line-height: 1.5rem;'>Answer: Нет, нельзя использовать интернет-кафе и другие общедоступные места для совершения операций по карте в интернете. Это связано с риском компрометации личных данных и финансовых средств клиента. Рекомендуется использовать только надежные и безопасные способы оплаты, такие как домашнее подключение к интернету или использование защищенных мобильных приложений.</pre>"
      ],
      "text/plain": [
       "<IPython.core.display.HTML object>"
      ]
     },
     "metadata": {},
     "output_type": "display_data"
    },
    {
     "name": "stdout",
     "output_type": "stream",
     "text": [
      "____________________________________________\n",
      "Строка 8\n"
     ]
    },
    {
     "data": {
      "text/html": [
       "<pre style='background-color: #efefef; padding: 10px; border: 1px solid #ccc; border-radius: 5px; white-space: pre-wrap; line-height: 1.5rem;'>Вопрос: Что делать, если я получил SMS-оповещение о операции по карте, которую я не совершал?</pre>"
      ],
      "text/plain": [
       "<IPython.core.display.HTML object>"
      ]
     },
     "metadata": {},
     "output_type": "display_data"
    },
    {
     "data": {
      "text/html": [
       "<pre style='background-color: #efefef; padding: 10px; border: 1px solid #ccc; border-radius: 5px; white-space: pre-wrap; line-height: 1.5rem;'>Ground Truth: Если вы получили SMS-оповещение о операции, которую не совершали, нужно как можно быстрее сообщить об этом в банк через дистанционное обслуживание и заблокировать карту.</pre>"
      ],
      "text/plain": [
       "<IPython.core.display.HTML object>"
      ]
     },
     "metadata": {},
     "output_type": "display_data"
    },
    {
     "data": {
      "text/html": [
       "<pre style='background-color: #efefef; padding: 10px; border: 1px solid #ccc; border-radius: 5px; white-space: pre-wrap; line-height: 1.5rem;'>Answer: Проверьте наличие карты. Если карта у Вас, то возможно, данные Вашей карты стали известны третьим лицам. Пожалуйста, учитывайте, что иногда SMS-сообщения могут доставляться с задержкой, поэтому вспомните соответствует ли текст в SMS-сообщении операциям, которые Вы совершили по карте за последнее время. Если Вы уверены, что не совершали данную операцию, то свяжитесь с Банком и оформите претензию.</pre>"
      ],
      "text/plain": [
       "<IPython.core.display.HTML object>"
      ]
     },
     "metadata": {},
     "output_type": "display_data"
    },
    {
     "name": "stdout",
     "output_type": "stream",
     "text": [
      "____________________________________________\n",
      "Строка 9\n"
     ]
    },
    {
     "data": {
      "text/html": [
       "<pre style='background-color: #efefef; padding: 10px; border: 1px solid #ccc; border-radius: 5px; white-space: pre-wrap; line-height: 1.5rem;'>Вопрос: Как обезопасить себя от съема данных карты в банкомате злоумышленниками? Приведи два способа.</pre>"
      ],
      "text/plain": [
       "<IPython.core.display.HTML object>"
      ]
     },
     "metadata": {},
     "output_type": "display_data"
    },
    {
     "data": {
      "text/html": [
       "<pre style='background-color: #efefef; padding: 10px; border: 1px solid #ccc; border-radius: 5px; white-space: pre-wrap; line-height: 1.5rem;'>Ground Truth: Чтобы обезопасить себя от съема данных карты в банкомате:\n",
       "\n",
       "Внимательно осматривайте банкомат перед использованием на наличие подозрительных накладок и посторонних устройств.\n",
       "Прикрывайте рукой клавиатуру при вводе ПИН-кода, чтобы его не могли увидеть окружающие.</pre>"
      ],
      "text/plain": [
       "<IPython.core.display.HTML object>"
      ]
     },
     "metadata": {},
     "output_type": "display_data"
    },
    {
     "data": {
      "text/html": [
       "<pre style='background-color: #efefef; padding: 10px; border: 1px solid #ccc; border-radius: 5px; white-space: pre-wrap; line-height: 1.5rem;'>Answer: Для того чтобы обезопасить себя от съема данных карты в банкомате злоумышленниками, можно следовать следующим двум способам:\n",
       "\n",
       "1. Обращаться с картой аккуратно и бережно, хранить ее в безопасном месте, не оставлять в автомобиле, номере гостиницы или других местах, где посторонние могут взять карту и скопировать информацию.\n",
       "2. Никогда не принимать рекомендации, советы или помощь от третьих лиц при использовании карты, особенно при снятии наличных денежных средств в банкоматах. В случае возникновения затруднений при совершении операции следует обратиться в Банк посредством дистанционного обслуживания.</pre>"
      ],
      "text/plain": [
       "<IPython.core.display.HTML object>"
      ]
     },
     "metadata": {},
     "output_type": "display_data"
    },
    {
     "name": "stdout",
     "output_type": "stream",
     "text": [
      "____________________________________________\n",
      "Строка 10\n"
     ]
    },
    {
     "data": {
      "text/html": [
       "<pre style='background-color: #efefef; padding: 10px; border: 1px solid #ccc; border-radius: 5px; white-space: pre-wrap; line-height: 1.5rem;'>Вопрос: Правда ли, что при бронировании гостиницы по карте мне необходимо сообщить все реквизиты карты, включая ПИН-код? Если нет, то что именно требуется сообщить?</pre>"
      ],
      "text/plain": [
       "<IPython.core.display.HTML object>"
      ]
     },
     "metadata": {},
     "output_type": "display_data"
    },
    {
     "data": {
      "text/html": [
       "<pre style='background-color: #efefef; padding: 10px; border: 1px solid #ccc; border-radius: 5px; white-space: pre-wrap; line-height: 1.5rem;'>Ground Truth: Нет, неправда. При бронировании гостиницы по карте не требуется сообщать ПИН-код. Обычно для бронирования запрашивают ваше имя, номер карты, срок ее действия, иногда трехзначный код безопасности (CVV/CVC) с оборотной стороны карты и планируемый срок пребывания.</pre>"
      ],
      "text/plain": [
       "<IPython.core.display.HTML object>"
      ]
     },
     "metadata": {},
     "output_type": "display_data"
    },
    {
     "data": {
      "text/html": [
       "<pre style='background-color: #efefef; padding: 10px; border: 1px solid #ccc; border-radius: 5px; white-space: pre-wrap; line-height: 1.5rem;'>Answer: При бронировании гостиницы по карте вам потребуется сообщить следующие реквизиты: ваше имя, номер карты, срок ее действия и, возможно, трехзначный код безопасности, напечатанный на обратной стороне карты на полосе для подписи.</pre>"
      ],
      "text/plain": [
       "<IPython.core.display.HTML object>"
      ]
     },
     "metadata": {},
     "output_type": "display_data"
    },
    {
     "name": "stdout",
     "output_type": "stream",
     "text": [
      "____________________________________________\n",
      "Строка 11\n"
     ]
    },
    {
     "data": {
      "text/html": [
       "<pre style='background-color: #efefef; padding: 10px; border: 1px solid #ccc; border-radius: 5px; white-space: pre-wrap; line-height: 1.5rem;'>Вопрос: Если я из другой страны и у меня нет паспорта РФ, что мне делать?</pre>"
      ],
      "text/plain": [
       "<IPython.core.display.HTML object>"
      ]
     },
     "metadata": {},
     "output_type": "display_data"
    },
    {
     "data": {
      "text/html": [
       "<pre style='background-color: #efefef; padding: 10px; border: 1px solid #ccc; border-radius: 5px; white-space: pre-wrap; line-height: 1.5rem;'>Ground Truth: \n",
       "                        Если вы из другой страны, то для заключения договора вам неообходимы документы, удостоверяющие Вашу личность. Для иностранных граждан это:\n",
       "                            •паспорт иностранного гражданина;\n",
       "                            •дипломатический паспорт, служебный паспорт, удостоверяющие личность иностранного гражданина.\n",
       "                        Также необходимы документы, подтверждающие право иностранного гражданина (проживание) в Российской Федерации (миграционной карты в случае отсутствия иных документов), в случае если наличие таких документов обязательно в соответствии с международными договорами Российской Федерации и законодательством Российской Федерации;Документами, подтверждающими право иностранного гражданина или лица без гражданства на пребывание (проживание) в РФ, являются:\n",
       "                            •миграционная карта в случае отсутствия иных документов;\n",
       "                            •вид на жительство;\n",
       "                            •разрешение на временное проживание;\n",
       "                            •виза;\n",
       "                            •иной документ, подтверждающий в соответствии с международными договорами Российской Федерации и законодательством РФ право иностранного гражданина или лица без гражданства на пребывание (проживание) в РФ. </pre>"
      ],
      "text/plain": [
       "<IPython.core.display.HTML object>"
      ]
     },
     "metadata": {},
     "output_type": "display_data"
    },
    {
     "data": {
      "text/html": [
       "<pre style='background-color: #efefef; padding: 10px; border: 1px solid #ccc; border-radius: 5px; white-space: pre-wrap; line-height: 1.5rem;'>Answer: Если вы являетесь лицом без гражданства и находитесь в России, вам следует обратиться к соответствующим органам для получения документа, удостоверяющего вашу личность. В тексте упоминаются различные документы, которые могут быть признаны в качестве такого документа, включая разрешение на временное проживание, вид на жительство, удостоверение беженца и другие. Вам следует связаться с миграционной службой или другими компетентными органами для получения дополнительной информации и помощи.</pre>"
      ],
      "text/plain": [
       "<IPython.core.display.HTML object>"
      ]
     },
     "metadata": {},
     "output_type": "display_data"
    },
    {
     "name": "stdout",
     "output_type": "stream",
     "text": [
      "____________________________________________\n",
      "Строка 12\n"
     ]
    },
    {
     "data": {
      "text/html": [
       "<pre style='background-color: #efefef; padding: 10px; border: 1px solid #ccc; border-radius: 5px; white-space: pre-wrap; line-height: 1.5rem;'>Вопрос: В течении скольких дней действительна выписка из ЕГРЮЛ?</pre>"
      ],
      "text/plain": [
       "<IPython.core.display.HTML object>"
      ]
     },
     "metadata": {},
     "output_type": "display_data"
    },
    {
     "data": {
      "text/html": [
       "<pre style='background-color: #efefef; padding: 10px; border: 1px solid #ccc; border-radius: 5px; white-space: pre-wrap; line-height: 1.5rem;'>Ground Truth: Выписка из Единого государственного реестра юридических лиц (ЕГРЮЛ) действительна в течении 30 дней с даты ее выдачи.</pre>"
      ],
      "text/plain": [
       "<IPython.core.display.HTML object>"
      ]
     },
     "metadata": {},
     "output_type": "display_data"
    },
    {
     "data": {
      "text/html": [
       "<pre style='background-color: #efefef; padding: 10px; border: 1px solid #ccc; border-radius: 5px; white-space: pre-wrap; line-height: 1.5rem;'>Answer: Выписка из ЕГРЮЛ действительна в течение 30 календарных дней с даты ее выдачи.</pre>"
      ],
      "text/plain": [
       "<IPython.core.display.HTML object>"
      ]
     },
     "metadata": {},
     "output_type": "display_data"
    },
    {
     "name": "stdout",
     "output_type": "stream",
     "text": [
      "____________________________________________\n",
      "Строка 13\n"
     ]
    },
    {
     "data": {
      "text/html": [
       "<pre style='background-color: #efefef; padding: 10px; border: 1px solid #ccc; border-radius: 5px; white-space: pre-wrap; line-height: 1.5rem;'>Вопрос: Нужно ли ИП указывать свой сайт для предприятия?</pre>"
      ],
      "text/plain": [
       "<IPython.core.display.HTML object>"
      ]
     },
     "metadata": {},
     "output_type": "display_data"
    },
    {
     "data": {
      "text/html": [
       "<pre style='background-color: #efefef; padding: 10px; border: 1px solid #ccc; border-radius: 5px; white-space: pre-wrap; line-height: 1.5rem;'>Ground Truth: Да, индивидуальному предпринимателю необходимо указать сведения о доменном имени, указателе страницы сайта в сети «Интернет».</pre>"
      ],
      "text/plain": [
       "<IPython.core.display.HTML object>"
      ]
     },
     "metadata": {},
     "output_type": "display_data"
    },
    {
     "data": {
      "text/html": [
       "<pre style='background-color: #efefef; padding: 10px; border: 1px solid #ccc; border-radius: 5px; white-space: pre-wrap; line-height: 1.5rem;'>Answer: Да, ИП должен указывать свой сайт для предприятия.</pre>"
      ],
      "text/plain": [
       "<IPython.core.display.HTML object>"
      ]
     },
     "metadata": {},
     "output_type": "display_data"
    },
    {
     "name": "stdout",
     "output_type": "stream",
     "text": [
      "____________________________________________\n",
      "Строка 14\n"
     ]
    },
    {
     "data": {
      "text/html": [
       "<pre style='background-color: #efefef; padding: 10px; border: 1px solid #ccc; border-radius: 5px; white-space: pre-wrap; line-height: 1.5rem;'>Вопрос: Может ли Банк запросить дополнительные документы - не из списка обязательных?</pre>"
      ],
      "text/plain": [
       "<IPython.core.display.HTML object>"
      ]
     },
     "metadata": {},
     "output_type": "display_data"
    },
    {
     "data": {
      "text/html": [
       "<pre style='background-color: #efefef; padding: 10px; border: 1px solid #ccc; border-radius: 5px; white-space: pre-wrap; line-height: 1.5rem;'>Ground Truth: Да, Банк может запросить у Вас дополнительные не предусмотренные Перечнем документы.</pre>"
      ],
      "text/plain": [
       "<IPython.core.display.HTML object>"
      ]
     },
     "metadata": {},
     "output_type": "display_data"
    },
    {
     "data": {
      "text/html": [
       "<pre style='background-color: #efefef; padding: 10px; border: 1px solid #ccc; border-radius: 5px; white-space: pre-wrap; line-height: 1.5rem;'>Answer: Да, Банк имеет право дополнительно запросить оборотно-сальдовую ведомость по всем счетам бухгалтерского учета и/или регистры бухгалтерского учета.</pre>"
      ],
      "text/plain": [
       "<IPython.core.display.HTML object>"
      ]
     },
     "metadata": {},
     "output_type": "display_data"
    },
    {
     "name": "stdout",
     "output_type": "stream",
     "text": [
      "____________________________________________\n",
      "Строка 15\n"
     ]
    },
    {
     "data": {
      "text/html": [
       "<pre style='background-color: #efefef; padding: 10px; border: 1px solid #ccc; border-radius: 5px; white-space: pre-wrap; line-height: 1.5rem;'>Вопрос: Какие документы нужно предоставить физическому лицу для открытия счета?</pre>"
      ],
      "text/plain": [
       "<IPython.core.display.HTML object>"
      ]
     },
     "metadata": {},
     "output_type": "display_data"
    },
    {
     "data": {
      "text/html": [
       "<pre style='background-color: #efefef; padding: 10px; border: 1px solid #ccc; border-radius: 5px; white-space: pre-wrap; line-height: 1.5rem;'>Ground Truth: Физическому лицу для открытия счета необходимо предоставить документ, удостоверяющий личность (паспорт или иной документ из списка в п.1.4), документ, подтверждающий регистрацию или место пребывания, ИНН, СНИЛС и контактную информацию.</pre>"
      ],
      "text/plain": [
       "<IPython.core.display.HTML object>"
      ]
     },
     "metadata": {},
     "output_type": "display_data"
    },
    {
     "data": {
      "text/html": [
       "<pre style='background-color: #efefef; padding: 10px; border: 1px solid #ccc; border-radius: 5px; white-space: pre-wrap; line-height: 1.5rem;'>Answer: Для открытия счета физическому лицу необходимо предоставить следующие документы:\n",
       "- Документы, указанные в Перечне, в зависимости от соответствующей категории Клиента (физическое лицо, юридическое лицо и т.п.).\n",
       "- Договор, на основании которого осуществляется доверительное управление.</pre>"
      ],
      "text/plain": [
       "<IPython.core.display.HTML object>"
      ]
     },
     "metadata": {},
     "output_type": "display_data"
    },
    {
     "name": "stdout",
     "output_type": "stream",
     "text": [
      "____________________________________________\n",
      "Строка 16\n"
     ]
    },
    {
     "data": {
      "text/html": [
       "<pre style='background-color: #efefef; padding: 10px; border: 1px solid #ccc; border-radius: 5px; white-space: pre-wrap; line-height: 1.5rem;'>Вопрос: Какие документы необходимо предоставить юридическому лицу для открытия счета в Банке? Можно ли предоставить сканы документов или нужны оригиналы?</pre>"
      ],
      "text/plain": [
       "<IPython.core.display.HTML object>"
      ]
     },
     "metadata": {},
     "output_type": "display_data"
    },
    {
     "data": {
      "text/html": [
       "<pre style='background-color: #efefef; padding: 10px; border: 1px solid #ccc; border-radius: 5px; white-space: pre-wrap; line-height: 1.5rem;'>Ground Truth: Юридическому лицу необходимо предоставить учредительные документы, выписку из ЕГРЮЛ, документ об избрании руководителя, документы, подтверждающие личность руководителя и лиц, имеющих право подписи. Документы можно предоставить в копиях, заверенных нотариально, регистрирующим органом, руководителем или сотрудником Банка при наличии оригиналов.</pre>"
      ],
      "text/plain": [
       "<IPython.core.display.HTML object>"
      ]
     },
     "metadata": {},
     "output_type": "display_data"
    },
    {
     "data": {
      "text/html": [
       "<pre style='background-color: #efefef; padding: 10px; border: 1px solid #ccc; border-radius: 5px; white-space: pre-wrap; line-height: 1.5rem;'>Answer: Для открытия счета в Банке юридическому лицу необходимо предоставить следующие документы:\n",
       "- Учредительные документы юридического лица: Устав юридического лица и/или Учредительный договор. Банк может принять копии этих документов, заверенные регистрирующим органом.\n",
       "- Выписку из Единого государственного реестра юридических лиц (ЕГРЮЛ). Банк может принять копию выписки, заверенную регистрирующим органом.\n",
       "Оригиналы документов не требуются, достаточно предоставить их копии, заверенные соответствующими органами.</pre>"
      ],
      "text/plain": [
       "<IPython.core.display.HTML object>"
      ]
     },
     "metadata": {},
     "output_type": "display_data"
    },
    {
     "name": "stdout",
     "output_type": "stream",
     "text": [
      "____________________________________________\n",
      "Строка 17\n"
     ]
    },
    {
     "data": {
      "text/html": [
       "<pre style='background-color: #efefef; padding: 10px; border: 1px solid #ccc; border-radius: 5px; white-space: pre-wrap; line-height: 1.5rem;'>Вопрос: Можно ли открыть счет индивидуальному предпринимателю – иностранному гражданину? Какие документы для этого нужны?</pre>"
      ],
      "text/plain": [
       "<IPython.core.display.HTML object>"
      ]
     },
     "metadata": {},
     "output_type": "display_data"
    },
    {
     "data": {
      "text/html": [
       "<pre style='background-color: #efefef; padding: 10px; border: 1px solid #ccc; border-radius: 5px; white-space: pre-wrap; line-height: 1.5rem;'>Ground Truth: Да, индивидуальному предпринимателю-иностранному гражданину можно открыть счет. Для этого нужно предоставить документ, удостоверяющий личность, документ, подтверждающий право пребывания/проживания в РФ (напр. миграционную карту), ИНН, СНИЛС, выписку из ЕГРИП и контактную информацию.</pre>"
      ],
      "text/plain": [
       "<IPython.core.display.HTML object>"
      ]
     },
     "metadata": {},
     "output_type": "display_data"
    },
    {
     "data": {
      "text/html": [
       "<pre style='background-color: #efefef; padding: 10px; border: 1px solid #ccc; border-radius: 5px; white-space: pre-wrap; line-height: 1.5rem;'>Answer: Да, согласно представленному контексту, индивидуальный предприниматель – иностранный гражданин может открыть счет в банке Российской Федерации. Для этого ему необходимо предоставить следующие документы: разрешение Национального (Центрального) банка иностранного государства на открытие счета (с заверенным переводом на русский язык), если такое разрешение требуется в соответствии с международными договорами с участием Российской Федерации или законодательством иностранного государства; документ, подтверждающий полномочия руководителя ЮЛ-нерезидента (единоличного исполнительного органа ЮЛ-нерезидента); документ, удостоверяющий личность лица (лиц), наделенного (ых) правом подписи и руководителя ЮЛ-нерезидента, а также лица (лиц) уполномоченного (ых) распоряжаться денежными средствами, находящимися на счете ЮЛ-нерезидента, используя аналог собственноручной подписи, представителя ЮЛ-нерезидента, и указанные в пункте 1.4 настоящего Перечня. Иностранные граждане или лица без гражданства, являющиеся представителями ЮЛ-нерезидента, предоставляют копию документа, подтверждающего право такого лица на пребывание (проживание) в Российской Федерации (миграционной карты в случае отсутствия иных документов), в случае если наличие таких документов обязательно в соответствии с международными договорами Российской Федерации и законодательством Российской Федерации.</pre>"
      ],
      "text/plain": [
       "<IPython.core.display.HTML object>"
      ]
     },
     "metadata": {},
     "output_type": "display_data"
    },
    {
     "name": "stdout",
     "output_type": "stream",
     "text": [
      "____________________________________________\n",
      "Строка 18\n"
     ]
    },
    {
     "data": {
      "text/html": [
       "<pre style='background-color: #efefef; padding: 10px; border: 1px solid #ccc; border-radius: 5px; white-space: pre-wrap; line-height: 1.5rem;'>Вопрос: Какие документы потребуются, если открывать счет для нотариуса, занимающегося частной практикой? Может ли нотариус быть иностранцем при этом?</pre>"
      ],
      "text/plain": [
       "<IPython.core.display.HTML object>"
      ]
     },
     "metadata": {},
     "output_type": "display_data"
    },
    {
     "data": {
      "text/html": [
       "<pre style='background-color: #efefef; padding: 10px; border: 1px solid #ccc; border-radius: 5px; white-space: pre-wrap; line-height: 1.5rem;'>Ground Truth: Для открытия счета нотариусу, занимающемуся частной практикой, требуется предоставить документ, удостоверяющий личность, документ о назначении на должность нотариуса от органов юстиции, регистрационные документы, финансовые документы и контактные данные. Нотариус может быть иностранцем, в этом случае дополнительно потребуется документ, подтверждающий право на пребывание/проживание в РФ.</pre>"
      ],
      "text/plain": [
       "<IPython.core.display.HTML object>"
      ]
     },
     "metadata": {},
     "output_type": "display_data"
    },
    {
     "data": {
      "text/html": [
       "<pre style='background-color: #efefef; padding: 10px; border: 1px solid #ccc; border-radius: 5px; white-space: pre-wrap; line-height: 1.5rem;'>Answer: Для открытия счета нотариусу, занимающемуся частной практикой, потребуется предоставить следующие документы:\n",
       "   - Документ, удостоверяющий личность и указанный в пункте 1.4 настоящего Перечня;\n",
       "   - Документ, подтверждающий наделение нотариуса полномочиями (назначение на должность), выдаваемый органами юстиции субъектов Российской Федерации, в соответствии с законодательством Российской Федерации;\n",
       "   - Адрес места жительства (регистрации) или места пребывания (если его нельзя установить из документа, удостоверяющего личность, а также если адрес места жительства (регистрации) или места пребывания не совпадают);\n",
       "   - Контактная информация (например, номер телефона, факса, адрес электронной почты, почтовый адрес (при наличии);\n",
       "   - Выписка из ЕГРИП. Банком может быть принята копия выписки, заверенная регистрирующим органом. Выписка считается действительной для предоставления в Банк в течение 30 (тридцати) календарных дней с даты ее выдачи и должна содержать актуальные сведения на дату ее предоставления;\n",
       "   - Информация о страховом номере индивидуального лицевого счета застрахованного лица в системе обязательного пенсионного страхования (при необходимости);\n",
       "   - Сведения о целях установления и предполагаемом характере деловых отношений с Банком, сведения о целях финансово-хозяйственной деятельности (по форме Банка). Сведения о целях установления и предполагаемом характере деловых отношений с Банком, а также сведения о целях финансово-хозяйственной деятельности клиента устанавливаются однократно при приеме Клиента на обслуживание и обновляются при возникновении сомнений в их достоверности.\n",
       "\n",
       "Ответ на второй вопрос: Да, нотариус может быть иностранцем при открытии счета.</pre>"
      ],
      "text/plain": [
       "<IPython.core.display.HTML object>"
      ]
     },
     "metadata": {},
     "output_type": "display_data"
    },
    {
     "name": "stdout",
     "output_type": "stream",
     "text": [
      "____________________________________________\n",
      "Строка 19\n"
     ]
    },
    {
     "data": {
      "text/html": [
       "<pre style='background-color: #efefef; padding: 10px; border: 1px solid #ccc; border-radius: 5px; white-space: pre-wrap; line-height: 1.5rem;'>Вопрос: Как узнать, кто является бенефициарным владельцем юридического лица? Какие документы для этого нужны?</pre>"
      ],
      "text/plain": [
       "<IPython.core.display.HTML object>"
      ]
     },
     "metadata": {},
     "output_type": "display_data"
    },
    {
     "data": {
      "text/html": [
       "<pre style='background-color: #efefef; padding: 10px; border: 1px solid #ccc; border-radius: 5px; white-space: pre-wrap; line-height: 1.5rem;'>Ground Truth: Для идентификации бенефициарного владельца юридического лица необходимо предоставить документы, удостоверяющие личность бенефициара, документ о регистрации/пребывании в РФ (если бенефициар - иностранец), ИНН, адрес регистрации и контактные данные. Также можно заполнить анкету бенефициарного владельца по форме Банка.</pre>"
      ],
      "text/plain": [
       "<IPython.core.display.HTML object>"
      ]
     },
     "metadata": {},
     "output_type": "display_data"
    },
    {
     "data": {
      "text/html": [
       "<pre style='background-color: #efefef; padding: 10px; border: 1px solid #ccc; border-radius: 5px; white-space: pre-wrap; line-height: 1.5rem;'>Answer: Для того чтобы узнать, кто является бенефициарным владельцем юридического лица, необходимо предоставить следующие документы и сведения:\n",
       "- Документы, удостоверяющие личность и указанные в пункте 1.4 настоящего Перечня;\n",
       "- В отношении физического лица, которое является иностранными гражданами или лицами без гражданства – документ, подтверждающий право иностранного гражданина или лица без гражданства на пребывание (проживание) в Российской Федерации (миграционной карты в случае отсутствия иных документов), в случае если наличие таких документов обязательно в соответствии с международными договорами Российской Федерации и законодательством Российской Федерации, и указанные в пункте 1.5 настоящего Перечня;\n",
       "- Сведения об идентификационном номере налогоплательщика (при наличии);\n",
       "- Адрес места жительства (регистрации) или места пребывания (если его нельзя установить из документа, удостоверяющего личность, а также если адрес места жительства (регистрации) или места пребывания не совпадают);\n",
       "- Контактная информация (например, номер телефона, факса, адрес электронной почты, почтовый адрес (при наличии).\n",
       "Идентификация бенефициарных владельцев может осуществляться на основании Анкеты физического лица – бенефициарного владельца по форме Банка, подписанной Клиентом (в том числе при наличии бенефициарного владельца, отличного от Клиента-физического лица).</pre>"
      ],
      "text/plain": [
       "<IPython.core.display.HTML object>"
      ]
     },
     "metadata": {},
     "output_type": "display_data"
    },
    {
     "name": "stdout",
     "output_type": "stream",
     "text": [
      "____________________________________________\n",
      "Строка 20\n"
     ]
    },
    {
     "data": {
      "text/html": [
       "<pre style='background-color: #efefef; padding: 10px; border: 1px solid #ccc; border-radius: 5px; white-space: pre-wrap; line-height: 1.5rem;'>Вопрос: Расскажи про термины 'Договор страхования' и 'КАСКО'</pre>"
      ],
      "text/plain": [
       "<IPython.core.display.HTML object>"
      ]
     },
     "metadata": {},
     "output_type": "display_data"
    },
    {
     "data": {
      "text/html": [
       "<pre style='background-color: #efefef; padding: 10px; border: 1px solid #ccc; border-radius: 5px; white-space: pre-wrap; line-height: 1.5rem;'>Ground Truth:  Да, конечно! Договор страхования — это договор, по которому одна сторона (Страховщик) обязуется за обусловленную договором \n",
       "                    плату (страховую премию) при наступлении предусмотренного в договоре события (страхового случая) осуществить \n",
       "                    другой стороне (страхователю) или иному лицу, в пользу которого заключен договор (выгодоприобретателю), \n",
       "                    страховое возмещение в пределах определенной договором суммы (страховой суммы). \n",
       "                    КАСКО — это комбинированное страхование транспортных средств и сопутствующих рисков.</pre>"
      ],
      "text/plain": [
       "<IPython.core.display.HTML object>"
      ]
     },
     "metadata": {},
     "output_type": "display_data"
    },
    {
     "data": {
      "text/html": [
       "<pre style='background-color: #efefef; padding: 10px; border: 1px solid #ccc; border-radius: 5px; white-space: pre-wrap; line-height: 1.5rem;'>Answer: Договор страхования - это соглашение между страхователем и страховщиком, в котором определяются условия и размер выплаты страхового возмещения при наступлении страхового случая. В контексте данного текста, речь идет о договоре ОСАГО и договоре КАСКО. ОСАГО - это обязательное страхование гражданской ответственности владельцев транспортных средств, а КАСКО - это добровольное страхование автомобиля от различных рисков, включая угон и повреждение.</pre>"
      ],
      "text/plain": [
       "<IPython.core.display.HTML object>"
      ]
     },
     "metadata": {},
     "output_type": "display_data"
    },
    {
     "name": "stdout",
     "output_type": "stream",
     "text": [
      "____________________________________________\n",
      "Строка 21\n"
     ]
    },
    {
     "data": {
      "text/html": [
       "<pre style='background-color: #efefef; padding: 10px; border: 1px solid #ccc; border-radius: 5px; white-space: pre-wrap; line-height: 1.5rem;'>Вопрос: Какой минимум страховой выплаты мне вернут, если моя страховая сумма = 50 000 долларов?</pre>"
      ],
      "text/plain": [
       "<IPython.core.display.HTML object>"
      ]
     },
     "metadata": {},
     "output_type": "display_data"
    },
    {
     "data": {
      "text/html": [
       "<pre style='background-color: #efefef; padding: 10px; border: 1px solid #ccc; border-radius: 5px; white-space: pre-wrap; line-height: 1.5rem;'>Ground Truth:  \n",
       "                    Минимальная страховая выплата, которую вам вернут, если ваша страховая сумма составляет 50 000 долларов, составляет 50 рублей за 1 доллар США. Минимальная выплата составит 2 500 000 рублей.\n",
       "                    Обратите внимание, что это минимальная выплата, которую вы получите. Фактическая сумма выплаты может варьироваться в зависимости от условий вашего договора.\n",
       "        </pre>"
      ],
      "text/plain": [
       "<IPython.core.display.HTML object>"
      ]
     },
     "metadata": {},
     "output_type": "display_data"
    },
    {
     "data": {
      "text/html": [
       "<pre style='background-color: #efefef; padding: 10px; border: 1px solid #ccc; border-radius: 5px; white-space: pre-wrap; line-height: 1.5rem;'>Answer: Я не знаю ответа на этот вопрос.</pre>"
      ],
      "text/plain": [
       "<IPython.core.display.HTML object>"
      ]
     },
     "metadata": {},
     "output_type": "display_data"
    },
    {
     "name": "stdout",
     "output_type": "stream",
     "text": [
      "____________________________________________\n",
      "Строка 22\n"
     ]
    },
    {
     "data": {
      "text/html": [
       "<pre style='background-color: #efefef; padding: 10px; border: 1px solid #ccc; border-radius: 5px; white-space: pre-wrap; line-height: 1.5rem;'>Вопрос: При принятии пользовательских соглашений, кому еще попадают мои данные?</pre>"
      ],
      "text/plain": [
       "<IPython.core.display.HTML object>"
      ]
     },
     "metadata": {},
     "output_type": "display_data"
    },
    {
     "data": {
      "text/html": [
       "<pre style='background-color: #efefef; padding: 10px; border: 1px solid #ccc; border-radius: 5px; white-space: pre-wrap; line-height: 1.5rem;'>Ground Truth: \n",
       "                    Согласно пункту 5.1 пользовательского соглашения, ваши персональные данные могут быть переданы следующим сторонам:\n",
       "                        • Аффилированные лица страховщика\n",
       "                        • Страховой агент\n",
       "                        • Страховой брокер\n",
       "                        • Лица, предоставляющие услуги по использованию их информационных возможностей для целей заключения договоров страхования, хранения документов, в том числе облачных сервисов, серверов, программных продуктов\n",
       "</pre>"
      ],
      "text/plain": [
       "<IPython.core.display.HTML object>"
      ]
     },
     "metadata": {},
     "output_type": "display_data"
    },
    {
     "data": {
      "text/html": [
       "<pre style='background-color: #efefef; padding: 10px; border: 1px solid #ccc; border-radius: 5px; white-space: pre-wrap; line-height: 1.5rem;'>Answer: Мои данные могут попасть другим лицам, включая Банк и его аффилированные лица, которые являются партнерами Банка. Они могут обмениваться информацией о клиенте для целей обслуживания клиента, включая договоры, заключенные или заключаемые клиентом с Банком и указанными лицами.</pre>"
      ],
      "text/plain": [
       "<IPython.core.display.HTML object>"
      ]
     },
     "metadata": {},
     "output_type": "display_data"
    },
    {
     "name": "stdout",
     "output_type": "stream",
     "text": [
      "____________________________________________\n",
      "Строка 23\n"
     ]
    },
    {
     "data": {
      "text/html": [
       "<pre style='background-color: #efefef; padding: 10px; border: 1px solid #ccc; border-radius: 5px; white-space: pre-wrap; line-height: 1.5rem;'>Вопрос: Зачем страховщик ведет аудио и видеозапись при взаимодействии с клиентом? Как долго эти записи хранятся?</pre>"
      ],
      "text/plain": [
       "<IPython.core.display.HTML object>"
      ]
     },
     "metadata": {},
     "output_type": "display_data"
    },
    {
     "data": {
      "text/html": [
       "<pre style='background-color: #efefef; padding: 10px; border: 1px solid #ccc; border-radius: 5px; white-space: pre-wrap; line-height: 1.5rem;'>Ground Truth: Страховщик ведет аудио, видеозапись, фотографирование, копирует переписку с клиентом без дополнительного уведомления с целью улучшения качества обслуживания, исполнения договора страхования, а также для использования этих записей при проведении расследований, связанных с договором. Такие записи страховщик вправе хранить в течение 5 лет с момента прекращения отношений с клиентом.</pre>"
      ],
      "text/plain": [
       "<IPython.core.display.HTML object>"
      ]
     },
     "metadata": {},
     "output_type": "display_data"
    },
    {
     "data": {
      "text/html": [
       "<pre style='background-color: #efefef; padding: 10px; border: 1px solid #ccc; border-radius: 5px; white-space: pre-wrap; line-height: 1.5rem;'>Answer: Страховщик ведет аудио и видеозапись при взаимодействии с клиентом для улучшения качества обслуживания и разрешения возможных споров или претензий. Эти записи хранятся в течение 5 лет после прекращения отношений со страхователем.</pre>"
      ],
      "text/plain": [
       "<IPython.core.display.HTML object>"
      ]
     },
     "metadata": {},
     "output_type": "display_data"
    },
    {
     "name": "stdout",
     "output_type": "stream",
     "text": [
      "____________________________________________\n",
      "Строка 24\n"
     ]
    },
    {
     "data": {
      "text/html": [
       "<pre style='background-color: #efefef; padding: 10px; border: 1px solid #ccc; border-radius: 5px; white-space: pre-wrap; line-height: 1.5rem;'>Вопрос: В каких случаях застрахованному могут быть оплачены планируемые расходы по страховому случаю до предоставления подтверждающих документов? Какие ограничения есть по размеру таких выплат?</pre>"
      ],
      "text/plain": [
       "<IPython.core.display.HTML object>"
      ]
     },
     "metadata": {},
     "output_type": "display_data"
    },
    {
     "data": {
      "text/html": [
       "<pre style='background-color: #efefef; padding: 10px; border: 1px solid #ccc; border-radius: 5px; white-space: pre-wrap; line-height: 1.5rem;'>Ground Truth: По договорам добровольного страхования непредвиденных расходов путешественников застрахованному могут быть оплачены планируемые расходы по страховым случаям, предусматривающим возмещение расходов на экстренную/неотложную амбулаторную или стационарную помощь, по предварительному согласованию со страховщиком. Условие - предоставление подтверждающих документов сразу после несения расходов. Если документы не предоставлены, то страховщик возмещает расходы в размере не более 200 у.е. (если страховая сумма в валюте) или 10 000 рублей (если в рублях) за один случай.</pre>"
      ],
      "text/plain": [
       "<IPython.core.display.HTML object>"
      ]
     },
     "metadata": {},
     "output_type": "display_data"
    },
    {
     "data": {
      "text/html": [
       "<pre style='background-color: #efefef; padding: 10px; border: 1px solid #ccc; border-radius: 5px; white-space: pre-wrap; line-height: 1.5rem;'>Answer: Я не знаю ответа на этот вопрос.</pre>"
      ],
      "text/plain": [
       "<IPython.core.display.HTML object>"
      ]
     },
     "metadata": {},
     "output_type": "display_data"
    },
    {
     "name": "stdout",
     "output_type": "stream",
     "text": [
      "____________________________________________\n",
      "Строка 25\n"
     ]
    },
    {
     "data": {
      "text/html": [
       "<pre style='background-color: #efefef; padding: 10px; border: 1px solid #ccc; border-radius: 5px; white-space: pre-wrap; line-height: 1.5rem;'>Вопрос: Куда пользователь может направить обращение при возникновении вопросов или спора со страховщиком?</pre>"
      ],
      "text/plain": [
       "<IPython.core.display.HTML object>"
      ]
     },
     "metadata": {},
     "output_type": "display_data"
    },
    {
     "data": {
      "text/html": [
       "<pre style='background-color: #efefef; padding: 10px; border: 1px solid #ccc; border-radius: 5px; white-space: pre-wrap; line-height: 1.5rem;'>Ground Truth: При возникновении вопросов или спора с АО 'Тинькофф Страхование' пользователь может направить обращение:\n",
       "\n",
       " - В АО 'Тинькофф Страхование' по почте или через форму на сайте;\n",
       " - Финансовому уполномоченному на сайте finombudsman.ru или почтовым адресом;\n",
       " - Во Всероссийский союз страховщиков на сайте ins-union.ru или почтовым адресом;\n",
       "В Центральный Банк РФ через интернет-приемную на сайте cbr.ru или почтовым адресом.</pre>"
      ],
      "text/plain": [
       "<IPython.core.display.HTML object>"
      ]
     },
     "metadata": {},
     "output_type": "display_data"
    },
    {
     "data": {
      "text/html": [
       "<pre style='background-color: #efefef; padding: 10px; border: 1px solid #ccc; border-radius: 5px; white-space: pre-wrap; line-height: 1.5rem;'>Answer: Пользователь может направить обращение при возникновении вопросов или спора со страховщиком через официальный Сайт Страховщика, его страхового агента, страхового брокера в информационно-телекоммуникационной сети \"Интернет\" или мобильные приложения Страховщика, страхового агента, страхового брокера, а также аффилированных лиц Страховщика (Дистанционные каналы взаимодействия).</pre>"
      ],
      "text/plain": [
       "<IPython.core.display.HTML object>"
      ]
     },
     "metadata": {},
     "output_type": "display_data"
    },
    {
     "name": "stdout",
     "output_type": "stream",
     "text": [
      "____________________________________________\n",
      "Строка 26\n"
     ]
    },
    {
     "data": {
      "text/html": [
       "<pre style='background-color: #efefef; padding: 10px; border: 1px solid #ccc; border-radius: 5px; white-space: pre-wrap; line-height: 1.5rem;'>Вопрос: Где можно ознакомиться с дополнительной информацией и документами о деятельности АО 'Тинькофф Страхование'?</pre>"
      ],
      "text/plain": [
       "<IPython.core.display.HTML object>"
      ]
     },
     "metadata": {},
     "output_type": "display_data"
    },
    {
     "data": {
      "text/html": [
       "<pre style='background-color: #efefef; padding: 10px; border: 1px solid #ccc; border-radius: 5px; white-space: pre-wrap; line-height: 1.5rem;'>Ground Truth: Дополнительная информация и документы о деятельности АО 'Тинькофф Страхование' в соответствии с законом 'Об организации страхового дела в РФ' и базовым стандартом защиты прав получателей финансовых услуг размещены на сайте страховщика по ссылкам tinkoffinsurance.ru/about и tinkoffinsurance.ru/about/documents.</pre>"
      ],
      "text/plain": [
       "<IPython.core.display.HTML object>"
      ]
     },
     "metadata": {},
     "output_type": "display_data"
    },
    {
     "data": {
      "text/html": [
       "<pre style='background-color: #efefef; padding: 10px; border: 1px solid #ccc; border-radius: 5px; white-space: pre-wrap; line-height: 1.5rem;'>Answer: Дополнительную информацию и документы о деятельности АО 'Тинькофф Страхование' можно найти на официальном сайте компании.</pre>"
      ],
      "text/plain": [
       "<IPython.core.display.HTML object>"
      ]
     },
     "metadata": {},
     "output_type": "display_data"
    },
    {
     "name": "stdout",
     "output_type": "stream",
     "text": [
      "____________________________________________\n",
      "Строка 27\n"
     ]
    },
    {
     "data": {
      "text/html": [
       "<pre style='background-color: #efefef; padding: 10px; border: 1px solid #ccc; border-radius: 5px; white-space: pre-wrap; line-height: 1.5rem;'>Вопрос: Что означает 'Партия' и вообще 'Слиток' для драгоценных металлов?</pre>"
      ],
      "text/plain": [
       "<IPython.core.display.HTML object>"
      ]
     },
     "metadata": {},
     "output_type": "display_data"
    },
    {
     "data": {
      "text/html": [
       "<pre style='background-color: #efefef; padding: 10px; border: 1px solid #ccc; border-radius: 5px; white-space: pre-wrap; line-height: 1.5rem;'>Ground Truth: Давайте разберемся! \n",
       "                    Партия — это приобретенные клиентом слитки в количестве, превышающем 1 штуку, и подлежащие доставке клиенту, в рамках одной заявки.\n",
       "                    Слиток — это аффинированный драгоценный металл: золото, серебро, платина и палладий в виде слитков (стандартных, \n",
       "                    мерных), соответствующих установленным в Российской Федерации стандартам или международным стандартам качества, \n",
       "                    изготовленных и маркированных организацией, осуществляющей аффинаж драгоценного металла. Слиток в рамках \n",
       "                    предоставления Сервиса доставляется / принимается на хранение в ненарушенной Упаковке с приложением Сертификата-\n",
       "                    ярлыка (при наличии) и Сертификата качества слитка.\n",
       "        </pre>"
      ],
      "text/plain": [
       "<IPython.core.display.HTML object>"
      ]
     },
     "metadata": {},
     "output_type": "display_data"
    },
    {
     "data": {
      "text/html": [
       "<pre style='background-color: #efefef; padding: 10px; border: 1px solid #ccc; border-radius: 5px; white-space: pre-wrap; line-height: 1.5rem;'>Answer: Партия - это приобретенные Клиентом Слитки в количестве, превышающем 1 штуку, и подлежащие доставке Клиенту, в рамках одной Заявки. Слиток - это физический объект драгоценного металла, который может быть представлен в виде слитка или монеты. Сертификат-ярлык - это документ, вложенный внутрь заводской упаковки Слитка, содержащий основные сведения о Слитке - номере (шифре) Слитка, соответствии драгоценного металла стандартам качества, лигатурной массе, пробе драгоценного металла, дате выпуска, произведенный/заверенный предприятием-изготовителем Слитка. Сертификат качества слитка - это документ о качестве драгоценного металла, содержащий сведения о соответствии драгоценного металла стандартам качества, технические характеристики и параметры Слитка, информацию о химическом составе, произведенный/заверенный предприятием-изготовителем Слитка.</pre>"
      ],
      "text/plain": [
       "<IPython.core.display.HTML object>"
      ]
     },
     "metadata": {},
     "output_type": "display_data"
    },
    {
     "name": "stdout",
     "output_type": "stream",
     "text": [
      "____________________________________________\n",
      "Строка 28\n"
     ]
    },
    {
     "data": {
      "text/html": [
       "<pre style='background-color: #efefef; padding: 10px; border: 1px solid #ccc; border-radius: 5px; white-space: pre-wrap; line-height: 1.5rem;'>Вопрос: Меня действительно должны фотографировать после полкчения слитка? Какой это пункт в соглашении?</pre>"
      ],
      "text/plain": [
       "<IPython.core.display.HTML object>"
      ]
     },
     "metadata": {},
     "output_type": "display_data"
    },
    {
     "data": {
      "text/html": [
       "<pre style='background-color: #efefef; padding: 10px; border: 1px solid #ccc; border-radius: 5px; white-space: pre-wrap; line-height: 1.5rem;'>Ground Truth: Да, Вас действительно должнен сфотографировать Представитель в соответсвии с пунктом 2.13.12.</pre>"
      ],
      "text/plain": [
       "<IPython.core.display.HTML object>"
      ]
     },
     "metadata": {},
     "output_type": "display_data"
    },
    {
     "data": {
      "text/html": [
       "<pre style='background-color: #efefef; padding: 10px; border: 1px solid #ccc; border-radius: 5px; white-space: pre-wrap; line-height: 1.5rem;'>Answer: Я не знаю ответа на этот вопрос.</pre>"
      ],
      "text/plain": [
       "<IPython.core.display.HTML object>"
      ]
     },
     "metadata": {},
     "output_type": "display_data"
    },
    {
     "name": "stdout",
     "output_type": "stream",
     "text": [
      "____________________________________________\n",
      "Строка 29\n"
     ]
    },
    {
     "data": {
      "text/html": [
       "<pre style='background-color: #efefef; padding: 10px; border: 1px solid #ccc; border-radius: 5px; white-space: pre-wrap; line-height: 1.5rem;'>Вопрос: Какие условия хранения?</pre>"
      ],
      "text/plain": [
       "<IPython.core.display.HTML object>"
      ]
     },
     "metadata": {},
     "output_type": "display_data"
    },
    {
     "data": {
      "text/html": [
       "<pre style='background-color: #efefef; padding: 10px; border: 1px solid #ccc; border-radius: 5px; white-space: pre-wrap; line-height: 1.5rem;'>Ground Truth: \n",
       "                    В соответсвии с пунктом 2.14.9. условия хранения слитка слудующие: \n",
       "                        - температура воздуха от +17 до +25 °С,\n",
       "                        - атмосферное давление от 740 до 760 мм рт. ст.,\n",
       "                        - относительная влажность воздуха от 30 до 60% </pre>"
      ],
      "text/plain": [
       "<IPython.core.display.HTML object>"
      ]
     },
     "metadata": {},
     "output_type": "display_data"
    },
    {
     "data": {
      "text/html": [
       "<pre style='background-color: #efefef; padding: 10px; border: 1px solid #ccc; border-radius: 5px; white-space: pre-wrap; line-height: 1.5rem;'>Answer: Условия хранения включают температуру воздуха от +17 до +25 °С, атмосферное давление от 740 до 760 мм рт. ст. и относительную влажность воздуха от 30 до 60%.</pre>"
      ],
      "text/plain": [
       "<IPython.core.display.HTML object>"
      ]
     },
     "metadata": {},
     "output_type": "display_data"
    },
    {
     "name": "stdout",
     "output_type": "stream",
     "text": [
      "____________________________________________\n",
      "Строка 30\n"
     ]
    },
    {
     "data": {
      "text/html": [
       "<pre style='background-color: #efefef; padding: 10px; border: 1px solid #ccc; border-radius: 5px; white-space: pre-wrap; line-height: 1.5rem;'>Вопрос: Что такое 'Сертификат качества слитка'?</pre>"
      ],
      "text/plain": [
       "<IPython.core.display.HTML object>"
      ]
     },
     "metadata": {},
     "output_type": "display_data"
    },
    {
     "data": {
      "text/html": [
       "<pre style='background-color: #efefef; padding: 10px; border: 1px solid #ccc; border-radius: 5px; white-space: pre-wrap; line-height: 1.5rem;'>Ground Truth: Сертификат качества слитка - это документ, выданный изготовителем слитка драгоценного металла, который содержит информацию о соответствии металла стандартам качества, его технические характеристики, параметры и химический состав.</pre>"
      ],
      "text/plain": [
       "<IPython.core.display.HTML object>"
      ]
     },
     "metadata": {},
     "output_type": "display_data"
    },
    {
     "data": {
      "text/html": [
       "<pre style='background-color: #efefef; padding: 10px; border: 1px solid #ccc; border-radius: 5px; white-space: pre-wrap; line-height: 1.5rem;'>Answer: Сертификат качества слитка - это документ о качестве драгоценного металла, содержащий сведения о соответствии драгоценного металла стандартам качества, технические характеристики и параметры Слитка, информацию о химическом составе, произведенный/заверенный предприятием-изготовителем Слитка.</pre>"
      ],
      "text/plain": [
       "<IPython.core.display.HTML object>"
      ]
     },
     "metadata": {},
     "output_type": "display_data"
    },
    {
     "name": "stdout",
     "output_type": "stream",
     "text": [
      "____________________________________________\n",
      "Строка 31\n"
     ]
    },
    {
     "data": {
      "text/html": [
       "<pre style='background-color: #efefef; padding: 10px; border: 1px solid #ccc; border-radius: 5px; white-space: pre-wrap; line-height: 1.5rem;'>Вопрос: На какой срок выдается эта доверенность? Можно ли ее передоверить другому лицу?</pre>"
      ],
      "text/plain": [
       "<IPython.core.display.HTML object>"
      ]
     },
     "metadata": {},
     "output_type": "display_data"
    },
    {
     "data": {
      "text/html": [
       "<pre style='background-color: #efefef; padding: 10px; border: 1px solid #ccc; border-radius: 5px; white-space: pre-wrap; line-height: 1.5rem;'>Ground Truth: Доверенность выдается сроком на 1 год. Полномочия по этой доверенности нельзя передоверять другим лицам.</pre>"
      ],
      "text/plain": [
       "<IPython.core.display.HTML object>"
      ]
     },
     "metadata": {},
     "output_type": "display_data"
    },
    {
     "data": {
      "text/html": [
       "<pre style='background-color: #efefef; padding: 10px; border: 1px solid #ccc; border-radius: 5px; white-space: pre-wrap; line-height: 1.5rem;'>Answer: Из предоставленного контекста невозможно определить срок действия данной доверенности или возможность ее передоверия другому лицу.</pre>"
      ],
      "text/plain": [
       "<IPython.core.display.HTML object>"
      ]
     },
     "metadata": {},
     "output_type": "display_data"
    },
    {
     "name": "stdout",
     "output_type": "stream",
     "text": [
      "____________________________________________\n",
      "Строка 32\n"
     ]
    },
    {
     "data": {
      "text/html": [
       "<pre style='background-color: #efefef; padding: 10px; border: 1px solid #ccc; border-radius: 5px; white-space: pre-wrap; line-height: 1.5rem;'>Вопрос: Как клиент может получить сертификат качества слитка, который он передал на хранение в банк?</pre>"
      ],
      "text/plain": [
       "<IPython.core.display.HTML object>"
      ]
     },
     "metadata": {},
     "output_type": "display_data"
    },
    {
     "data": {
      "text/html": [
       "<pre style='background-color: #efefef; padding: 10px; border: 1px solid #ccc; border-radius: 5px; white-space: pre-wrap; line-height: 1.5rem;'>Ground Truth: По требованию клиента банк предоставляет ему заверенную копию сертификата качества слитка, который клиент передал на ответственное хранение в банке.</pre>"
      ],
      "text/plain": [
       "<IPython.core.display.HTML object>"
      ]
     },
     "metadata": {},
     "output_type": "display_data"
    },
    {
     "data": {
      "text/html": [
       "<pre style='background-color: #efefef; padding: 10px; border: 1px solid #ccc; border-radius: 5px; white-space: pre-wrap; line-height: 1.5rem;'>Answer: Клиент может получить сертификат качества слитка, который он передал на хранение в банк, в процессе вскрытия сейф-пакета и изъятия слитка.</pre>"
      ],
      "text/plain": [
       "<IPython.core.display.HTML object>"
      ]
     },
     "metadata": {},
     "output_type": "display_data"
    },
    {
     "name": "stdout",
     "output_type": "stream",
     "text": [
      "____________________________________________\n",
      "Строка 33\n"
     ]
    },
    {
     "data": {
      "text/html": [
       "<pre style='background-color: #efefef; padding: 10px; border: 1px solid #ccc; border-radius: 5px; white-space: pre-wrap; line-height: 1.5rem;'>Вопрос: Какие условия хранения слитков в банке? Где их хранят?</pre>"
      ],
      "text/plain": [
       "<IPython.core.display.HTML object>"
      ]
     },
     "metadata": {},
     "output_type": "display_data"
    },
    {
     "data": {
      "text/html": [
       "<pre style='background-color: #efefef; padding: 10px; border: 1px solid #ccc; border-radius: 5px; white-space: pre-wrap; line-height: 1.5rem;'>Ground Truth: Слитки хранятся в специальном хранилище 5 класса устойчивости к взлому, оборудованном системами видеонаблюдения, охранно-пожарной и тревожной сигнализацией, а также круглосуточной охраной. Условия хранения: температура +17...+25°С, атмосферное давление 740-760 мм рт.ст., влажность 30-60%.</pre>"
      ],
      "text/plain": [
       "<IPython.core.display.HTML object>"
      ]
     },
     "metadata": {},
     "output_type": "display_data"
    },
    {
     "data": {
      "text/html": [
       "<pre style='background-color: #efefef; padding: 10px; border: 1px solid #ccc; border-radius: 5px; white-space: pre-wrap; line-height: 1.5rem;'>Answer: Слитки в банке хранятся в специальном помещении для совершения операций с ценностями. Это помещение должно быть оборудовано системой видеонаблюдения, охранно-пожарной и тревожной сигнализацией, а также иметь физическую круглосуточную охрану. Условия хранения включают температуру воздуха от +17 до +25 °C, атмосферное давление от 740 до 760 мм рт. ст. и относительную влажность воздуха от 30 до 60%.</pre>"
      ],
      "text/plain": [
       "<IPython.core.display.HTML object>"
      ]
     },
     "metadata": {},
     "output_type": "display_data"
    },
    {
     "name": "stdout",
     "output_type": "stream",
     "text": [
      "____________________________________________\n",
      "Строка 34\n"
     ]
    },
    {
     "data": {
      "text/html": [
       "<pre style='background-color: #efefef; padding: 10px; border: 1px solid #ccc; border-radius: 5px; white-space: pre-wrap; line-height: 1.5rem;'>Вопрос: Можно ли вернуть слиток в банк, если при получении были обнаружены его повреждения? Как это сделать?</pre>"
      ],
      "text/plain": [
       "<IPython.core.display.HTML object>"
      ]
     },
     "metadata": {},
     "output_type": "display_data"
    },
    {
     "data": {
      "text/html": [
       "<pre style='background-color: #efefef; padding: 10px; border: 1px solid #ccc; border-radius: 5px; white-space: pre-wrap; line-height: 1.5rem;'>Ground Truth: Да, если при получении слитка с хранения были обнаружены его повреждения или нарушения упаковки, несоответствия маркировки и т.п., то клиент/доверенное лицо вместе с представителем банка оформляют рекламационный акт в двух экземплярах. В этом акте фиксируются все нарушения. После этого слиток вместе с сертификатами запечатывают в новый сейф-пакет и опломбировывают, указав номера на рекламационном акте. Затем слиток возвращается обратно в банк.</pre>"
      ],
      "text/plain": [
       "<IPython.core.display.HTML object>"
      ]
     },
     "metadata": {},
     "output_type": "display_data"
    },
    {
     "data": {
      "text/html": [
       "<pre style='background-color: #efefef; padding: 10px; border: 1px solid #ccc; border-radius: 5px; white-space: pre-wrap; line-height: 1.5rem;'>Answer: Да, согласно представленному контексту, клиент может вернуть поврежденный слиток в банк. Однако банк не несет ответственности за повреждения слитка, заводской упаковки, сертификата-ярлыка и сертификата качества слитка, которые могут возникнуть в результате неосторожных действий клиента или доверенного лица при вскрытии сейф-пакета и принятии слитка.</pre>"
      ],
      "text/plain": [
       "<IPython.core.display.HTML object>"
      ]
     },
     "metadata": {},
     "output_type": "display_data"
    },
    {
     "name": "stdout",
     "output_type": "stream",
     "text": [
      "____________________________________________\n",
      "Строка 35\n"
     ]
    },
    {
     "data": {
      "text/html": [
       "<pre style='background-color: #efefef; padding: 10px; border: 1px solid #ccc; border-radius: 5px; white-space: pre-wrap; line-height: 1.5rem;'>Вопрос: Кто может стать доверенным лицом?</pre>"
      ],
      "text/plain": [
       "<IPython.core.display.HTML object>"
      ]
     },
     "metadata": {},
     "output_type": "display_data"
    },
    {
     "data": {
      "text/html": [
       "<pre style='background-color: #efefef; padding: 10px; border: 1px solid #ccc; border-radius: 5px; white-space: pre-wrap; line-height: 1.5rem;'>Ground Truth: Доверенным лицом клиента может стать любое физическое лицо, которому клиент предоставит полномочия представлять его интересы в рамках сервиса покупки/продажи слитков драгоценных металлов. Доверенность на это лицо оформляется клиентом посредством дистанционного обслуживания в банке по форме из Приложения №5 к Правилам.</pre>"
      ],
      "text/plain": [
       "<IPython.core.display.HTML object>"
      ]
     },
     "metadata": {},
     "output_type": "display_data"
    },
    {
     "data": {
      "text/html": [
       "<pre style='background-color: #efefef; padding: 10px; border: 1px solid #ccc; border-radius: 5px; white-space: pre-wrap; line-height: 1.5rem;'>Answer: Доверенным лицом может стать юридическое лицо или индивидуальный предприниматель, если они имеют необходимые полномочия и документы, подтверждающие их статус.</pre>"
      ],
      "text/plain": [
       "<IPython.core.display.HTML object>"
      ]
     },
     "metadata": {},
     "output_type": "display_data"
    },
    {
     "name": "stdout",
     "output_type": "stream",
     "text": [
      "____________________________________________\n",
      "Строка 36\n"
     ]
    },
    {
     "data": {
      "text/html": [
       "<pre style='background-color: #efefef; padding: 10px; border: 1px solid #ccc; border-radius: 5px; white-space: pre-wrap; line-height: 1.5rem;'>Вопрос: Можно ли поменять доверенное лицо? Как это сделать?</pre>"
      ],
      "text/plain": [
       "<IPython.core.display.HTML object>"
      ]
     },
     "metadata": {},
     "output_type": "display_data"
    },
    {
     "data": {
      "text/html": [
       "<pre style='background-color: #efefef; padding: 10px; border: 1px solid #ccc; border-radius: 5px; white-space: pre-wrap; line-height: 1.5rem;'>Ground Truth: Да, клиент может отменить ранее выданную доверенность на доверенное лицо. Для этого он должен обратиться в банк посредством дистанционного обслуживания не позднее чем за 1 день до планируемой даты встречи с действующим доверенным лицом.</pre>"
      ],
      "text/plain": [
       "<IPython.core.display.HTML object>"
      ]
     },
     "metadata": {},
     "output_type": "display_data"
    },
    {
     "data": {
      "text/html": [
       "<pre style='background-color: #efefef; padding: 10px; border: 1px solid #ccc; border-radius: 5px; white-space: pre-wrap; line-height: 1.5rem;'>Answer: Да, можно поменять доверенное лицо. Для этого необходимо обратиться в Банк посредством Дистанционного обслуживания и отменить выданную доверенность.</pre>"
      ],
      "text/plain": [
       "<IPython.core.display.HTML object>"
      ]
     },
     "metadata": {},
     "output_type": "display_data"
    },
    {
     "name": "stdout",
     "output_type": "stream",
     "text": [
      "____________________________________________\n",
      "Строка 37\n"
     ]
    },
    {
     "data": {
      "text/html": [
       "<pre style='background-color: #efefef; padding: 10px; border: 1px solid #ccc; border-radius: 5px; white-space: pre-wrap; line-height: 1.5rem;'>Вопрос: Как происходит покупка слитка банком? Есть ли какие-то особые условия?</pre>"
      ],
      "text/plain": [
       "<IPython.core.display.HTML object>"
      ]
     },
     "metadata": {},
     "output_type": "display_data"
    },
    {
     "data": {
      "text/html": [
       "<pre style='background-color: #efefef; padding: 10px; border: 1px solid #ccc; border-radius: 5px; white-space: pre-wrap; line-height: 1.5rem;'>Ground Truth: Банк осуществляет покупку слитков драгоценных металлов только у тех клиентов, чьи слитки находятся на ответственном хранении в самом банке. При подаче заявки на продажу слитка клиент должен подтвердить, что на момент продажи слиток принадлежит ему на праве собственности, не продан, не заложен, не арестован и не обременен правами третьих лиц.</pre>"
      ],
      "text/plain": [
       "<IPython.core.display.HTML object>"
      ]
     },
     "metadata": {},
     "output_type": "display_data"
    },
    {
     "data": {
      "text/html": [
       "<pre style='background-color: #efefef; padding: 10px; border: 1px solid #ccc; border-radius: 5px; white-space: pre-wrap; line-height: 1.5rem;'>Answer: Из предоставленного контекста нельзя однозначно определить, есть ли какие-то особые условия для покупки слитка банком. Однако, можно отметить, что процесс покупки слитка включает в себя согласование наименования драгоценного металла, количества, вида и массы слитка, цены за 1 грамм драгоценного металла, итоговой стоимости приобретаемого слитка, места нахождения (адреса) клиента/доверенного лица, времени доставки, а также необходимость или отсутствие необходимости дальнейшей передачи приобретенного слитка на ответственное хранение в банк.</pre>"
      ],
      "text/plain": [
       "<IPython.core.display.HTML object>"
      ]
     },
     "metadata": {},
     "output_type": "display_data"
    },
    {
     "name": "stdout",
     "output_type": "stream",
     "text": [
      "____________________________________________\n",
      "Строка 38\n"
     ]
    },
    {
     "data": {
      "text/html": [
       "<pre style='background-color: #efefef; padding: 10px; border: 1px solid #ccc; border-radius: 5px; white-space: pre-wrap; line-height: 1.5rem;'>Вопрос: Что такое накопительный счет и как начисляются проценты?</pre>"
      ],
      "text/plain": [
       "<IPython.core.display.HTML object>"
      ]
     },
     "metadata": {},
     "output_type": "display_data"
    },
    {
     "data": {
      "text/html": [
       "<pre style='background-color: #efefef; padding: 10px; border: 1px solid #ccc; border-radius: 5px; white-space: pre-wrap; line-height: 1.5rem;'>Ground Truth: \n",
       "                    Накопительный счет - это счет, на котором учитываются денежные средства клиента и на который начисляются проценты на остаток денежных средств. Проценты начисляются в соответствии с условиями договора накопительного счета.\n",
       "                    Проценты на накопительном счете начисляются со дня, следующего за днем зачисления денежных средств на счет, до дня окончания срока вклада (включительно) либо до их списания со счета по другим основаниям.\n",
       "\n",
       "                    При начислении процентов учитываются:\n",
       "                    • Величина процентной ставки (в процентах годовых)\n",
       "                    • Фактическое количество календарных дней, на которое привлечены денежные средства\n",
       "\n",
       "                    За базу берется действительное число календарных дней в году (365 или 366 дней соответственно).</pre>"
      ],
      "text/plain": [
       "<IPython.core.display.HTML object>"
      ]
     },
     "metadata": {},
     "output_type": "display_data"
    },
    {
     "data": {
      "text/html": [
       "<pre style='background-color: #efefef; padding: 10px; border: 1px solid #ccc; border-radius: 5px; white-space: pre-wrap; line-height: 1.5rem;'>Answer: Накопительный счет - это счет, на котором учитываются денежные средства клиента, и на остаток этих средств начисляются проценты в соответствии с договором накопительного счета. Проценты начисляются в зависимости от общих условий, которые являются неотъемлемой частью договора накопительного счета.</pre>"
      ],
      "text/plain": [
       "<IPython.core.display.HTML object>"
      ]
     },
     "metadata": {},
     "output_type": "display_data"
    },
    {
     "name": "stdout",
     "output_type": "stream",
     "text": [
      "____________________________________________\n",
      "Строка 39\n"
     ]
    },
    {
     "data": {
      "text/html": [
       "<pre style='background-color: #efefef; padding: 10px; border: 1px solid #ccc; border-radius: 5px; white-space: pre-wrap; line-height: 1.5rem;'>Вопрос: Можно ли открыть вклад в 12 лет?</pre>"
      ],
      "text/plain": [
       "<IPython.core.display.HTML object>"
      ]
     },
     "metadata": {},
     "output_type": "display_data"
    },
    {
     "data": {
      "text/html": [
       "<pre style='background-color: #efefef; padding: 10px; border: 1px solid #ccc; border-radius: 5px; white-space: pre-wrap; line-height: 1.5rem;'>Ground Truth: Нет, Банк не заключает договор вклада с лицами, не достигшими возраста 14 лет.</pre>"
      ],
      "text/plain": [
       "<IPython.core.display.HTML object>"
      ]
     },
     "metadata": {},
     "output_type": "display_data"
    },
    {
     "data": {
      "text/html": [
       "<pre style='background-color: #efefef; padding: 10px; border: 1px solid #ccc; border-radius: 5px; white-space: pre-wrap; line-height: 1.5rem;'>Answer: Нет, согласно представленному контексту, Банк не заключает договор вклада с лицами, не достигшими возраста 14 лет.</pre>"
      ],
      "text/plain": [
       "<IPython.core.display.HTML object>"
      ]
     },
     "metadata": {},
     "output_type": "display_data"
    },
    {
     "name": "stdout",
     "output_type": "stream",
     "text": [
      "____________________________________________\n",
      "Строка 40\n"
     ]
    },
    {
     "data": {
      "text/html": [
       "<pre style='background-color: #efefef; padding: 10px; border: 1px solid #ccc; border-radius: 5px; white-space: pre-wrap; line-height: 1.5rem;'>Вопрос: Могу ли я открыть несколько вкладов и пополнять их?</pre>"
      ],
      "text/plain": [
       "<IPython.core.display.HTML object>"
      ]
     },
     "metadata": {},
     "output_type": "display_data"
    },
    {
     "data": {
      "text/html": [
       "<pre style='background-color: #efefef; padding: 10px; border: 1px solid #ccc; border-radius: 5px; white-space: pre-wrap; line-height: 1.5rem;'>Ground Truth:  \n",
       "                    Да, вы можете открыть несколько вкладов и пополнять их.\n",
       "                    Согласно пункту 4.1.3 приведенного контекста, клиент имеет право разместить несколько вкладов (открыть несколько счетов вклада/накопительных счетов) на условиях, устанавливаемых договором вклада (договором накопительного счета) и тарифами.\n",
       "                    Вы можете открыть несколько вкладов как через дистанционное обслуживание, так и в офисе банка в часы работы операционного подразделения банка.</pre>"
      ],
      "text/plain": [
       "<IPython.core.display.HTML object>"
      ]
     },
     "metadata": {},
     "output_type": "display_data"
    },
    {
     "data": {
      "text/html": [
       "<pre style='background-color: #efefef; padding: 10px; border: 1px solid #ccc; border-radius: 5px; white-space: pre-wrap; line-height: 1.5rem;'>Answer: Да, согласно представленному контексту, клиент имеет право разместить несколько вкладов и пополнять их, если такая возможность установлена тарифным планом.</pre>"
      ],
      "text/plain": [
       "<IPython.core.display.HTML object>"
      ]
     },
     "metadata": {},
     "output_type": "display_data"
    },
    {
     "name": "stdout",
     "output_type": "stream",
     "text": [
      "____________________________________________\n",
      "Строка 41\n"
     ]
    },
    {
     "data": {
      "text/html": [
       "<pre style='background-color: #efefef; padding: 10px; border: 1px solid #ccc; border-radius: 5px; white-space: pre-wrap; line-height: 1.5rem;'>Вопрос: Для получения страховой выплаты в случае несчастного случая с летальным исходом нужна ли справка из психушки?</pre>"
      ],
      "text/plain": [
       "<IPython.core.display.HTML object>"
      ]
     },
     "metadata": {},
     "output_type": "display_data"
    },
    {
     "data": {
      "text/html": [
       "<pre style='background-color: #efefef; padding: 10px; border: 1px solid #ccc; border-radius: 5px; white-space: pre-wrap; line-height: 1.5rem;'>Ground Truth: Да, в таком случае необходимы справки из психоневрологического диспансера и наркологического диспансера.</pre>"
      ],
      "text/plain": [
       "<IPython.core.display.HTML object>"
      ]
     },
     "metadata": {},
     "output_type": "display_data"
    },
    {
     "data": {
      "text/html": [
       "<pre style='background-color: #efefef; padding: 10px; border: 1px solid #ccc; border-radius: 5px; white-space: pre-wrap; line-height: 1.5rem;'>Answer: Нет, справка из психушки не требуется для получения страховой выплаты в случае несчастного случая с летальным исходом.</pre>"
      ],
      "text/plain": [
       "<IPython.core.display.HTML object>"
      ]
     },
     "metadata": {},
     "output_type": "display_data"
    },
    {
     "name": "stdout",
     "output_type": "stream",
     "text": [
      "____________________________________________\n",
      "Строка 42\n"
     ]
    },
    {
     "data": {
      "text/html": [
       "<pre style='background-color: #efefef; padding: 10px; border: 1px solid #ccc; border-radius: 5px; white-space: pre-wrap; line-height: 1.5rem;'>Вопрос: Дают ли кредит на автомобиль?</pre>"
      ],
      "text/plain": [
       "<IPython.core.display.HTML object>"
      ]
     },
     "metadata": {},
     "output_type": "display_data"
    },
    {
     "data": {
      "text/html": [
       "<pre style='background-color: #efefef; padding: 10px; border: 1px solid #ccc; border-radius: 5px; white-space: pre-wrap; line-height: 1.5rem;'>Ground Truth: Да, в соответсвии с пунктом 3.1. Банк предоставляет Клиенту Кредит на потребительские цели, , в том числе на приобретение автомобиля.</pre>"
      ],
      "text/plain": [
       "<IPython.core.display.HTML object>"
      ]
     },
     "metadata": {},
     "output_type": "display_data"
    },
    {
     "data": {
      "text/html": [
       "<pre style='background-color: #efefef; padding: 10px; border: 1px solid #ccc; border-radius: 5px; white-space: pre-wrap; line-height: 1.5rem;'>Answer: Нет информации о кредитовании автомобилей в данном контексте.</pre>"
      ],
      "text/plain": [
       "<IPython.core.display.HTML object>"
      ]
     },
     "metadata": {},
     "output_type": "display_data"
    },
    {
     "name": "stdout",
     "output_type": "stream",
     "text": [
      "____________________________________________\n",
      "Строка 43\n"
     ]
    },
    {
     "data": {
      "text/html": [
       "<pre style='background-color: #efefef; padding: 10px; border: 1px solid #ccc; border-radius: 5px; white-space: pre-wrap; line-height: 1.5rem;'>Вопрос: Распростроняется ли страховое покрытие на смерть в алкогольном опьянении?</pre>"
      ],
      "text/plain": [
       "<IPython.core.display.HTML object>"
      ]
     },
     "metadata": {},
     "output_type": "display_data"
    },
    {
     "data": {
      "text/html": [
       "<pre style='background-color: #efefef; padding: 10px; border: 1px solid #ccc; border-radius: 5px; white-space: pre-wrap; line-height: 1.5rem;'>Ground Truth: Нет, страховое покрытие не распространяется на смерть в алкогольном опьянении.</pre>"
      ],
      "text/plain": [
       "<IPython.core.display.HTML object>"
      ]
     },
     "metadata": {},
     "output_type": "display_data"
    },
    {
     "data": {
      "text/html": [
       "<pre style='background-color: #efefef; padding: 10px; border: 1px solid #ccc; border-radius: 5px; white-space: pre-wrap; line-height: 1.5rem;'>Answer: Да</pre>"
      ],
      "text/plain": [
       "<IPython.core.display.HTML object>"
      ]
     },
     "metadata": {},
     "output_type": "display_data"
    },
    {
     "name": "stdout",
     "output_type": "stream",
     "text": [
      "____________________________________________\n",
      "Строка 44\n"
     ]
    },
    {
     "data": {
      "text/html": [
       "<pre style='background-color: #efefef; padding: 10px; border: 1px solid #ccc; border-radius: 5px; white-space: pre-wrap; line-height: 1.5rem;'>Вопрос: Может ли Банк изменить Тарифный план по кредитной карте, и какие условия должны быть соблюдены для этого?</pre>"
      ],
      "text/plain": [
       "<IPython.core.display.HTML object>"
      ]
     },
     "metadata": {},
     "output_type": "display_data"
    },
    {
     "data": {
      "text/html": [
       "<pre style='background-color: #efefef; padding: 10px; border: 1px solid #ccc; border-radius: 5px; white-space: pre-wrap; line-height: 1.5rem;'>Ground Truth: Да, Банк может изменить Тарифный план по кредитной карте в одностороннем порядке, но при условии, что это не приведет к возникновению новых или увеличению уже существующих денежных обязательств клиента </pre>"
      ],
      "text/plain": [
       "<IPython.core.display.HTML object>"
      ]
     },
     "metadata": {},
     "output_type": "display_data"
    },
    {
     "data": {
      "text/html": [
       "<pre style='background-color: #efefef; padding: 10px; border: 1px solid #ccc; border-radius: 5px; white-space: pre-wrap; line-height: 1.5rem;'>Answer: Да, Банк может изменить Тарифный план по кредитной карте. Для этого необходимо заявление клиента и согласие банка. Банк также имеет право изменить Тарифный план в одностороннем порядке, например, для уменьшения процентной ставки или улучшения других условий обслуживания. Однако это должно быть сделано таким образом, чтобы не повлечь возникновение новых или увеличение размера существующих денежных обязательств клиента.</pre>"
      ],
      "text/plain": [
       "<IPython.core.display.HTML object>"
      ]
     },
     "metadata": {},
     "output_type": "display_data"
    },
    {
     "name": "stdout",
     "output_type": "stream",
     "text": [
      "____________________________________________\n",
      "Строка 45\n"
     ]
    },
    {
     "data": {
      "text/html": [
       "<pre style='background-color: #efefef; padding: 10px; border: 1px solid #ccc; border-radius: 5px; white-space: pre-wrap; line-height: 1.5rem;'>Вопрос: Можно ли внести частичное досрочное погашение кредита? И как это повлияет на остаток задолженности?</pre>"
      ],
      "text/plain": [
       "<IPython.core.display.HTML object>"
      ]
     },
     "metadata": {},
     "output_type": "display_data"
    },
    {
     "data": {
      "text/html": [
       "<pre style='background-color: #efefef; padding: 10px; border: 1px solid #ccc; border-radius: 5px; white-space: pre-wrap; line-height: 1.5rem;'>Ground Truth: Да, Клиент имеет право совершить частичное досрочное погашение кредита. При этом по выбору Клиента уменьшится либо срок кредита, либо сумма регулярного платежа. Однако Клиент не освобождается от оплаты ближайшего регулярного платежа и применимых комиссий.</pre>"
      ],
      "text/plain": [
       "<IPython.core.display.HTML object>"
      ]
     },
     "metadata": {},
     "output_type": "display_data"
    },
    {
     "data": {
      "text/html": [
       "<pre style='background-color: #efefef; padding: 10px; border: 1px solid #ccc; border-radius: 5px; white-space: pre-wrap; line-height: 1.5rem;'>Answer: Да, клиент имеет право внести частичное досрочное погашение кредита. Это повлияет на остаток задолженности, так как уменьшится срок кредита или сумма регулярного платежа по выбору клиента. Однако клиент не освобождается от оплаты ближайшего регулярного платежа, а также применимых комиссий и плат, предусмотренных тарифным планом.</pre>"
      ],
      "text/plain": [
       "<IPython.core.display.HTML object>"
      ]
     },
     "metadata": {},
     "output_type": "display_data"
    },
    {
     "name": "stdout",
     "output_type": "stream",
     "text": [
      "____________________________________________\n",
      "Строка 46\n"
     ]
    },
    {
     "data": {
      "text/html": [
       "<pre style='background-color: #efefef; padding: 10px; border: 1px solid #ccc; border-radius: 5px; white-space: pre-wrap; line-height: 1.5rem;'>Вопрос: Что будет в случае просрочки платежа по кредиту? И какой штраф может быть начислен?</pre>"
      ],
      "text/plain": [
       "<IPython.core.display.HTML object>"
      ]
     },
     "metadata": {},
     "output_type": "display_data"
    },
    {
     "data": {
      "text/html": [
       "<pre style='background-color: #efefef; padding: 10px; border: 1px solid #ccc; border-radius: 5px; white-space: pre-wrap; line-height: 1.5rem;'>Ground Truth: В случае неоплаты минимального платежа по кредиту, Клиент должен уплатить штраф в соответствии с Тарифным планом. Размер штрафа определяется Тарифами, и любой поступивший от Клиента платеж Банк будет рассматривать как оплату штрафа в пределах установленной суммы.</pre>"
      ],
      "text/plain": [
       "<IPython.core.display.HTML object>"
      ]
     },
     "metadata": {},
     "output_type": "display_data"
    },
    {
     "data": {
      "text/html": [
       "<pre style='background-color: #efefef; padding: 10px; border: 1px solid #ccc; border-radius: 5px; white-space: pre-wrap; line-height: 1.5rem;'>Answer: В случае просрочки платежа по кредиту могут быть начислены штрафы. Конкретный размер штрафа зависит от условий договора между заемщиком и банком. Банк имеет право приостановить начисление процентов, комиссий, плат и штрафов по кредитной линии с даты формирования Заключительного требования.</pre>"
      ],
      "text/plain": [
       "<IPython.core.display.HTML object>"
      ]
     },
     "metadata": {},
     "output_type": "display_data"
    },
    {
     "name": "stdout",
     "output_type": "stream",
     "text": [
      "____________________________________________\n",
      "Строка 47\n"
     ]
    },
    {
     "data": {
      "text/html": [
       "<pre style='background-color: #efefef; padding: 10px; border: 1px solid #ccc; border-radius: 5px; white-space: pre-wrap; line-height: 1.5rem;'>Вопрос: Можно ли на время приостановить выплаты по кредиту? И как это повлияет на начисление процентов?</pre>"
      ],
      "text/plain": [
       "<IPython.core.display.HTML object>"
      ]
     },
     "metadata": {},
     "output_type": "display_data"
    },
    {
     "data": {
      "text/html": [
       "<pre style='background-color: #efefef; padding: 10px; border: 1px solid #ccc; border-radius: 5px; white-space: pre-wrap; line-height: 1.5rem;'>Ground Truth: Да, на основании обращения Клиента и по согласованию с Банком возможно приостановить обязанность по погашению задолженности и оплате платежей на срок от 1 до 12 месяцев. В этот период Банк вправе также приостановить начисление процентов и иных сумм по кредиту.</pre>"
      ],
      "text/plain": [
       "<IPython.core.display.HTML object>"
      ]
     },
     "metadata": {},
     "output_type": "display_data"
    },
    {
     "data": {
      "text/html": [
       "<pre style='background-color: #efefef; padding: 10px; border: 1px solid #ccc; border-radius: 5px; white-space: pre-wrap; line-height: 1.5rem;'>Answer: Да, на основании обращения клиента и по согласованию с банком возможно приостановить выплаты по кредиту на период от 1 до 12 месяцев. В этот период банк может приостановить начисление процентов и других сумм, предусмотренных кредитным договором. Однако, оставшийся срок возврата кредита будет продлен на согласованный период приостановления выплат.</pre>"
      ],
      "text/plain": [
       "<IPython.core.display.HTML object>"
      ]
     },
     "metadata": {},
     "output_type": "display_data"
    },
    {
     "name": "stdout",
     "output_type": "stream",
     "text": [
      "____________________________________________\n",
      "Строка 48\n"
     ]
    },
    {
     "data": {
      "text/html": [
       "<pre style='background-color: #efefef; padding: 10px; border: 1px solid #ccc; border-radius: 5px; white-space: pre-wrap; line-height: 1.5rem;'>Вопрос: Я хочу оформить дополнительную карту на супругу. Как это сделать? И будет ли она иметь доступ к общему лимиту по кредитке?</pre>"
      ],
      "text/plain": [
       "<IPython.core.display.HTML object>"
      ]
     },
     "metadata": {},
     "output_type": "display_data"
    },
    {
     "data": {
      "text/html": [
       "<pre style='background-color: #efefef; padding: 10px; border: 1px solid #ccc; border-radius: 5px; white-space: pre-wrap; line-height: 1.5rem;'>Ground Truth: Вы можете оформить дополнительную кредитную карту на супругу, подав заявление в банк на бумажном носителе или через дистанционное обслуживание. Дополнительная карта будет иметь доступ к общему лимиту задолженности по вашей основной кредитной карте, однако вы можете установить отдельный лимит для расходных операций по дополнительной карте.</pre>"
      ],
      "text/plain": [
       "<IPython.core.display.HTML object>"
      ]
     },
     "metadata": {},
     "output_type": "display_data"
    },
    {
     "data": {
      "text/html": [
       "<pre style='background-color: #efefef; padding: 10px; border: 1px solid #ccc; border-radius: 5px; white-space: pre-wrap; line-height: 1.5rem;'>Answer: Я не знаю, как оформить дополнительную карту на супругу. Однако, я могу сказать, что она будет иметь доступ к общему лимиту по кредитке.</pre>"
      ],
      "text/plain": [
       "<IPython.core.display.HTML object>"
      ]
     },
     "metadata": {},
     "output_type": "display_data"
    },
    {
     "name": "stdout",
     "output_type": "stream",
     "text": [
      "____________________________________________\n",
      "Строка 49\n"
     ]
    },
    {
     "data": {
      "text/html": [
       "<pre style='background-color: #efefef; padding: 10px; border: 1px solid #ccc; border-radius: 5px; white-space: pre-wrap; line-height: 1.5rem;'>Вопрос: А что если я потеряю карту? Сколько у меня есть времени, чтобы ее заблокировать? И как вообще это делается? Через приложение или звонить надо?</pre>"
      ],
      "text/plain": [
       "<IPython.core.display.HTML object>"
      ]
     },
     "metadata": {},
     "output_type": "display_data"
    },
    {
     "data": {
      "text/html": [
       "<pre style='background-color: #efefef; padding: 10px; border: 1px solid #ccc; border-radius: 5px; white-space: pre-wrap; line-height: 1.5rem;'>Ground Truth: В случае утери или кражи кредитной карты, вы должны незамедлительно уведомить банк по телефонам горячей линии 8 800 555-10-10 или +7 495 645-59-19 (круглосуточно) и заблокировать карту. Также необходимо подать заявление на досрочный перевыпуск новой карты. Чем быстрее вы заблокируете карту, тем меньше риск несанкционированного использования.</pre>"
      ],
      "text/plain": [
       "<IPython.core.display.HTML object>"
      ]
     },
     "metadata": {},
     "output_type": "display_data"
    },
    {
     "data": {
      "text/html": [
       "<pre style='background-color: #efefef; padding: 10px; border: 1px solid #ccc; border-radius: 5px; white-space: pre-wrap; line-height: 1.5rem;'>Answer: Если вы потеряете карту, вам нужно как можно скорее сообщить об этом в Банк через дистанционное обслуживание и заблокировать карту. Для этого вы можете использовать мобильное приложение банка или позвонить в банк.</pre>"
      ],
      "text/plain": [
       "<IPython.core.display.HTML object>"
      ]
     },
     "metadata": {},
     "output_type": "display_data"
    },
    {
     "name": "stdout",
     "output_type": "stream",
     "text": [
      "____________________________________________\n",
      "Строка 50\n"
     ]
    },
    {
     "data": {
      "text/html": [
       "<pre style='background-color: #efefef; padding: 10px; border: 1px solid #ccc; border-radius: 5px; white-space: pre-wrap; line-height: 1.5rem;'>Вопрос: Прочитал тут у вас про блокировку карточки. А если я её забуду забрать в банкомате, что тогда делать?</pre>"
      ],
      "text/plain": [
       "<IPython.core.display.HTML object>"
      ]
     },
     "metadata": {},
     "output_type": "display_data"
    },
    {
     "data": {
      "text/html": [
       "<pre style='background-color: #efefef; padding: 10px; border: 1px solid #ccc; border-radius: 5px; white-space: pre-wrap; line-height: 1.5rem;'>Ground Truth: Если вы забыли карту в банкомате, вам необходимо незамедлительно сообщить об этом в банк по телефонам горячей линии 8 800 555-10-10 или +7 495 645-59-19 и заблокировать кредитную карту, а также подать заявление на ее досрочный перевыпуск. Это позволит предотвратить возможное несанкционированное использование забытой карты третьими лицами.</pre>"
      ],
      "text/plain": [
       "<IPython.core.display.HTML object>"
      ]
     },
     "metadata": {},
     "output_type": "display_data"
    },
    {
     "data": {
      "text/html": [
       "<pre style='background-color: #efefef; padding: 10px; border: 1px solid #ccc; border-radius: 5px; white-space: pre-wrap; line-height: 1.5rem;'>Answer: Если карта была у Вас украдена на территории РФ, после блокировки карты заявите о случившемся в полицию. При краже карты за границей, заявите в полицию или в консульский отдел посольства Российской Федерации в стране, на территории которой произошла кража. Пожалуйста, сохраняйте копию протокола (квитанцию о заявлении) для последующего предъявления в Банк.</pre>"
      ],
      "text/plain": [
       "<IPython.core.display.HTML object>"
      ]
     },
     "metadata": {},
     "output_type": "display_data"
    },
    {
     "name": "stdout",
     "output_type": "stream",
     "text": [
      "____________________________________________\n",
      "Строка 51\n"
     ]
    },
    {
     "data": {
      "text/html": [
       "<pre style='background-color: #efefef; padding: 10px; border: 1px solid #ccc; border-radius: 5px; white-space: pre-wrap; line-height: 1.5rem;'>Вопрос: А есть ли какие-то льготные условия, если я захочу приостановить выплаты по кредитке на какое-то время? Например, на ремонт или что-то в этом роде?</pre>"
      ],
      "text/plain": [
       "<IPython.core.display.HTML object>"
      ]
     },
     "metadata": {},
     "output_type": "display_data"
    },
    {
     "data": {
      "text/html": [
       "<pre style='background-color: #efefef; padding: 10px; border: 1px solid #ccc; border-radius: 5px; white-space: pre-wrap; line-height: 1.5rem;'>Ground Truth: Да, в документе указано, что по обращению клиента и по согласованию с банком возможно приостановление обязанности по погашению задолженности, выплате минимальных и регулярных платежей на срок от 1 до 12 месяцев. В этот период банк также может приостановить начисление процентов и других сумм по кредитной карте. Таким образом, вы можете получить льготный период для ремонта или других нужд, обратившись в банк с соответствующим заявлением.</pre>"
      ],
      "text/plain": [
       "<IPython.core.display.HTML object>"
      ]
     },
     "metadata": {},
     "output_type": "display_data"
    },
    {
     "data": {
      "text/html": [
       "<pre style='background-color: #efefef; padding: 10px; border: 1px solid #ccc; border-radius: 5px; white-space: pre-wrap; line-height: 1.5rem;'>Answer: Да, согласно представленному контексту, на основании обращения клиента и по согласованию с банком возможно приостановление обязанности клиента по погашению задолженности, оплате регулярных платежей и других платежей на период от 1 до 12 месяцев. В этот период банк также может приостановить начисление процентов и других сумм, предусмотренных кредитным договором. Оставшийся срок возврата кредита будет продлен на согласованный период приостановления обязанности клиента по погашению задолженности.</pre>"
      ],
      "text/plain": [
       "<IPython.core.display.HTML object>"
      ]
     },
     "metadata": {},
     "output_type": "display_data"
    },
    {
     "name": "stdout",
     "output_type": "stream",
     "text": [
      "____________________________________________\n",
      "Строка 52\n"
     ]
    },
    {
     "data": {
      "text/html": [
       "<pre style='background-color: #efefef; padding: 10px; border: 1px solid #ccc; border-radius: 5px; white-space: pre-wrap; line-height: 1.5rem;'>Вопрос: Какие процедуры предусмотрены банком для обработки жалоб клиентов?</pre>"
      ],
      "text/plain": [
       "<IPython.core.display.HTML object>"
      ]
     },
     "metadata": {},
     "output_type": "display_data"
    },
    {
     "data": {
      "text/html": [
       "<pre style='background-color: #efefef; padding: 10px; border: 1px solid #ccc; border-radius: 5px; white-space: pre-wrap; line-height: 1.5rem;'>Ground Truth: Банк следует четко установленным процедурам для обработки жалоб клиентов, которые включают регистрацию жалобы, ее тщательный анализ и предоставление ответа клиенту в соответствии с установленными сроками.</pre>"
      ],
      "text/plain": [
       "<IPython.core.display.HTML object>"
      ]
     },
     "metadata": {},
     "output_type": "display_data"
    },
    {
     "data": {
      "text/html": [
       "<pre style='background-color: #efefef; padding: 10px; border: 1px solid #ccc; border-radius: 5px; white-space: pre-wrap; line-height: 1.5rem;'>Answer: Банк предоставляет процедуры для обработки жалоб клиентов, включая возможность запросить оборотно-сальдовую ведомость по всем счетам бухгалтерского учета и/или регистры бухгалтерского учета. Также банк требует предоставления письма по форме банка с указанием пояснений по каждому документу о причинах невозможности его представления.</pre>"
      ],
      "text/plain": [
       "<IPython.core.display.HTML object>"
      ]
     },
     "metadata": {},
     "output_type": "display_data"
    },
    {
     "name": "stdout",
     "output_type": "stream",
     "text": [
      "____________________________________________\n",
      "Строка 53\n"
     ]
    },
    {
     "data": {
      "text/html": [
       "<pre style='background-color: #efefef; padding: 10px; border: 1px solid #ccc; border-radius: 5px; white-space: pre-wrap; line-height: 1.5rem;'>Вопрос: Что происходит с депозитами в случае смерти?</pre>"
      ],
      "text/plain": [
       "<IPython.core.display.HTML object>"
      ]
     },
     "metadata": {},
     "output_type": "display_data"
    },
    {
     "data": {
      "text/html": [
       "<pre style='background-color: #efefef; padding: 10px; border: 1px solid #ccc; border-radius: 5px; white-space: pre-wrap; line-height: 1.5rem;'>Ground Truth: После смерти клиента банк замораживает все его депозиты и удерживает их до тех пор, пока не будут решены вопросы наследства в соответствии с действующим законодательством.</pre>"
      ],
      "text/plain": [
       "<IPython.core.display.HTML object>"
      ]
     },
     "metadata": {},
     "output_type": "display_data"
    },
    {
     "data": {
      "text/html": [
       "<pre style='background-color: #efefef; padding: 10px; border: 1px solid #ccc; border-radius: 5px; white-space: pre-wrap; line-height: 1.5rem;'>Answer: В случае смерти депозита, банк прекращает начисление процентов, пересчитывает проценты в соответствии с Тарифным планом в порядке досрочного изъятия, направляет средства наследникам по реквизитам, указанным в заявлении на получение наследства, закрывает все счета вклада/накопительные счета и картсчета, расторгает договор вклада (договор накопительного счета).</pre>"
      ],
      "text/plain": [
       "<IPython.core.display.HTML object>"
      ]
     },
     "metadata": {},
     "output_type": "display_data"
    },
    {
     "name": "stdout",
     "output_type": "stream",
     "text": [
      "____________________________________________\n",
      "Строка 54\n"
     ]
    },
    {
     "data": {
      "text/html": [
       "<pre style='background-color: #efefef; padding: 10px; border: 1px solid #ccc; border-radius: 5px; white-space: pre-wrap; line-height: 1.5rem;'>Вопрос: Могу я отказаться от получения уведомлений от банка и как это влияет на его обслуживание?</pre>"
      ],
      "text/plain": [
       "<IPython.core.display.HTML object>"
      ]
     },
     "metadata": {},
     "output_type": "display_data"
    },
    {
     "data": {
      "text/html": [
       "<pre style='background-color: #efefef; padding: 10px; border: 1px solid #ccc; border-radius: 5px; white-space: pre-wrap; line-height: 1.5rem;'>Ground Truth: Клиенты могут отказаться от получения определенных типов уведомлений от банка, но это может привести к тому, что они не будут получать важные обновления и информацию своевременно, что может повлиять на их способность управлять своими счетами и услугами эффективно.</pre>"
      ],
      "text/plain": [
       "<IPython.core.display.HTML object>"
      ]
     },
     "metadata": {},
     "output_type": "display_data"
    },
    {
     "data": {
      "text/html": [
       "<pre style='background-color: #efefef; padding: 10px; border: 1px solid #ccc; border-radius: 5px; white-space: pre-wrap; line-height: 1.5rem;'>Answer: Да, вы можете отказаться от получения уведомлений от банка. Это не повлияет на его обслуживание, но может ограничить доступ к некоторым функциям и информации.</pre>"
      ],
      "text/plain": [
       "<IPython.core.display.HTML object>"
      ]
     },
     "metadata": {},
     "output_type": "display_data"
    },
    {
     "name": "stdout",
     "output_type": "stream",
     "text": [
      "____________________________________________\n",
      "Строка 55\n"
     ]
    },
    {
     "data": {
      "text/html": [
       "<pre style='background-color: #efefef; padding: 10px; border: 1px solid #ccc; border-radius: 5px; white-space: pre-wrap; line-height: 1.5rem;'>Вопрос: Как я могу увеличить лимит по своей кредитной карте?</pre>"
      ],
      "text/plain": [
       "<IPython.core.display.HTML object>"
      ]
     },
     "metadata": {},
     "output_type": "display_data"
    },
    {
     "data": {
      "text/html": [
       "<pre style='background-color: #efefef; padding: 10px; border: 1px solid #ccc; border-radius: 5px; white-space: pre-wrap; line-height: 1.5rem;'>Ground Truth: Чтобы увеличить кредитный лимит, клиентам необходимо подать соответствующее заявление через мобильное приложение или веб-сайт банка. Банк затем оценит их кредитную историю и текущую финансовую ситуацию перед принятием решения.</pre>"
      ],
      "text/plain": [
       "<IPython.core.display.HTML object>"
      ]
     },
     "metadata": {},
     "output_type": "display_data"
    },
    {
     "data": {
      "text/html": [
       "<pre style='background-color: #efefef; padding: 10px; border: 1px solid #ccc; border-radius: 5px; white-space: pre-wrap; line-height: 1.5rem;'>Answer: Я не знаю, как увеличить лимит по кредитной карте, так как эта информация может различаться в зависимости от банка и условий вашей кредитной карты. Пожалуйста, свяжитесь с вашим банком для получения подробной информации о том, как увеличить лимит по вашей кредитной карте.</pre>"
      ],
      "text/plain": [
       "<IPython.core.display.HTML object>"
      ]
     },
     "metadata": {},
     "output_type": "display_data"
    },
    {
     "name": "stdout",
     "output_type": "stream",
     "text": [
      "____________________________________________\n",
      "Строка 56\n"
     ]
    },
    {
     "data": {
      "text/html": [
       "<pre style='background-color: #efefef; padding: 10px; border: 1px solid #ccc; border-radius: 5px; white-space: pre-wrap; line-height: 1.5rem;'>Вопрос: Каковы условия отмены банковской операции, например, перевода средств или платежа?</pre>"
      ],
      "text/plain": [
       "<IPython.core.display.HTML object>"
      ]
     },
     "metadata": {},
     "output_type": "display_data"
    },
    {
     "data": {
      "text/html": [
       "<pre style='background-color: #efefef; padding: 10px; border: 1px solid #ccc; border-radius: 5px; white-space: pre-wrap; line-height: 1.5rem;'>Ground Truth: Условия отмены банковской операции зависят от того, была ли операция уже обработана банком. Для операций, которые еще не обработаны, клиенты могут инициировать отмену, следуя процедурам, описанным в пользовательском соглашении и в зависимости от типа операции.</pre>"
      ],
      "text/plain": [
       "<IPython.core.display.HTML object>"
      ]
     },
     "metadata": {},
     "output_type": "display_data"
    },
    {
     "data": {
      "text/html": [
       "<pre style='background-color: #efefef; padding: 10px; border: 1px solid #ccc; border-radius: 5px; white-space: pre-wrap; line-height: 1.5rem;'>Answer: Я не знаю ответа на этот вопрос.</pre>"
      ],
      "text/plain": [
       "<IPython.core.display.HTML object>"
      ]
     },
     "metadata": {},
     "output_type": "display_data"
    },
    {
     "name": "stdout",
     "output_type": "stream",
     "text": [
      "____________________________________________\n",
      "Строка 57\n"
     ]
    },
    {
     "data": {
      "text/html": [
       "<pre style='background-color: #efefef; padding: 10px; border: 1px solid #ccc; border-radius: 5px; white-space: pre-wrap; line-height: 1.5rem;'>Вопрос: Какие услуги доступны клиентам через Интернет-банк?</pre>"
      ],
      "text/plain": [
       "<IPython.core.display.HTML object>"
      ]
     },
     "metadata": {},
     "output_type": "display_data"
    },
    {
     "data": {
      "text/html": [
       "<pre style='background-color: #efefef; padding: 10px; border: 1px solid #ccc; border-radius: 5px; white-space: pre-wrap; line-height: 1.5rem;'>Ground Truth: Интернет-банк предоставляет клиентам возможности управления их счетами, осуществления платежей и переводов, а также доступ к подробной информации о всех их финансовых операциях.</pre>"
      ],
      "text/plain": [
       "<IPython.core.display.HTML object>"
      ]
     },
     "metadata": {},
     "output_type": "display_data"
    },
    {
     "data": {
      "text/html": [
       "<pre style='background-color: #efefef; padding: 10px; border: 1px solid #ccc; border-radius: 5px; white-space: pre-wrap; line-height: 1.5rem;'>Answer: Из предоставленного контекста невозможно точно определить, какие именно услуги доступны клиентам через Интернет-банк.</pre>"
      ],
      "text/plain": [
       "<IPython.core.display.HTML object>"
      ]
     },
     "metadata": {},
     "output_type": "display_data"
    },
    {
     "name": "stdout",
     "output_type": "stream",
     "text": [
      "____________________________________________\n",
      "Строка 58\n"
     ]
    },
    {
     "data": {
      "text/html": [
       "<pre style='background-color: #efefef; padding: 10px; border: 1px solid #ccc; border-radius: 5px; white-space: pre-wrap; line-height: 1.5rem;'>Вопрос: Я не пользовалась кредиткой год, но у меня там лежат мои 800 рублей, я могу их как-то вернуть?</pre>"
      ],
      "text/plain": [
       "<IPython.core.display.HTML object>"
      ]
     },
     "metadata": {},
     "output_type": "display_data"
    },
    {
     "data": {
      "text/html": [
       "<pre style='background-color: #efefef; padding: 10px; border: 1px solid #ccc; border-radius: 5px; white-space: pre-wrap; line-height: 1.5rem;'>Ground Truth: Согласно пунуту 8.6 - вы не можете вернуть ваши деньги, так как не дали распоряжение Банку о переводе денежных средств в течение 120 дней.</pre>"
      ],
      "text/plain": [
       "<IPython.core.display.HTML object>"
      ]
     },
     "metadata": {},
     "output_type": "display_data"
    },
    {
     "data": {
      "text/html": [
       "<pre style='background-color: #efefef; padding: 10px; border: 1px solid #ccc; border-radius: 5px; white-space: pre-wrap; line-height: 1.5rem;'>Answer: Да, вы можете вернуть свои 800 рублей, которые остались на вашей кредитной карте. Для этого вам нужно написать заявление в банк и указать способ возврата денег. Банк может удержать комиссию за перевод денежных средств.</pre>"
      ],
      "text/plain": [
       "<IPython.core.display.HTML object>"
      ]
     },
     "metadata": {},
     "output_type": "display_data"
    },
    {
     "name": "stdout",
     "output_type": "stream",
     "text": [
      "____________________________________________\n",
      "Результаты пользовательского ввода:\n",
      "[0, 0, 0, 2, 2, 2, 1, 1, 2, 1, 0, 1, 1, 1, 0, 2, 2, 1, 2, 2, 0, 2, 1, 0, 0, 2, 1, 0, 1, 1, 2, 0, 1, 2, 2, 2, 0, 2, 1, 1, 0, 0, 0, 1, 1, 1, 1, 0, 1, 0, 1, 1, 2, 1, 0, 0, 0, 0]\n",
      "                                             question  \\\n",
      "0                 Можно ли не расписываться на карте?   \n",
      "1   Мой друг попросил меня дать свою карту для опл...   \n",
      "2   Безопасно ли хранить пинкод в заметках в телеф...   \n",
      "3                                    Я потеряла карту   \n",
      "4   Почему при использовании карты важно не распис...   \n",
      "5   Что делать, если я потеряла телефон, на которо...   \n",
      "6   Можно ли использовать интернет-кафе и другие о...   \n",
      "7   Что делать, если я получил SMS-оповещение о оп...   \n",
      "8   Как обезопасить себя от съема данных карты в б...   \n",
      "9   Правда ли, что при бронировании гостиницы по к...   \n",
      "10  Если я из другой страны и у меня нет паспорта ...   \n",
      "11  В течении скольких дней действительна выписка ...   \n",
      "12   Нужно ли ИП указывать свой сайт для предприятия?   \n",
      "13  Может ли Банк запросить дополнительные докумен...   \n",
      "14  Какие документы нужно предоставить физическому...   \n",
      "15  Какие документы необходимо предоставить юридич...   \n",
      "16  Можно ли открыть счет индивидуальному предприн...   \n",
      "17  Какие документы потребуются, если открывать сч...   \n",
      "18  Как узнать, кто является бенефициарным владель...   \n",
      "19  Расскажи про термины 'Договор страхования' и '...   \n",
      "20  Какой минимум страховой выплаты мне вернут, ес...   \n",
      "21  При принятии пользовательских соглашений, кому...   \n",
      "22  Зачем страховщик ведет аудио и видеозапись при...   \n",
      "23  В каких случаях застрахованному могут быть опл...   \n",
      "24  Куда пользователь может направить обращение пр...   \n",
      "25  Где можно ознакомиться с дополнительной информ...   \n",
      "26  Что означает 'Партия' и вообще 'Слиток' для др...   \n",
      "27  Меня действительно должны фотографировать посл...   \n",
      "28                            Какие условия хранения?   \n",
      "29            Что такое 'Сертификат качества слитка'?   \n",
      "30  На какой срок выдается эта доверенность? Можно...   \n",
      "31  Как клиент может получить сертификат качества ...   \n",
      "32  Какие условия хранения слитков в банке? Где их...   \n",
      "33  Можно ли вернуть слиток в банк, если при получ...   \n",
      "34                  Кто может стать доверенным лицом?   \n",
      "35  Можно ли поменять доверенное лицо? Как это сде...   \n",
      "36  Как происходит покупка слитка банком? Есть ли ...   \n",
      "37  Что такое накопительный счет и как начисляются...   \n",
      "38                   Можно ли открыть вклад в 12 лет?   \n",
      "39  Могу ли я открыть несколько вкладов и пополнят...   \n",
      "40  Для получения страховой выплаты в случае несча...   \n",
      "41                      Дают ли кредит на автомобиль?   \n",
      "42  Распростроняется ли страховое покрытие на смер...   \n",
      "43  Может ли Банк изменить Тарифный план по кредит...   \n",
      "44  Можно ли внести частичное досрочное погашение ...   \n",
      "45  Что будет в случае просрочки платежа по кредит...   \n",
      "46  Можно ли на время приостановить выплаты по кре...   \n",
      "47  Я хочу оформить дополнительную карту на супруг...   \n",
      "48  А что если я потеряю карту? Сколько у меня ест...   \n",
      "49  Прочитал тут у вас про блокировку карточки. А ...   \n",
      "50  А есть ли какие-то льготные условия, если я за...   \n",
      "51  Какие процедуры предусмотрены банком для обраб...   \n",
      "52       Что происходит с депозитами в случае смерти?   \n",
      "53  Могу я отказаться от получения уведомлений от ...   \n",
      "54  Как я могу увеличить лимит по своей кредитной ...   \n",
      "55  Каковы условия отмены банковской операции, нап...   \n",
      "56  Какие услуги доступны клиентам через Интернет-...   \n",
      "57  Я не пользовалась кредиткой год, но у меня там...   \n",
      "\n",
      "                                             contexts  \\\n",
      "0   [\"['После получения карты поставьте свою подпи...   \n",
      "1   [\"['Никогда не принимайте рекомендации, советы...   \n",
      "2   [\"['Категорически запрещается записывать ПИН-к...   \n",
      "3   [\"[' Вы потеряли карту или ее украли\\\\nПрежде ...   \n",
      "4   [\"['Проверяйте правильность суммы, указанной н...   \n",
      "5   [\"['При утрате Мобильного телефона, используем...   \n",
      "6   [\"['Избегайте осуществления Интернет-операций ...   \n",
      "7   [\"['Если Вы уверены, что операция не могла быт...   \n",
      "8   [\"['Поэтому, при пользовании банкоматом не лен...   \n",
      "9   [\"['При бронировании номера в гостинице по кар...   \n",
      "10  [\"['\\\\n                     1. Документы и све...   \n",
      "11  [\"['\\\\n                    2.2. Выписка из Еди...   \n",
      "12  [\"['\\\\n                    3. Документы и свед...   \n",
      "13  [\"['\\\\n                     26. Банк может зап...   \n",
      "14  [\"['1. Документы и сведения, получаемые в целя...   \n",
      "15  [\"['2.1. Учредительные документы юридического ...   \n",
      "16  [\"['3.1. Идентификация индивидуального предпри...   \n",
      "17  [\"['5.1. Документ, удостоверяющий личность и у...   \n",
      "18  [\"['12. Идентификация бенефициарного(ых) владе...   \n",
      "19  [\"['1. Термины и определения     \\\\n          ...   \n",
      "20  [' \\n                    2.19.   При доброволь...   \n",
      "21  [\"['\\\\n                    5. Персональные дан...   \n",
      "22  [\"['При заключении Договоров страхования, а та...   \n",
      "23  [\"['По договорам добровольного страхования неп...   \n",
      "24  [\"['При возникновении вопросов или спора можно...   \n",
      "25  [\"['Дополнительная информация и документы о де...   \n",
      "26  [\"['\\\\n                    Партия — приобретен...   \n",
      "27  [\"['\\\\n                    2.13.12. После подт...   \n",
      "28  [\"[' \\\\n                    2.14.9. Условия хр...   \n",
      "29  [\"['Сертификат качества слитка — документ о ка...   \n",
      "30  [\"['Датой выдачи доверенности считается дата п...   \n",
      "31  [\"['По требованию Клиента Банк предоставляет К...   \n",
      "32  [\"['Хранение Банком Слитка Клиента осуществляе...   \n",
      "33  [\"['В случае обнаружения при приеме Слитка с о...   \n",
      "34  [\"['Доверенное лицо — физическое лицо, уполном...   \n",
      "35  [\"['Клиент может отменить выданную доверенност...   \n",
      "36  [\"['Банк приобретает у Клиента только Слитки, ...   \n",
      "37  [\"['\\\\n                    3.1. Начисление про...   \n",
      "38  [\"['1.2. Банк не заключает Договор вклада (Дог...   \n",
      "39  [\"['\\\\n                    4.1. Клиент имеет п...   \n",
      "40  [\"['\\\\n                    6.1. По риску Смерт...   \n",
      "41  [\"['3.1. Банк предоставляет Клиенту Кредит на ...   \n",
      "42  [\"[' \\\\n                    Страховое покрытие...   \n",
      "43  [\"['\\\\n                    Банк вправе в однос...   \n",
      "44  [\"['«Клиент имеет право досрочно погасить Задо...   \n",
      "45  [\"['«В случае неоплаты платежа Клиент должен у...   \n",
      "46  [\"['«На основании обращения Клиента и по согла...   \n",
      "47  [\"['«3.2. По заявлению Клиента, переданному в ...   \n",
      "48  [\"['«6.1. При обнаружении утери, кражи или пор...   \n",
      "49  [\"['«6.1. [...] а также в случае изъятия Креди...   \n",
      "50  [\"['«5.15. На основании обращения Клиента и по...   \n",
      "51  [\"['Банк имеет установленные процедуры для обр...   \n",
      "52  [\"['В случае смерти клиента банк замораживает ...   \n",
      "53  [\"['Клиенты имеют право отказаться от получени...   \n",
      "54  [\"['Для увеличения кредитного лимита клиенты д...   \n",
      "55  [\"['Клиенты могут отменить определенные банков...   \n",
      "56  [\"['Через Интернет-банк клиенты могут управлят...   \n",
      "57  ['[\\'\"8. Расторжение Договора кредитной карты\\...   \n",
      "\n",
      "                                         ground_truth  \\\n",
      "0   При отсутствии подписи карта может быть не при...   \n",
      "1   Не передавайте карту другим лицам, в т.ч. родс...   \n",
      "2   Да, однако не указывайте в названии заметки, ч...   \n",
      "3   Если вы не уверены, что карту украли, не спеши...   \n",
      "4   Важно проверять правильность суммы перед подпи...   \n",
      "5   Если вы потеряли телефон с установленным мобил...   \n",
      "6   Нет, не рекомендуется использовать интернет-ка...   \n",
      "7   Если вы получили SMS-оповещение о операции, ко...   \n",
      "8   Чтобы обезопасить себя от съема данных карты в...   \n",
      "9   Нет, неправда. При бронировании гостиницы по к...   \n",
      "10  \\n                        Если вы из другой ст...   \n",
      "11  Выписка из Единого государственного реестра юр...   \n",
      "12  Да, индивидуальному предпринимателю необходимо...   \n",
      "13  Да, Банк может запросить у Вас дополнительные ...   \n",
      "14  Физическому лицу для открытия счета необходимо...   \n",
      "15  Юридическому лицу необходимо предоставить учре...   \n",
      "16  Да, индивидуальному предпринимателю-иностранно...   \n",
      "17  Для открытия счета нотариусу, занимающемуся ча...   \n",
      "18  Для идентификации бенефициарного владельца юри...   \n",
      "19   Да, конечно! Договор страхования — это догово...   \n",
      "20   \\n                    Минимальная страховая в...   \n",
      "21  \\n                    Согласно пункту 5.1 поль...   \n",
      "22  Страховщик ведет аудио, видеозапись, фотографи...   \n",
      "23  По договорам добровольного страхования непредв...   \n",
      "24  При возникновении вопросов или спора с АО 'Тин...   \n",
      "25  Дополнительная информация и документы о деятел...   \n",
      "26  Давайте разберемся! \\n                    Парт...   \n",
      "27  Да, Вас действительно должнен сфотографировать...   \n",
      "28  \\n                    В соответсвии с пунктом ...   \n",
      "29  Сертификат качества слитка - это документ, выд...   \n",
      "30  Доверенность выдается сроком на 1 год. Полномо...   \n",
      "31  По требованию клиента банк предоставляет ему з...   \n",
      "32  Слитки хранятся в специальном хранилище 5 клас...   \n",
      "33  Да, если при получении слитка с хранения были ...   \n",
      "34  Доверенным лицом клиента может стать любое физ...   \n",
      "35  Да, клиент может отменить ранее выданную довер...   \n",
      "36  Банк осуществляет покупку слитков драгоценных ...   \n",
      "37  \\n                    Накопительный счет - это...   \n",
      "38  Нет, Банк не заключает договор вклада с лицами...   \n",
      "39   \\n                    Да, вы можете открыть н...   \n",
      "40  Да, в таком случае необходимы справки из психо...   \n",
      "41  Да, в соответсвии с пунктом 3.1. Банк предоста...   \n",
      "42  Нет, страховое покрытие не распространяется на...   \n",
      "43  Да, Банк может изменить Тарифный план по креди...   \n",
      "44  Да, Клиент имеет право совершить частичное дос...   \n",
      "45  В случае неоплаты минимального платежа по кред...   \n",
      "46  Да, на основании обращения Клиента и по соглас...   \n",
      "47  Вы можете оформить дополнительную кредитную ка...   \n",
      "48  В случае утери или кражи кредитной карты, вы д...   \n",
      "49  Если вы забыли карту в банкомате, вам необходи...   \n",
      "50  Да, в документе указано, что по обращению клие...   \n",
      "51  Банк следует четко установленным процедурам дл...   \n",
      "52  После смерти клиента банк замораживает все его...   \n",
      "53  Клиенты могут отказаться от получения определе...   \n",
      "54  Чтобы увеличить кредитный лимит, клиентам необ...   \n",
      "55  Условия отмены банковской операции зависят от ...   \n",
      "56  Интернет-банк предоставляет клиентам возможнос...   \n",
      "57  Согласно пунуту 8.6 - вы не можете вернуть ваш...   \n",
      "\n",
      "                                               answer  faithfulness  \\\n",
      "0     Не указано, можно ли не расписываться на карте.           NaN   \n",
      "1   Да, использование карты будет безопасным, если...           NaN   \n",
      "2   Нет, не рекомендуется хранить пинкод в заметка...           NaN   \n",
      "3   Если вы потеряли карту, вам следует немедленно...      0.500000   \n",
      "4   Подпись на квитанциях/чеках до проверки правил...           NaN   \n",
      "5   Если вы потеряли телефон, на котором было уста...      1.000000   \n",
      "6   Нет, нельзя использовать интернет-кафе и други...      1.000000   \n",
      "7   Проверьте наличие карты. Если карта у Вас, то ...           NaN   \n",
      "8   Для того чтобы обезопасить себя от съема данны...      1.000000   \n",
      "9   При бронировании гостиницы по карте вам потреб...           NaN   \n",
      "10  Если вы являетесь лицом без гражданства и нахо...      1.000000   \n",
      "11  Выписка из ЕГРЮЛ действительна в течение 30 ка...      1.000000   \n",
      "12  Да, ИП должен указывать свой сайт для предприя...      0.000000   \n",
      "13  Да, Банк имеет право дополнительно запросить о...           NaN   \n",
      "14  Для открытия счета физическому лицу необходимо...           NaN   \n",
      "15  Для открытия счета в Банке юридическому лицу н...      1.000000   \n",
      "16  Да, согласно представленному контексту, индиви...           NaN   \n",
      "17  Для открытия счета нотариусу, занимающемуся ча...      0.666667   \n",
      "18  Для того чтобы узнать, кто является бенефициар...      1.000000   \n",
      "19  Договор страхования - это соглашение между стр...      0.666667   \n",
      "20                   Я не знаю ответа на этот вопрос.           NaN   \n",
      "21  Мои данные могут попасть другим лицам, включая...      1.000000   \n",
      "22  Страховщик ведет аудио и видеозапись при взаим...      1.000000   \n",
      "23                   Я не знаю ответа на этот вопрос.           NaN   \n",
      "24  Пользователь может направить обращение при воз...      0.285714   \n",
      "25  Дополнительную информацию и документы о деятел...           NaN   \n",
      "26  Партия - это приобретенные Клиентом Слитки в к...      1.000000   \n",
      "27                   Я не знаю ответа на этот вопрос.           NaN   \n",
      "28  Условия хранения включают температуру воздуха ...      1.000000   \n",
      "29  Сертификат качества слитка - это документ о ка...      1.000000   \n",
      "30  Из предоставленного контекста невозможно опред...           NaN   \n",
      "31  Клиент может получить сертификат качества слит...           NaN   \n",
      "32  Слитки в банке хранятся в специальном помещени...      0.666667   \n",
      "33  Да, согласно представленному контексту, клиент...           NaN   \n",
      "34  Доверенным лицом может стать юридическое лицо ...      0.000000   \n",
      "35  Да, можно поменять доверенное лицо. Для этого ...           NaN   \n",
      "36  Из предоставленного контекста нельзя однозначн...           NaN   \n",
      "37  Накопительный счет - это счет, на котором учит...      1.000000   \n",
      "38  Нет, согласно представленному контексту, Банк ...           NaN   \n",
      "39  Да, согласно представленному контексту, клиент...           NaN   \n",
      "40  Нет, справка из психушки не требуется для полу...           NaN   \n",
      "41  Нет информации о кредитовании автомобилей в да...           NaN   \n",
      "42                                                 Да      0.000000   \n",
      "43  Да, Банк может изменить Тарифный план по креди...      1.000000   \n",
      "44  Да, клиент имеет право внести частичное досроч...      1.000000   \n",
      "45  В случае просрочки платежа по кредиту могут бы...      1.000000   \n",
      "46  Да, на основании обращения клиента и по соглас...      0.600000   \n",
      "47  Я не знаю, как оформить дополнительную карту н...           NaN   \n",
      "48  Если вы потеряете карту, вам нужно как можно с...           NaN   \n",
      "49  Если карта была у Вас украдена на территории Р...      0.666667   \n",
      "50  Да, согласно представленному контексту, на осн...      1.000000   \n",
      "51  Банк предоставляет процедуры для обработки жал...           NaN   \n",
      "52  В случае смерти депозита, банк прекращает начи...           NaN   \n",
      "53  Да, вы можете отказаться от получения уведомле...           NaN   \n",
      "54  Я не знаю, как увеличить лимит по кредитной ка...           NaN   \n",
      "55                   Я не знаю ответа на этот вопрос.           NaN   \n",
      "56  Из предоставленного контекста невозможно точно...           NaN   \n",
      "57  Да, вы можете вернуть свои 800 рублей, которые...           NaN   \n",
      "\n",
      "    answer_relevancy  context_precision  context_relevancy  answer_similarity  \\\n",
      "0           0.000000                1.0           1.000000           0.811101   \n",
      "1           0.841236                1.0           1.000000           0.863962   \n",
      "2           0.000000                1.0           0.000000           0.886986   \n",
      "3           0.870734                1.0           0.300000           0.910199   \n",
      "4           0.920934                1.0           0.000000           0.954130   \n",
      "5           0.946174                1.0           1.000000           0.932893   \n",
      "6           0.962368                1.0           1.000000           0.956816   \n",
      "7           0.866305                1.0           1.000000           0.918248   \n",
      "8           0.971479                1.0           1.000000           0.936355   \n",
      "9           0.916637                1.0           1.000000           0.939711   \n",
      "10          0.000000                1.0           0.166667           0.936281   \n",
      "11          0.968630                1.0           0.250000           0.947873   \n",
      "12          0.954505                1.0           0.666667           0.929378   \n",
      "13          0.962073                1.0           0.250000           0.908355   \n",
      "14          0.991141                1.0           1.000000           0.944503   \n",
      "15          0.949714                1.0           0.000000           0.951906   \n",
      "16          0.942691                1.0           1.000000           0.942328   \n",
      "17          0.924230                1.0           1.000000           0.951314   \n",
      "18          0.937868                1.0           1.000000           0.967600   \n",
      "19          0.875539                1.0           0.250000           0.937980   \n",
      "20          0.000000                1.0           0.200000           0.752914   \n",
      "21          0.000000                1.0           0.250000           0.881107   \n",
      "22          0.937510                1.0           1.000000           0.977124   \n",
      "23          0.000000                1.0           1.000000           0.779073   \n",
      "24          0.979188                1.0           1.000000           0.915763   \n",
      "25          0.991238                1.0           1.000000           0.950701   \n",
      "26          0.867917                1.0           1.000000           0.935629   \n",
      "27          0.000000                1.0           1.000000           0.777616   \n",
      "28          0.965477                1.0           0.750000           0.932819   \n",
      "29          0.829405                1.0           1.000000           0.990096   \n",
      "30          0.000000                1.0           1.000000           0.892511   \n",
      "31          0.996966                1.0           1.000000           0.947300   \n",
      "32          0.944735                1.0           1.000000           0.957763   \n",
      "33          0.950077                1.0           1.000000           0.912159   \n",
      "34          0.963069                1.0           1.000000           0.891399   \n",
      "35          0.991871                1.0           1.000000           0.932285   \n",
      "36          0.000000                1.0           1.000000           0.929445   \n",
      "37          0.953366                1.0           0.333333           0.950454   \n",
      "38          0.888754                1.0           1.000000           0.979416   \n",
      "39          0.902381                1.0           0.375000           0.910703   \n",
      "40          0.000000                1.0           0.666667           0.855506   \n",
      "41          0.000000                1.0           1.000000           0.864233   \n",
      "42          0.000000                1.0           0.500000           0.755390   \n",
      "43          0.969623                1.0           1.000000           0.960253   \n",
      "44          0.948555                1.0           1.000000           0.980029   \n",
      "45          0.947406                1.0           1.000000           0.917177   \n",
      "46          0.957807                1.0           1.000000           0.976501   \n",
      "47          0.000000                1.0           1.000000           0.928284   \n",
      "48          0.888786                1.0           1.000000           0.915141   \n",
      "49          0.854830                1.0           1.000000           0.882907   \n",
      "50          0.895507                1.0           1.000000           0.967631   \n",
      "51          0.988582                1.0           1.000000           0.911744   \n",
      "52          0.865758                1.0           1.000000           0.915648   \n",
      "53          0.952851                1.0           1.000000           0.934876   \n",
      "54          0.000000                1.0           1.000000           0.895260   \n",
      "55          0.000000                1.0           1.000000           0.765703   \n",
      "56          0.000000                1.0           1.000000           0.891867   \n",
      "57          0.946879                1.0           0.076923           0.873982   \n",
      "\n",
      "    bleu_score  cos-sim-TF-IDF  sim-spacy  cos-sim-BertModel  human  \n",
      "0       0.0000        0.077070   0.445012           0.962151      0  \n",
      "1       0.0000        0.058044   0.845790           0.988961      0  \n",
      "2       0.0000        0.056122   0.543077           0.971645      0  \n",
      "3       0.0000        0.200897   0.903016           0.991184      2  \n",
      "4       0.0000        0.095980   0.860726           0.986887      2  \n",
      "5       0.0000        0.091971   0.771761           0.988128      2  \n",
      "6       0.2703        0.335480   0.920774           0.989851      1  \n",
      "7       0.0000        0.120239   0.820956           0.980761      1  \n",
      "8       0.0434        0.182184   0.926720           0.985207      2  \n",
      "9       0.2542        0.400257   0.890918           0.993448      1  \n",
      "10      0.0000        0.169517   0.854023           0.985457      0  \n",
      "11      0.2818        0.547675   0.930322           0.979881      1  \n",
      "12      0.0000        0.052250   0.671037           0.957059      1  \n",
      "13      0.0000        0.114873   0.623433           0.975561      1  \n",
      "14      0.0000        0.120017   0.901617           0.981424      0  \n",
      "15      0.0000        0.242237   0.918056           0.988176      2  \n",
      "16      0.0000        0.081896   0.897574           0.969698      2  \n",
      "17      0.0043        0.206739   0.927586           0.987027      1  \n",
      "18      0.0028        0.248485   0.851023           0.985897      2  \n",
      "19      0.0000        0.243856   0.875033           0.986001      2  \n",
      "20      0.0000        0.000000   0.705354           0.888243      0  \n",
      "21      0.0000        0.111456   0.725240           0.982407      2  \n",
      "22      0.0837        0.349390   0.966309           0.990571      1  \n",
      "23      0.0000        0.073349   0.726362           0.873519      0  \n",
      "24      0.0510        0.137080   0.906280           0.983045      0  \n",
      "25      0.1663        0.189755   0.907349           0.979832      2  \n",
      "26      0.1024        0.304456   0.973320           0.994473      1  \n",
      "27      0.0000        0.000000   0.565071           0.928687      0  \n",
      "28      0.4266        0.787639   0.935024           0.990773      1  \n",
      "29      0.2041        0.643760   0.959325           0.994699      1  \n",
      "30      0.0000        0.037585   0.808841           0.977700      2  \n",
      "31      0.0000        0.318460   0.870785           0.984284      0  \n",
      "32      0.1188        0.353201   0.949123           0.988621      1  \n",
      "33      0.0000        0.151898   0.912367           0.992563      2  \n",
      "34      0.0000        0.155456   0.757424           0.985608      2  \n",
      "35      0.0943        0.428837   0.919914           0.985248      2  \n",
      "36      0.0000        0.081820   0.893044           0.984659      0  \n",
      "37      0.1528        0.453237   0.951492           0.989548      2  \n",
      "38      0.7388        0.838212   0.896380           0.992889      1  \n",
      "39      0.1166        0.251654   0.833940           0.973824      1  \n",
      "40      0.0000        0.081506   0.811149           0.978872      0  \n",
      "41      0.0000        0.000000   0.686364           0.965766      0  \n",
      "42      0.0000        0.000000   0.000000           0.523208      0  \n",
      "43      0.1402        0.427563   0.966180           0.988014      1  \n",
      "44      0.2070        0.639225   0.954243           0.996001      1  \n",
      "45      0.0000        0.171603   0.890761           0.990688      1  \n",
      "46      0.3024        0.599099   0.935600           0.993993      1  \n",
      "47      0.1268        0.284436   0.772896           0.972000      0  \n",
      "48      0.0000        0.177240   0.786467           0.988925      1  \n",
      "49      0.0000        0.075323   0.684462           0.987537      0  \n",
      "50      0.4068        0.560964   0.975322           0.995591      1  \n",
      "51      0.0573        0.100200   0.831655           0.989781      1  \n",
      "52      0.0000        0.084881   0.817837           0.983181      2  \n",
      "53      0.0000        0.293799   0.893627           0.984501      1  \n",
      "54      0.0000        0.066547   0.769124           0.982973      0  \n",
      "55      0.0000        0.036206   0.612880           0.900779      0  \n",
      "56      0.0000        0.097157   0.715149           0.984181      0  \n",
      "57      0.0000        0.101999   0.797931           0.984613      0  \n"
     ]
    }
   ],
   "source": [
    "\n",
    "# Создание пустого массива для хранения пользовательских значений\n",
    "user_inputs = []\n",
    "\n",
    "# Проход по каждой строке DataFrame\n",
    "for index, row in df.iterrows():\n",
    "    print(f\"Строка {index + 1}\")\n",
    "    nice_print('Вопрос: ' + row['question'])\n",
    "    nice_print('Ground Truth: ' + row['ground_truth'])\n",
    "    nice_print('Answer: ' + row['answer'])\n",
    "    print('____________________________________________')\n",
    "    \n",
    "    # Получение пользовательского ввода\n",
    "    while True:\n",
    "        user_input = input(\"Введите число (0, 1 или 2, где 0 - это отсутсвие сходства, 1 - полное, 2 - частичное): \")\n",
    "        if user_input in ['0', '1', '2']:\n",
    "            user_inputs.append(int(user_input))\n",
    "            break\n",
    "        else:\n",
    "            print(\"Неверный ввод. Пожалуйста, введите 0, 1 или 2.\")\n",
    "\n",
    "# Проверка результатов\n",
    "print(\"Результаты пользовательского ввода:\")\n",
    "print(user_inputs)\n"
   ]
  },
  {
   "cell_type": "code",
   "execution_count": 24,
   "metadata": {},
   "outputs": [],
   "source": [
    "user_inputs = [0.5 if elem == 2 else elem for elem in user_inputs]"
   ]
  },
  {
   "cell_type": "code",
   "execution_count": 25,
   "metadata": {},
   "outputs": [],
   "source": [
    "# Пример добавления пользовательских значений в DataFrame (если нужно)\n",
    "df['human'] = user_inputs"
   ]
  },
  {
   "cell_type": "code",
   "execution_count": 20,
   "metadata": {},
   "outputs": [
    {
     "data": {
      "text/html": [
       "<div>\n",
       "<style scoped>\n",
       "    .dataframe tbody tr th:only-of-type {\n",
       "        vertical-align: middle;\n",
       "    }\n",
       "\n",
       "    .dataframe tbody tr th {\n",
       "        vertical-align: top;\n",
       "    }\n",
       "\n",
       "    .dataframe thead th {\n",
       "        text-align: right;\n",
       "    }\n",
       "</style>\n",
       "<table border=\"1\" class=\"dataframe\">\n",
       "  <thead>\n",
       "    <tr style=\"text-align: right;\">\n",
       "      <th></th>\n",
       "      <th>question</th>\n",
       "      <th>contexts</th>\n",
       "      <th>ground_truth</th>\n",
       "      <th>answer</th>\n",
       "      <th>faithfulness</th>\n",
       "      <th>answer_relevancy</th>\n",
       "      <th>context_precision</th>\n",
       "      <th>context_relevancy</th>\n",
       "      <th>answer_similarity</th>\n",
       "      <th>bleu_score</th>\n",
       "      <th>cos-sim-TF-IDF</th>\n",
       "      <th>sim-spacy</th>\n",
       "      <th>cos-sim-BertModel</th>\n",
       "      <th>human</th>\n",
       "    </tr>\n",
       "  </thead>\n",
       "  <tbody>\n",
       "    <tr>\n",
       "      <th>0</th>\n",
       "      <td>Можно ли не расписываться на карте?</td>\n",
       "      <td>[\"['После получения карты поставьте свою подпи...</td>\n",
       "      <td>При отсутствии подписи карта может быть не при...</td>\n",
       "      <td>Не указано, можно ли не расписываться на карте.</td>\n",
       "      <td>NaN</td>\n",
       "      <td>0.000000</td>\n",
       "      <td>1.0</td>\n",
       "      <td>1.000000</td>\n",
       "      <td>0.811101</td>\n",
       "      <td>0.0000</td>\n",
       "      <td>0.077070</td>\n",
       "      <td>0.445012</td>\n",
       "      <td>0.962151</td>\n",
       "      <td>0.0</td>\n",
       "    </tr>\n",
       "    <tr>\n",
       "      <th>1</th>\n",
       "      <td>Мой друг попросил меня дать свою карту для опл...</td>\n",
       "      <td>[\"['Никогда не принимайте рекомендации, советы...</td>\n",
       "      <td>Не передавайте карту другим лицам, в т.ч. родс...</td>\n",
       "      <td>Да, использование карты будет безопасным, если...</td>\n",
       "      <td>NaN</td>\n",
       "      <td>0.841236</td>\n",
       "      <td>1.0</td>\n",
       "      <td>1.000000</td>\n",
       "      <td>0.863962</td>\n",
       "      <td>0.0000</td>\n",
       "      <td>0.058044</td>\n",
       "      <td>0.845790</td>\n",
       "      <td>0.988961</td>\n",
       "      <td>0.0</td>\n",
       "    </tr>\n",
       "    <tr>\n",
       "      <th>2</th>\n",
       "      <td>Безопасно ли хранить пинкод в заметках в телеф...</td>\n",
       "      <td>[\"['Категорически запрещается записывать ПИН-к...</td>\n",
       "      <td>Да, однако не указывайте в названии заметки, ч...</td>\n",
       "      <td>Нет, не рекомендуется хранить пинкод в заметка...</td>\n",
       "      <td>NaN</td>\n",
       "      <td>0.000000</td>\n",
       "      <td>1.0</td>\n",
       "      <td>0.000000</td>\n",
       "      <td>0.886986</td>\n",
       "      <td>0.0000</td>\n",
       "      <td>0.056122</td>\n",
       "      <td>0.543077</td>\n",
       "      <td>0.971645</td>\n",
       "      <td>0.0</td>\n",
       "    </tr>\n",
       "    <tr>\n",
       "      <th>3</th>\n",
       "      <td>Я потеряла карту</td>\n",
       "      <td>[\"[' Вы потеряли карту или ее украли\\\\nПрежде ...</td>\n",
       "      <td>Если вы не уверены, что карту украли, не спеши...</td>\n",
       "      <td>Если вы потеряли карту, вам следует немедленно...</td>\n",
       "      <td>0.500000</td>\n",
       "      <td>0.870734</td>\n",
       "      <td>1.0</td>\n",
       "      <td>0.300000</td>\n",
       "      <td>0.910199</td>\n",
       "      <td>0.0000</td>\n",
       "      <td>0.200897</td>\n",
       "      <td>0.903016</td>\n",
       "      <td>0.991184</td>\n",
       "      <td>0.5</td>\n",
       "    </tr>\n",
       "    <tr>\n",
       "      <th>4</th>\n",
       "      <td>Почему при использовании карты важно не распис...</td>\n",
       "      <td>[\"['Проверяйте правильность суммы, указанной н...</td>\n",
       "      <td>Важно проверять правильность суммы перед подпи...</td>\n",
       "      <td>Подпись на квитанциях/чеках до проверки правил...</td>\n",
       "      <td>NaN</td>\n",
       "      <td>0.920934</td>\n",
       "      <td>1.0</td>\n",
       "      <td>0.000000</td>\n",
       "      <td>0.954130</td>\n",
       "      <td>0.0000</td>\n",
       "      <td>0.095980</td>\n",
       "      <td>0.860726</td>\n",
       "      <td>0.986887</td>\n",
       "      <td>0.5</td>\n",
       "    </tr>\n",
       "    <tr>\n",
       "      <th>5</th>\n",
       "      <td>Что делать, если я потеряла телефон, на которо...</td>\n",
       "      <td>[\"['При утрате Мобильного телефона, используем...</td>\n",
       "      <td>Если вы потеряли телефон с установленным мобил...</td>\n",
       "      <td>Если вы потеряли телефон, на котором было уста...</td>\n",
       "      <td>1.000000</td>\n",
       "      <td>0.946174</td>\n",
       "      <td>1.0</td>\n",
       "      <td>1.000000</td>\n",
       "      <td>0.932893</td>\n",
       "      <td>0.0000</td>\n",
       "      <td>0.091971</td>\n",
       "      <td>0.771761</td>\n",
       "      <td>0.988128</td>\n",
       "      <td>0.5</td>\n",
       "    </tr>\n",
       "    <tr>\n",
       "      <th>6</th>\n",
       "      <td>Можно ли использовать интернет-кафе и другие о...</td>\n",
       "      <td>[\"['Избегайте осуществления Интернет-операций ...</td>\n",
       "      <td>Нет, не рекомендуется использовать интернет-ка...</td>\n",
       "      <td>Нет, нельзя использовать интернет-кафе и други...</td>\n",
       "      <td>1.000000</td>\n",
       "      <td>0.962368</td>\n",
       "      <td>1.0</td>\n",
       "      <td>1.000000</td>\n",
       "      <td>0.956816</td>\n",
       "      <td>0.2703</td>\n",
       "      <td>0.335480</td>\n",
       "      <td>0.920774</td>\n",
       "      <td>0.989851</td>\n",
       "      <td>1.0</td>\n",
       "    </tr>\n",
       "    <tr>\n",
       "      <th>7</th>\n",
       "      <td>Что делать, если я получил SMS-оповещение о оп...</td>\n",
       "      <td>[\"['Если Вы уверены, что операция не могла быт...</td>\n",
       "      <td>Если вы получили SMS-оповещение о операции, ко...</td>\n",
       "      <td>Проверьте наличие карты. Если карта у Вас, то ...</td>\n",
       "      <td>NaN</td>\n",
       "      <td>0.866305</td>\n",
       "      <td>1.0</td>\n",
       "      <td>1.000000</td>\n",
       "      <td>0.918248</td>\n",
       "      <td>0.0000</td>\n",
       "      <td>0.120239</td>\n",
       "      <td>0.820956</td>\n",
       "      <td>0.980761</td>\n",
       "      <td>1.0</td>\n",
       "    </tr>\n",
       "    <tr>\n",
       "      <th>8</th>\n",
       "      <td>Как обезопасить себя от съема данных карты в б...</td>\n",
       "      <td>[\"['Поэтому, при пользовании банкоматом не лен...</td>\n",
       "      <td>Чтобы обезопасить себя от съема данных карты в...</td>\n",
       "      <td>Для того чтобы обезопасить себя от съема данны...</td>\n",
       "      <td>1.000000</td>\n",
       "      <td>0.971479</td>\n",
       "      <td>1.0</td>\n",
       "      <td>1.000000</td>\n",
       "      <td>0.936355</td>\n",
       "      <td>0.0434</td>\n",
       "      <td>0.182184</td>\n",
       "      <td>0.926720</td>\n",
       "      <td>0.985207</td>\n",
       "      <td>0.5</td>\n",
       "    </tr>\n",
       "    <tr>\n",
       "      <th>9</th>\n",
       "      <td>Правда ли, что при бронировании гостиницы по к...</td>\n",
       "      <td>[\"['При бронировании номера в гостинице по кар...</td>\n",
       "      <td>Нет, неправда. При бронировании гостиницы по к...</td>\n",
       "      <td>При бронировании гостиницы по карте вам потреб...</td>\n",
       "      <td>NaN</td>\n",
       "      <td>0.916637</td>\n",
       "      <td>1.0</td>\n",
       "      <td>1.000000</td>\n",
       "      <td>0.939711</td>\n",
       "      <td>0.2542</td>\n",
       "      <td>0.400257</td>\n",
       "      <td>0.890918</td>\n",
       "      <td>0.993448</td>\n",
       "      <td>1.0</td>\n",
       "    </tr>\n",
       "    <tr>\n",
       "      <th>10</th>\n",
       "      <td>Если я из другой страны и у меня нет паспорта ...</td>\n",
       "      <td>[\"['\\\\n                     1. Документы и све...</td>\n",
       "      <td>\\n                        Если вы из другой ст...</td>\n",
       "      <td>Если вы являетесь лицом без гражданства и нахо...</td>\n",
       "      <td>1.000000</td>\n",
       "      <td>0.000000</td>\n",
       "      <td>1.0</td>\n",
       "      <td>0.166667</td>\n",
       "      <td>0.936281</td>\n",
       "      <td>0.0000</td>\n",
       "      <td>0.169517</td>\n",
       "      <td>0.854023</td>\n",
       "      <td>0.985457</td>\n",
       "      <td>0.0</td>\n",
       "    </tr>\n",
       "    <tr>\n",
       "      <th>11</th>\n",
       "      <td>В течении скольких дней действительна выписка ...</td>\n",
       "      <td>[\"['\\\\n                    2.2. Выписка из Еди...</td>\n",
       "      <td>Выписка из Единого государственного реестра юр...</td>\n",
       "      <td>Выписка из ЕГРЮЛ действительна в течение 30 ка...</td>\n",
       "      <td>1.000000</td>\n",
       "      <td>0.968630</td>\n",
       "      <td>1.0</td>\n",
       "      <td>0.250000</td>\n",
       "      <td>0.947873</td>\n",
       "      <td>0.2818</td>\n",
       "      <td>0.547675</td>\n",
       "      <td>0.930322</td>\n",
       "      <td>0.979881</td>\n",
       "      <td>1.0</td>\n",
       "    </tr>\n",
       "    <tr>\n",
       "      <th>12</th>\n",
       "      <td>Нужно ли ИП указывать свой сайт для предприятия?</td>\n",
       "      <td>[\"['\\\\n                    3. Документы и свед...</td>\n",
       "      <td>Да, индивидуальному предпринимателю необходимо...</td>\n",
       "      <td>Да, ИП должен указывать свой сайт для предприя...</td>\n",
       "      <td>0.000000</td>\n",
       "      <td>0.954505</td>\n",
       "      <td>1.0</td>\n",
       "      <td>0.666667</td>\n",
       "      <td>0.929378</td>\n",
       "      <td>0.0000</td>\n",
       "      <td>0.052250</td>\n",
       "      <td>0.671037</td>\n",
       "      <td>0.957059</td>\n",
       "      <td>1.0</td>\n",
       "    </tr>\n",
       "    <tr>\n",
       "      <th>13</th>\n",
       "      <td>Может ли Банк запросить дополнительные докумен...</td>\n",
       "      <td>[\"['\\\\n                     26. Банк может зап...</td>\n",
       "      <td>Да, Банк может запросить у Вас дополнительные ...</td>\n",
       "      <td>Да, Банк имеет право дополнительно запросить о...</td>\n",
       "      <td>NaN</td>\n",
       "      <td>0.962073</td>\n",
       "      <td>1.0</td>\n",
       "      <td>0.250000</td>\n",
       "      <td>0.908355</td>\n",
       "      <td>0.0000</td>\n",
       "      <td>0.114873</td>\n",
       "      <td>0.623433</td>\n",
       "      <td>0.975561</td>\n",
       "      <td>1.0</td>\n",
       "    </tr>\n",
       "    <tr>\n",
       "      <th>14</th>\n",
       "      <td>Какие документы нужно предоставить физическому...</td>\n",
       "      <td>[\"['1. Документы и сведения, получаемые в целя...</td>\n",
       "      <td>Физическому лицу для открытия счета необходимо...</td>\n",
       "      <td>Для открытия счета физическому лицу необходимо...</td>\n",
       "      <td>NaN</td>\n",
       "      <td>0.991141</td>\n",
       "      <td>1.0</td>\n",
       "      <td>1.000000</td>\n",
       "      <td>0.944503</td>\n",
       "      <td>0.0000</td>\n",
       "      <td>0.120017</td>\n",
       "      <td>0.901617</td>\n",
       "      <td>0.981424</td>\n",
       "      <td>0.0</td>\n",
       "    </tr>\n",
       "    <tr>\n",
       "      <th>15</th>\n",
       "      <td>Какие документы необходимо предоставить юридич...</td>\n",
       "      <td>[\"['2.1. Учредительные документы юридического ...</td>\n",
       "      <td>Юридическому лицу необходимо предоставить учре...</td>\n",
       "      <td>Для открытия счета в Банке юридическому лицу н...</td>\n",
       "      <td>1.000000</td>\n",
       "      <td>0.949714</td>\n",
       "      <td>1.0</td>\n",
       "      <td>0.000000</td>\n",
       "      <td>0.951906</td>\n",
       "      <td>0.0000</td>\n",
       "      <td>0.242237</td>\n",
       "      <td>0.918056</td>\n",
       "      <td>0.988176</td>\n",
       "      <td>0.5</td>\n",
       "    </tr>\n",
       "    <tr>\n",
       "      <th>16</th>\n",
       "      <td>Можно ли открыть счет индивидуальному предприн...</td>\n",
       "      <td>[\"['3.1. Идентификация индивидуального предпри...</td>\n",
       "      <td>Да, индивидуальному предпринимателю-иностранно...</td>\n",
       "      <td>Да, согласно представленному контексту, индиви...</td>\n",
       "      <td>NaN</td>\n",
       "      <td>0.942691</td>\n",
       "      <td>1.0</td>\n",
       "      <td>1.000000</td>\n",
       "      <td>0.942328</td>\n",
       "      <td>0.0000</td>\n",
       "      <td>0.081896</td>\n",
       "      <td>0.897574</td>\n",
       "      <td>0.969698</td>\n",
       "      <td>0.5</td>\n",
       "    </tr>\n",
       "    <tr>\n",
       "      <th>17</th>\n",
       "      <td>Какие документы потребуются, если открывать сч...</td>\n",
       "      <td>[\"['5.1. Документ, удостоверяющий личность и у...</td>\n",
       "      <td>Для открытия счета нотариусу, занимающемуся ча...</td>\n",
       "      <td>Для открытия счета нотариусу, занимающемуся ча...</td>\n",
       "      <td>0.666667</td>\n",
       "      <td>0.924230</td>\n",
       "      <td>1.0</td>\n",
       "      <td>1.000000</td>\n",
       "      <td>0.951314</td>\n",
       "      <td>0.0043</td>\n",
       "      <td>0.206739</td>\n",
       "      <td>0.927586</td>\n",
       "      <td>0.987027</td>\n",
       "      <td>1.0</td>\n",
       "    </tr>\n",
       "    <tr>\n",
       "      <th>18</th>\n",
       "      <td>Как узнать, кто является бенефициарным владель...</td>\n",
       "      <td>[\"['12. Идентификация бенефициарного(ых) владе...</td>\n",
       "      <td>Для идентификации бенефициарного владельца юри...</td>\n",
       "      <td>Для того чтобы узнать, кто является бенефициар...</td>\n",
       "      <td>1.000000</td>\n",
       "      <td>0.937868</td>\n",
       "      <td>1.0</td>\n",
       "      <td>1.000000</td>\n",
       "      <td>0.967600</td>\n",
       "      <td>0.0028</td>\n",
       "      <td>0.248485</td>\n",
       "      <td>0.851023</td>\n",
       "      <td>0.985897</td>\n",
       "      <td>0.5</td>\n",
       "    </tr>\n",
       "    <tr>\n",
       "      <th>19</th>\n",
       "      <td>Расскажи про термины 'Договор страхования' и '...</td>\n",
       "      <td>[\"['1. Термины и определения     \\\\n          ...</td>\n",
       "      <td>Да, конечно! Договор страхования — это догово...</td>\n",
       "      <td>Договор страхования - это соглашение между стр...</td>\n",
       "      <td>0.666667</td>\n",
       "      <td>0.875539</td>\n",
       "      <td>1.0</td>\n",
       "      <td>0.250000</td>\n",
       "      <td>0.937980</td>\n",
       "      <td>0.0000</td>\n",
       "      <td>0.243856</td>\n",
       "      <td>0.875033</td>\n",
       "      <td>0.986001</td>\n",
       "      <td>0.5</td>\n",
       "    </tr>\n",
       "    <tr>\n",
       "      <th>20</th>\n",
       "      <td>Какой минимум страховой выплаты мне вернут, ес...</td>\n",
       "      <td>[' \\n                    2.19.   При доброволь...</td>\n",
       "      <td>\\n                    Минимальная страховая в...</td>\n",
       "      <td>Я не знаю ответа на этот вопрос.</td>\n",
       "      <td>NaN</td>\n",
       "      <td>0.000000</td>\n",
       "      <td>1.0</td>\n",
       "      <td>0.200000</td>\n",
       "      <td>0.752914</td>\n",
       "      <td>0.0000</td>\n",
       "      <td>0.000000</td>\n",
       "      <td>0.705354</td>\n",
       "      <td>0.888243</td>\n",
       "      <td>0.0</td>\n",
       "    </tr>\n",
       "    <tr>\n",
       "      <th>21</th>\n",
       "      <td>При принятии пользовательских соглашений, кому...</td>\n",
       "      <td>[\"['\\\\n                    5. Персональные дан...</td>\n",
       "      <td>\\n                    Согласно пункту 5.1 поль...</td>\n",
       "      <td>Мои данные могут попасть другим лицам, включая...</td>\n",
       "      <td>1.000000</td>\n",
       "      <td>0.000000</td>\n",
       "      <td>1.0</td>\n",
       "      <td>0.250000</td>\n",
       "      <td>0.881107</td>\n",
       "      <td>0.0000</td>\n",
       "      <td>0.111456</td>\n",
       "      <td>0.725240</td>\n",
       "      <td>0.982407</td>\n",
       "      <td>0.5</td>\n",
       "    </tr>\n",
       "    <tr>\n",
       "      <th>22</th>\n",
       "      <td>Зачем страховщик ведет аудио и видеозапись при...</td>\n",
       "      <td>[\"['При заключении Договоров страхования, а та...</td>\n",
       "      <td>Страховщик ведет аудио, видеозапись, фотографи...</td>\n",
       "      <td>Страховщик ведет аудио и видеозапись при взаим...</td>\n",
       "      <td>1.000000</td>\n",
       "      <td>0.937510</td>\n",
       "      <td>1.0</td>\n",
       "      <td>1.000000</td>\n",
       "      <td>0.977124</td>\n",
       "      <td>0.0837</td>\n",
       "      <td>0.349390</td>\n",
       "      <td>0.966309</td>\n",
       "      <td>0.990571</td>\n",
       "      <td>1.0</td>\n",
       "    </tr>\n",
       "    <tr>\n",
       "      <th>23</th>\n",
       "      <td>В каких случаях застрахованному могут быть опл...</td>\n",
       "      <td>[\"['По договорам добровольного страхования неп...</td>\n",
       "      <td>По договорам добровольного страхования непредв...</td>\n",
       "      <td>Я не знаю ответа на этот вопрос.</td>\n",
       "      <td>NaN</td>\n",
       "      <td>0.000000</td>\n",
       "      <td>1.0</td>\n",
       "      <td>1.000000</td>\n",
       "      <td>0.779073</td>\n",
       "      <td>0.0000</td>\n",
       "      <td>0.073349</td>\n",
       "      <td>0.726362</td>\n",
       "      <td>0.873519</td>\n",
       "      <td>0.0</td>\n",
       "    </tr>\n",
       "    <tr>\n",
       "      <th>24</th>\n",
       "      <td>Куда пользователь может направить обращение пр...</td>\n",
       "      <td>[\"['При возникновении вопросов или спора можно...</td>\n",
       "      <td>При возникновении вопросов или спора с АО 'Тин...</td>\n",
       "      <td>Пользователь может направить обращение при воз...</td>\n",
       "      <td>0.285714</td>\n",
       "      <td>0.979188</td>\n",
       "      <td>1.0</td>\n",
       "      <td>1.000000</td>\n",
       "      <td>0.915763</td>\n",
       "      <td>0.0510</td>\n",
       "      <td>0.137080</td>\n",
       "      <td>0.906280</td>\n",
       "      <td>0.983045</td>\n",
       "      <td>0.0</td>\n",
       "    </tr>\n",
       "    <tr>\n",
       "      <th>25</th>\n",
       "      <td>Где можно ознакомиться с дополнительной информ...</td>\n",
       "      <td>[\"['Дополнительная информация и документы о де...</td>\n",
       "      <td>Дополнительная информация и документы о деятел...</td>\n",
       "      <td>Дополнительную информацию и документы о деятел...</td>\n",
       "      <td>NaN</td>\n",
       "      <td>0.991238</td>\n",
       "      <td>1.0</td>\n",
       "      <td>1.000000</td>\n",
       "      <td>0.950701</td>\n",
       "      <td>0.1663</td>\n",
       "      <td>0.189755</td>\n",
       "      <td>0.907349</td>\n",
       "      <td>0.979832</td>\n",
       "      <td>0.5</td>\n",
       "    </tr>\n",
       "    <tr>\n",
       "      <th>26</th>\n",
       "      <td>Что означает 'Партия' и вообще 'Слиток' для др...</td>\n",
       "      <td>[\"['\\\\n                    Партия — приобретен...</td>\n",
       "      <td>Давайте разберемся! \\n                    Парт...</td>\n",
       "      <td>Партия - это приобретенные Клиентом Слитки в к...</td>\n",
       "      <td>1.000000</td>\n",
       "      <td>0.867917</td>\n",
       "      <td>1.0</td>\n",
       "      <td>1.000000</td>\n",
       "      <td>0.935629</td>\n",
       "      <td>0.1024</td>\n",
       "      <td>0.304456</td>\n",
       "      <td>0.973320</td>\n",
       "      <td>0.994473</td>\n",
       "      <td>1.0</td>\n",
       "    </tr>\n",
       "    <tr>\n",
       "      <th>27</th>\n",
       "      <td>Меня действительно должны фотографировать посл...</td>\n",
       "      <td>[\"['\\\\n                    2.13.12. После подт...</td>\n",
       "      <td>Да, Вас действительно должнен сфотографировать...</td>\n",
       "      <td>Я не знаю ответа на этот вопрос.</td>\n",
       "      <td>NaN</td>\n",
       "      <td>0.000000</td>\n",
       "      <td>1.0</td>\n",
       "      <td>1.000000</td>\n",
       "      <td>0.777616</td>\n",
       "      <td>0.0000</td>\n",
       "      <td>0.000000</td>\n",
       "      <td>0.565071</td>\n",
       "      <td>0.928687</td>\n",
       "      <td>0.0</td>\n",
       "    </tr>\n",
       "    <tr>\n",
       "      <th>28</th>\n",
       "      <td>Какие условия хранения?</td>\n",
       "      <td>[\"[' \\\\n                    2.14.9. Условия хр...</td>\n",
       "      <td>\\n                    В соответсвии с пунктом ...</td>\n",
       "      <td>Условия хранения включают температуру воздуха ...</td>\n",
       "      <td>1.000000</td>\n",
       "      <td>0.965477</td>\n",
       "      <td>1.0</td>\n",
       "      <td>0.750000</td>\n",
       "      <td>0.932819</td>\n",
       "      <td>0.4266</td>\n",
       "      <td>0.787639</td>\n",
       "      <td>0.935024</td>\n",
       "      <td>0.990773</td>\n",
       "      <td>1.0</td>\n",
       "    </tr>\n",
       "    <tr>\n",
       "      <th>29</th>\n",
       "      <td>Что такое 'Сертификат качества слитка'?</td>\n",
       "      <td>[\"['Сертификат качества слитка — документ о ка...</td>\n",
       "      <td>Сертификат качества слитка - это документ, выд...</td>\n",
       "      <td>Сертификат качества слитка - это документ о ка...</td>\n",
       "      <td>1.000000</td>\n",
       "      <td>0.829405</td>\n",
       "      <td>1.0</td>\n",
       "      <td>1.000000</td>\n",
       "      <td>0.990096</td>\n",
       "      <td>0.2041</td>\n",
       "      <td>0.643760</td>\n",
       "      <td>0.959325</td>\n",
       "      <td>0.994699</td>\n",
       "      <td>1.0</td>\n",
       "    </tr>\n",
       "    <tr>\n",
       "      <th>30</th>\n",
       "      <td>На какой срок выдается эта доверенность? Можно...</td>\n",
       "      <td>[\"['Датой выдачи доверенности считается дата п...</td>\n",
       "      <td>Доверенность выдается сроком на 1 год. Полномо...</td>\n",
       "      <td>Из предоставленного контекста невозможно опред...</td>\n",
       "      <td>NaN</td>\n",
       "      <td>0.000000</td>\n",
       "      <td>1.0</td>\n",
       "      <td>1.000000</td>\n",
       "      <td>0.892511</td>\n",
       "      <td>0.0000</td>\n",
       "      <td>0.037585</td>\n",
       "      <td>0.808841</td>\n",
       "      <td>0.977700</td>\n",
       "      <td>0.5</td>\n",
       "    </tr>\n",
       "    <tr>\n",
       "      <th>31</th>\n",
       "      <td>Как клиент может получить сертификат качества ...</td>\n",
       "      <td>[\"['По требованию Клиента Банк предоставляет К...</td>\n",
       "      <td>По требованию клиента банк предоставляет ему з...</td>\n",
       "      <td>Клиент может получить сертификат качества слит...</td>\n",
       "      <td>NaN</td>\n",
       "      <td>0.996966</td>\n",
       "      <td>1.0</td>\n",
       "      <td>1.000000</td>\n",
       "      <td>0.947300</td>\n",
       "      <td>0.0000</td>\n",
       "      <td>0.318460</td>\n",
       "      <td>0.870785</td>\n",
       "      <td>0.984284</td>\n",
       "      <td>0.0</td>\n",
       "    </tr>\n",
       "    <tr>\n",
       "      <th>32</th>\n",
       "      <td>Какие условия хранения слитков в банке? Где их...</td>\n",
       "      <td>[\"['Хранение Банком Слитка Клиента осуществляе...</td>\n",
       "      <td>Слитки хранятся в специальном хранилище 5 клас...</td>\n",
       "      <td>Слитки в банке хранятся в специальном помещени...</td>\n",
       "      <td>0.666667</td>\n",
       "      <td>0.944735</td>\n",
       "      <td>1.0</td>\n",
       "      <td>1.000000</td>\n",
       "      <td>0.957763</td>\n",
       "      <td>0.1188</td>\n",
       "      <td>0.353201</td>\n",
       "      <td>0.949123</td>\n",
       "      <td>0.988621</td>\n",
       "      <td>1.0</td>\n",
       "    </tr>\n",
       "    <tr>\n",
       "      <th>33</th>\n",
       "      <td>Можно ли вернуть слиток в банк, если при получ...</td>\n",
       "      <td>[\"['В случае обнаружения при приеме Слитка с о...</td>\n",
       "      <td>Да, если при получении слитка с хранения были ...</td>\n",
       "      <td>Да, согласно представленному контексту, клиент...</td>\n",
       "      <td>NaN</td>\n",
       "      <td>0.950077</td>\n",
       "      <td>1.0</td>\n",
       "      <td>1.000000</td>\n",
       "      <td>0.912159</td>\n",
       "      <td>0.0000</td>\n",
       "      <td>0.151898</td>\n",
       "      <td>0.912367</td>\n",
       "      <td>0.992563</td>\n",
       "      <td>0.5</td>\n",
       "    </tr>\n",
       "    <tr>\n",
       "      <th>34</th>\n",
       "      <td>Кто может стать доверенным лицом?</td>\n",
       "      <td>[\"['Доверенное лицо — физическое лицо, уполном...</td>\n",
       "      <td>Доверенным лицом клиента может стать любое физ...</td>\n",
       "      <td>Доверенным лицом может стать юридическое лицо ...</td>\n",
       "      <td>0.000000</td>\n",
       "      <td>0.963069</td>\n",
       "      <td>1.0</td>\n",
       "      <td>1.000000</td>\n",
       "      <td>0.891399</td>\n",
       "      <td>0.0000</td>\n",
       "      <td>0.155456</td>\n",
       "      <td>0.757424</td>\n",
       "      <td>0.985608</td>\n",
       "      <td>0.5</td>\n",
       "    </tr>\n",
       "    <tr>\n",
       "      <th>35</th>\n",
       "      <td>Можно ли поменять доверенное лицо? Как это сде...</td>\n",
       "      <td>[\"['Клиент может отменить выданную доверенност...</td>\n",
       "      <td>Да, клиент может отменить ранее выданную довер...</td>\n",
       "      <td>Да, можно поменять доверенное лицо. Для этого ...</td>\n",
       "      <td>NaN</td>\n",
       "      <td>0.991871</td>\n",
       "      <td>1.0</td>\n",
       "      <td>1.000000</td>\n",
       "      <td>0.932285</td>\n",
       "      <td>0.0943</td>\n",
       "      <td>0.428837</td>\n",
       "      <td>0.919914</td>\n",
       "      <td>0.985248</td>\n",
       "      <td>0.5</td>\n",
       "    </tr>\n",
       "    <tr>\n",
       "      <th>36</th>\n",
       "      <td>Как происходит покупка слитка банком? Есть ли ...</td>\n",
       "      <td>[\"['Банк приобретает у Клиента только Слитки, ...</td>\n",
       "      <td>Банк осуществляет покупку слитков драгоценных ...</td>\n",
       "      <td>Из предоставленного контекста нельзя однозначн...</td>\n",
       "      <td>NaN</td>\n",
       "      <td>0.000000</td>\n",
       "      <td>1.0</td>\n",
       "      <td>1.000000</td>\n",
       "      <td>0.929445</td>\n",
       "      <td>0.0000</td>\n",
       "      <td>0.081820</td>\n",
       "      <td>0.893044</td>\n",
       "      <td>0.984659</td>\n",
       "      <td>0.0</td>\n",
       "    </tr>\n",
       "    <tr>\n",
       "      <th>37</th>\n",
       "      <td>Что такое накопительный счет и как начисляются...</td>\n",
       "      <td>[\"['\\\\n                    3.1. Начисление про...</td>\n",
       "      <td>\\n                    Накопительный счет - это...</td>\n",
       "      <td>Накопительный счет - это счет, на котором учит...</td>\n",
       "      <td>1.000000</td>\n",
       "      <td>0.953366</td>\n",
       "      <td>1.0</td>\n",
       "      <td>0.333333</td>\n",
       "      <td>0.950454</td>\n",
       "      <td>0.1528</td>\n",
       "      <td>0.453237</td>\n",
       "      <td>0.951492</td>\n",
       "      <td>0.989548</td>\n",
       "      <td>0.5</td>\n",
       "    </tr>\n",
       "    <tr>\n",
       "      <th>38</th>\n",
       "      <td>Можно ли открыть вклад в 12 лет?</td>\n",
       "      <td>[\"['1.2. Банк не заключает Договор вклада (Дог...</td>\n",
       "      <td>Нет, Банк не заключает договор вклада с лицами...</td>\n",
       "      <td>Нет, согласно представленному контексту, Банк ...</td>\n",
       "      <td>NaN</td>\n",
       "      <td>0.888754</td>\n",
       "      <td>1.0</td>\n",
       "      <td>1.000000</td>\n",
       "      <td>0.979416</td>\n",
       "      <td>0.7388</td>\n",
       "      <td>0.838212</td>\n",
       "      <td>0.896380</td>\n",
       "      <td>0.992889</td>\n",
       "      <td>1.0</td>\n",
       "    </tr>\n",
       "    <tr>\n",
       "      <th>39</th>\n",
       "      <td>Могу ли я открыть несколько вкладов и пополнят...</td>\n",
       "      <td>[\"['\\\\n                    4.1. Клиент имеет п...</td>\n",
       "      <td>\\n                    Да, вы можете открыть н...</td>\n",
       "      <td>Да, согласно представленному контексту, клиент...</td>\n",
       "      <td>NaN</td>\n",
       "      <td>0.902381</td>\n",
       "      <td>1.0</td>\n",
       "      <td>0.375000</td>\n",
       "      <td>0.910703</td>\n",
       "      <td>0.1166</td>\n",
       "      <td>0.251654</td>\n",
       "      <td>0.833940</td>\n",
       "      <td>0.973824</td>\n",
       "      <td>1.0</td>\n",
       "    </tr>\n",
       "    <tr>\n",
       "      <th>40</th>\n",
       "      <td>Для получения страховой выплаты в случае несча...</td>\n",
       "      <td>[\"['\\\\n                    6.1. По риску Смерт...</td>\n",
       "      <td>Да, в таком случае необходимы справки из психо...</td>\n",
       "      <td>Нет, справка из психушки не требуется для полу...</td>\n",
       "      <td>NaN</td>\n",
       "      <td>0.000000</td>\n",
       "      <td>1.0</td>\n",
       "      <td>0.666667</td>\n",
       "      <td>0.855506</td>\n",
       "      <td>0.0000</td>\n",
       "      <td>0.081506</td>\n",
       "      <td>0.811149</td>\n",
       "      <td>0.978872</td>\n",
       "      <td>0.0</td>\n",
       "    </tr>\n",
       "    <tr>\n",
       "      <th>41</th>\n",
       "      <td>Дают ли кредит на автомобиль?</td>\n",
       "      <td>[\"['3.1. Банк предоставляет Клиенту Кредит на ...</td>\n",
       "      <td>Да, в соответсвии с пунктом 3.1. Банк предоста...</td>\n",
       "      <td>Нет информации о кредитовании автомобилей в да...</td>\n",
       "      <td>NaN</td>\n",
       "      <td>0.000000</td>\n",
       "      <td>1.0</td>\n",
       "      <td>1.000000</td>\n",
       "      <td>0.864233</td>\n",
       "      <td>0.0000</td>\n",
       "      <td>0.000000</td>\n",
       "      <td>0.686364</td>\n",
       "      <td>0.965766</td>\n",
       "      <td>0.0</td>\n",
       "    </tr>\n",
       "    <tr>\n",
       "      <th>42</th>\n",
       "      <td>Распростроняется ли страховое покрытие на смер...</td>\n",
       "      <td>[\"[' \\\\n                    Страховое покрытие...</td>\n",
       "      <td>Нет, страховое покрытие не распространяется на...</td>\n",
       "      <td>Да</td>\n",
       "      <td>0.000000</td>\n",
       "      <td>0.000000</td>\n",
       "      <td>1.0</td>\n",
       "      <td>0.500000</td>\n",
       "      <td>0.755390</td>\n",
       "      <td>0.0000</td>\n",
       "      <td>0.000000</td>\n",
       "      <td>0.000000</td>\n",
       "      <td>0.523208</td>\n",
       "      <td>0.0</td>\n",
       "    </tr>\n",
       "    <tr>\n",
       "      <th>43</th>\n",
       "      <td>Может ли Банк изменить Тарифный план по кредит...</td>\n",
       "      <td>[\"['\\\\n                    Банк вправе в однос...</td>\n",
       "      <td>Да, Банк может изменить Тарифный план по креди...</td>\n",
       "      <td>Да, Банк может изменить Тарифный план по креди...</td>\n",
       "      <td>1.000000</td>\n",
       "      <td>0.969623</td>\n",
       "      <td>1.0</td>\n",
       "      <td>1.000000</td>\n",
       "      <td>0.960253</td>\n",
       "      <td>0.1402</td>\n",
       "      <td>0.427563</td>\n",
       "      <td>0.966180</td>\n",
       "      <td>0.988014</td>\n",
       "      <td>1.0</td>\n",
       "    </tr>\n",
       "    <tr>\n",
       "      <th>44</th>\n",
       "      <td>Можно ли внести частичное досрочное погашение ...</td>\n",
       "      <td>[\"['«Клиент имеет право досрочно погасить Задо...</td>\n",
       "      <td>Да, Клиент имеет право совершить частичное дос...</td>\n",
       "      <td>Да, клиент имеет право внести частичное досроч...</td>\n",
       "      <td>1.000000</td>\n",
       "      <td>0.948555</td>\n",
       "      <td>1.0</td>\n",
       "      <td>1.000000</td>\n",
       "      <td>0.980029</td>\n",
       "      <td>0.2070</td>\n",
       "      <td>0.639225</td>\n",
       "      <td>0.954243</td>\n",
       "      <td>0.996001</td>\n",
       "      <td>1.0</td>\n",
       "    </tr>\n",
       "    <tr>\n",
       "      <th>45</th>\n",
       "      <td>Что будет в случае просрочки платежа по кредит...</td>\n",
       "      <td>[\"['«В случае неоплаты платежа Клиент должен у...</td>\n",
       "      <td>В случае неоплаты минимального платежа по кред...</td>\n",
       "      <td>В случае просрочки платежа по кредиту могут бы...</td>\n",
       "      <td>1.000000</td>\n",
       "      <td>0.947406</td>\n",
       "      <td>1.0</td>\n",
       "      <td>1.000000</td>\n",
       "      <td>0.917177</td>\n",
       "      <td>0.0000</td>\n",
       "      <td>0.171603</td>\n",
       "      <td>0.890761</td>\n",
       "      <td>0.990688</td>\n",
       "      <td>1.0</td>\n",
       "    </tr>\n",
       "    <tr>\n",
       "      <th>46</th>\n",
       "      <td>Можно ли на время приостановить выплаты по кре...</td>\n",
       "      <td>[\"['«На основании обращения Клиента и по согла...</td>\n",
       "      <td>Да, на основании обращения Клиента и по соглас...</td>\n",
       "      <td>Да, на основании обращения клиента и по соглас...</td>\n",
       "      <td>0.600000</td>\n",
       "      <td>0.957807</td>\n",
       "      <td>1.0</td>\n",
       "      <td>1.000000</td>\n",
       "      <td>0.976501</td>\n",
       "      <td>0.3024</td>\n",
       "      <td>0.599099</td>\n",
       "      <td>0.935600</td>\n",
       "      <td>0.993993</td>\n",
       "      <td>1.0</td>\n",
       "    </tr>\n",
       "    <tr>\n",
       "      <th>47</th>\n",
       "      <td>Я хочу оформить дополнительную карту на супруг...</td>\n",
       "      <td>[\"['«3.2. По заявлению Клиента, переданному в ...</td>\n",
       "      <td>Вы можете оформить дополнительную кредитную ка...</td>\n",
       "      <td>Я не знаю, как оформить дополнительную карту н...</td>\n",
       "      <td>NaN</td>\n",
       "      <td>0.000000</td>\n",
       "      <td>1.0</td>\n",
       "      <td>1.000000</td>\n",
       "      <td>0.928284</td>\n",
       "      <td>0.1268</td>\n",
       "      <td>0.284436</td>\n",
       "      <td>0.772896</td>\n",
       "      <td>0.972000</td>\n",
       "      <td>0.0</td>\n",
       "    </tr>\n",
       "    <tr>\n",
       "      <th>48</th>\n",
       "      <td>А что если я потеряю карту? Сколько у меня ест...</td>\n",
       "      <td>[\"['«6.1. При обнаружении утери, кражи или пор...</td>\n",
       "      <td>В случае утери или кражи кредитной карты, вы д...</td>\n",
       "      <td>Если вы потеряете карту, вам нужно как можно с...</td>\n",
       "      <td>NaN</td>\n",
       "      <td>0.888786</td>\n",
       "      <td>1.0</td>\n",
       "      <td>1.000000</td>\n",
       "      <td>0.915141</td>\n",
       "      <td>0.0000</td>\n",
       "      <td>0.177240</td>\n",
       "      <td>0.786467</td>\n",
       "      <td>0.988925</td>\n",
       "      <td>1.0</td>\n",
       "    </tr>\n",
       "    <tr>\n",
       "      <th>49</th>\n",
       "      <td>Прочитал тут у вас про блокировку карточки. А ...</td>\n",
       "      <td>[\"['«6.1. [...] а также в случае изъятия Креди...</td>\n",
       "      <td>Если вы забыли карту в банкомате, вам необходи...</td>\n",
       "      <td>Если карта была у Вас украдена на территории Р...</td>\n",
       "      <td>0.666667</td>\n",
       "      <td>0.854830</td>\n",
       "      <td>1.0</td>\n",
       "      <td>1.000000</td>\n",
       "      <td>0.882907</td>\n",
       "      <td>0.0000</td>\n",
       "      <td>0.075323</td>\n",
       "      <td>0.684462</td>\n",
       "      <td>0.987537</td>\n",
       "      <td>0.0</td>\n",
       "    </tr>\n",
       "    <tr>\n",
       "      <th>50</th>\n",
       "      <td>А есть ли какие-то льготные условия, если я за...</td>\n",
       "      <td>[\"['«5.15. На основании обращения Клиента и по...</td>\n",
       "      <td>Да, в документе указано, что по обращению клие...</td>\n",
       "      <td>Да, согласно представленному контексту, на осн...</td>\n",
       "      <td>1.000000</td>\n",
       "      <td>0.895507</td>\n",
       "      <td>1.0</td>\n",
       "      <td>1.000000</td>\n",
       "      <td>0.967631</td>\n",
       "      <td>0.4068</td>\n",
       "      <td>0.560964</td>\n",
       "      <td>0.975322</td>\n",
       "      <td>0.995591</td>\n",
       "      <td>1.0</td>\n",
       "    </tr>\n",
       "    <tr>\n",
       "      <th>51</th>\n",
       "      <td>Какие процедуры предусмотрены банком для обраб...</td>\n",
       "      <td>[\"['Банк имеет установленные процедуры для обр...</td>\n",
       "      <td>Банк следует четко установленным процедурам дл...</td>\n",
       "      <td>Банк предоставляет процедуры для обработки жал...</td>\n",
       "      <td>NaN</td>\n",
       "      <td>0.988582</td>\n",
       "      <td>1.0</td>\n",
       "      <td>1.000000</td>\n",
       "      <td>0.911744</td>\n",
       "      <td>0.0573</td>\n",
       "      <td>0.100200</td>\n",
       "      <td>0.831655</td>\n",
       "      <td>0.989781</td>\n",
       "      <td>1.0</td>\n",
       "    </tr>\n",
       "    <tr>\n",
       "      <th>52</th>\n",
       "      <td>Что происходит с депозитами в случае смерти?</td>\n",
       "      <td>[\"['В случае смерти клиента банк замораживает ...</td>\n",
       "      <td>После смерти клиента банк замораживает все его...</td>\n",
       "      <td>В случае смерти депозита, банк прекращает начи...</td>\n",
       "      <td>NaN</td>\n",
       "      <td>0.865758</td>\n",
       "      <td>1.0</td>\n",
       "      <td>1.000000</td>\n",
       "      <td>0.915648</td>\n",
       "      <td>0.0000</td>\n",
       "      <td>0.084881</td>\n",
       "      <td>0.817837</td>\n",
       "      <td>0.983181</td>\n",
       "      <td>0.5</td>\n",
       "    </tr>\n",
       "    <tr>\n",
       "      <th>53</th>\n",
       "      <td>Могу я отказаться от получения уведомлений от ...</td>\n",
       "      <td>[\"['Клиенты имеют право отказаться от получени...</td>\n",
       "      <td>Клиенты могут отказаться от получения определе...</td>\n",
       "      <td>Да, вы можете отказаться от получения уведомле...</td>\n",
       "      <td>NaN</td>\n",
       "      <td>0.952851</td>\n",
       "      <td>1.0</td>\n",
       "      <td>1.000000</td>\n",
       "      <td>0.934876</td>\n",
       "      <td>0.0000</td>\n",
       "      <td>0.293799</td>\n",
       "      <td>0.893627</td>\n",
       "      <td>0.984501</td>\n",
       "      <td>1.0</td>\n",
       "    </tr>\n",
       "    <tr>\n",
       "      <th>54</th>\n",
       "      <td>Как я могу увеличить лимит по своей кредитной ...</td>\n",
       "      <td>[\"['Для увеличения кредитного лимита клиенты д...</td>\n",
       "      <td>Чтобы увеличить кредитный лимит, клиентам необ...</td>\n",
       "      <td>Я не знаю, как увеличить лимит по кредитной ка...</td>\n",
       "      <td>NaN</td>\n",
       "      <td>0.000000</td>\n",
       "      <td>1.0</td>\n",
       "      <td>1.000000</td>\n",
       "      <td>0.895260</td>\n",
       "      <td>0.0000</td>\n",
       "      <td>0.066547</td>\n",
       "      <td>0.769124</td>\n",
       "      <td>0.982973</td>\n",
       "      <td>0.0</td>\n",
       "    </tr>\n",
       "    <tr>\n",
       "      <th>55</th>\n",
       "      <td>Каковы условия отмены банковской операции, нап...</td>\n",
       "      <td>[\"['Клиенты могут отменить определенные банков...</td>\n",
       "      <td>Условия отмены банковской операции зависят от ...</td>\n",
       "      <td>Я не знаю ответа на этот вопрос.</td>\n",
       "      <td>NaN</td>\n",
       "      <td>0.000000</td>\n",
       "      <td>1.0</td>\n",
       "      <td>1.000000</td>\n",
       "      <td>0.765703</td>\n",
       "      <td>0.0000</td>\n",
       "      <td>0.036206</td>\n",
       "      <td>0.612880</td>\n",
       "      <td>0.900779</td>\n",
       "      <td>0.0</td>\n",
       "    </tr>\n",
       "    <tr>\n",
       "      <th>56</th>\n",
       "      <td>Какие услуги доступны клиентам через Интернет-...</td>\n",
       "      <td>[\"['Через Интернет-банк клиенты могут управлят...</td>\n",
       "      <td>Интернет-банк предоставляет клиентам возможнос...</td>\n",
       "      <td>Из предоставленного контекста невозможно точно...</td>\n",
       "      <td>NaN</td>\n",
       "      <td>0.000000</td>\n",
       "      <td>1.0</td>\n",
       "      <td>1.000000</td>\n",
       "      <td>0.891867</td>\n",
       "      <td>0.0000</td>\n",
       "      <td>0.097157</td>\n",
       "      <td>0.715149</td>\n",
       "      <td>0.984181</td>\n",
       "      <td>0.0</td>\n",
       "    </tr>\n",
       "    <tr>\n",
       "      <th>57</th>\n",
       "      <td>Я не пользовалась кредиткой год, но у меня там...</td>\n",
       "      <td>['[\\'\"8. Расторжение Договора кредитной карты\\...</td>\n",
       "      <td>Согласно пунуту 8.6 - вы не можете вернуть ваш...</td>\n",
       "      <td>Да, вы можете вернуть свои 800 рублей, которые...</td>\n",
       "      <td>NaN</td>\n",
       "      <td>0.946879</td>\n",
       "      <td>1.0</td>\n",
       "      <td>0.076923</td>\n",
       "      <td>0.873982</td>\n",
       "      <td>0.0000</td>\n",
       "      <td>0.101999</td>\n",
       "      <td>0.797931</td>\n",
       "      <td>0.984613</td>\n",
       "      <td>0.0</td>\n",
       "    </tr>\n",
       "  </tbody>\n",
       "</table>\n",
       "</div>"
      ],
      "text/plain": [
       "                                             question  \\\n",
       "0                 Можно ли не расписываться на карте?   \n",
       "1   Мой друг попросил меня дать свою карту для опл...   \n",
       "2   Безопасно ли хранить пинкод в заметках в телеф...   \n",
       "3                                    Я потеряла карту   \n",
       "4   Почему при использовании карты важно не распис...   \n",
       "5   Что делать, если я потеряла телефон, на которо...   \n",
       "6   Можно ли использовать интернет-кафе и другие о...   \n",
       "7   Что делать, если я получил SMS-оповещение о оп...   \n",
       "8   Как обезопасить себя от съема данных карты в б...   \n",
       "9   Правда ли, что при бронировании гостиницы по к...   \n",
       "10  Если я из другой страны и у меня нет паспорта ...   \n",
       "11  В течении скольких дней действительна выписка ...   \n",
       "12   Нужно ли ИП указывать свой сайт для предприятия?   \n",
       "13  Может ли Банк запросить дополнительные докумен...   \n",
       "14  Какие документы нужно предоставить физическому...   \n",
       "15  Какие документы необходимо предоставить юридич...   \n",
       "16  Можно ли открыть счет индивидуальному предприн...   \n",
       "17  Какие документы потребуются, если открывать сч...   \n",
       "18  Как узнать, кто является бенефициарным владель...   \n",
       "19  Расскажи про термины 'Договор страхования' и '...   \n",
       "20  Какой минимум страховой выплаты мне вернут, ес...   \n",
       "21  При принятии пользовательских соглашений, кому...   \n",
       "22  Зачем страховщик ведет аудио и видеозапись при...   \n",
       "23  В каких случаях застрахованному могут быть опл...   \n",
       "24  Куда пользователь может направить обращение пр...   \n",
       "25  Где можно ознакомиться с дополнительной информ...   \n",
       "26  Что означает 'Партия' и вообще 'Слиток' для др...   \n",
       "27  Меня действительно должны фотографировать посл...   \n",
       "28                            Какие условия хранения?   \n",
       "29            Что такое 'Сертификат качества слитка'?   \n",
       "30  На какой срок выдается эта доверенность? Можно...   \n",
       "31  Как клиент может получить сертификат качества ...   \n",
       "32  Какие условия хранения слитков в банке? Где их...   \n",
       "33  Можно ли вернуть слиток в банк, если при получ...   \n",
       "34                  Кто может стать доверенным лицом?   \n",
       "35  Можно ли поменять доверенное лицо? Как это сде...   \n",
       "36  Как происходит покупка слитка банком? Есть ли ...   \n",
       "37  Что такое накопительный счет и как начисляются...   \n",
       "38                   Можно ли открыть вклад в 12 лет?   \n",
       "39  Могу ли я открыть несколько вкладов и пополнят...   \n",
       "40  Для получения страховой выплаты в случае несча...   \n",
       "41                      Дают ли кредит на автомобиль?   \n",
       "42  Распростроняется ли страховое покрытие на смер...   \n",
       "43  Может ли Банк изменить Тарифный план по кредит...   \n",
       "44  Можно ли внести частичное досрочное погашение ...   \n",
       "45  Что будет в случае просрочки платежа по кредит...   \n",
       "46  Можно ли на время приостановить выплаты по кре...   \n",
       "47  Я хочу оформить дополнительную карту на супруг...   \n",
       "48  А что если я потеряю карту? Сколько у меня ест...   \n",
       "49  Прочитал тут у вас про блокировку карточки. А ...   \n",
       "50  А есть ли какие-то льготные условия, если я за...   \n",
       "51  Какие процедуры предусмотрены банком для обраб...   \n",
       "52       Что происходит с депозитами в случае смерти?   \n",
       "53  Могу я отказаться от получения уведомлений от ...   \n",
       "54  Как я могу увеличить лимит по своей кредитной ...   \n",
       "55  Каковы условия отмены банковской операции, нап...   \n",
       "56  Какие услуги доступны клиентам через Интернет-...   \n",
       "57  Я не пользовалась кредиткой год, но у меня там...   \n",
       "\n",
       "                                             contexts  \\\n",
       "0   [\"['После получения карты поставьте свою подпи...   \n",
       "1   [\"['Никогда не принимайте рекомендации, советы...   \n",
       "2   [\"['Категорически запрещается записывать ПИН-к...   \n",
       "3   [\"[' Вы потеряли карту или ее украли\\\\nПрежде ...   \n",
       "4   [\"['Проверяйте правильность суммы, указанной н...   \n",
       "5   [\"['При утрате Мобильного телефона, используем...   \n",
       "6   [\"['Избегайте осуществления Интернет-операций ...   \n",
       "7   [\"['Если Вы уверены, что операция не могла быт...   \n",
       "8   [\"['Поэтому, при пользовании банкоматом не лен...   \n",
       "9   [\"['При бронировании номера в гостинице по кар...   \n",
       "10  [\"['\\\\n                     1. Документы и све...   \n",
       "11  [\"['\\\\n                    2.2. Выписка из Еди...   \n",
       "12  [\"['\\\\n                    3. Документы и свед...   \n",
       "13  [\"['\\\\n                     26. Банк может зап...   \n",
       "14  [\"['1. Документы и сведения, получаемые в целя...   \n",
       "15  [\"['2.1. Учредительные документы юридического ...   \n",
       "16  [\"['3.1. Идентификация индивидуального предпри...   \n",
       "17  [\"['5.1. Документ, удостоверяющий личность и у...   \n",
       "18  [\"['12. Идентификация бенефициарного(ых) владе...   \n",
       "19  [\"['1. Термины и определения     \\\\n          ...   \n",
       "20  [' \\n                    2.19.   При доброволь...   \n",
       "21  [\"['\\\\n                    5. Персональные дан...   \n",
       "22  [\"['При заключении Договоров страхования, а та...   \n",
       "23  [\"['По договорам добровольного страхования неп...   \n",
       "24  [\"['При возникновении вопросов или спора можно...   \n",
       "25  [\"['Дополнительная информация и документы о де...   \n",
       "26  [\"['\\\\n                    Партия — приобретен...   \n",
       "27  [\"['\\\\n                    2.13.12. После подт...   \n",
       "28  [\"[' \\\\n                    2.14.9. Условия хр...   \n",
       "29  [\"['Сертификат качества слитка — документ о ка...   \n",
       "30  [\"['Датой выдачи доверенности считается дата п...   \n",
       "31  [\"['По требованию Клиента Банк предоставляет К...   \n",
       "32  [\"['Хранение Банком Слитка Клиента осуществляе...   \n",
       "33  [\"['В случае обнаружения при приеме Слитка с о...   \n",
       "34  [\"['Доверенное лицо — физическое лицо, уполном...   \n",
       "35  [\"['Клиент может отменить выданную доверенност...   \n",
       "36  [\"['Банк приобретает у Клиента только Слитки, ...   \n",
       "37  [\"['\\\\n                    3.1. Начисление про...   \n",
       "38  [\"['1.2. Банк не заключает Договор вклада (Дог...   \n",
       "39  [\"['\\\\n                    4.1. Клиент имеет п...   \n",
       "40  [\"['\\\\n                    6.1. По риску Смерт...   \n",
       "41  [\"['3.1. Банк предоставляет Клиенту Кредит на ...   \n",
       "42  [\"[' \\\\n                    Страховое покрытие...   \n",
       "43  [\"['\\\\n                    Банк вправе в однос...   \n",
       "44  [\"['«Клиент имеет право досрочно погасить Задо...   \n",
       "45  [\"['«В случае неоплаты платежа Клиент должен у...   \n",
       "46  [\"['«На основании обращения Клиента и по согла...   \n",
       "47  [\"['«3.2. По заявлению Клиента, переданному в ...   \n",
       "48  [\"['«6.1. При обнаружении утери, кражи или пор...   \n",
       "49  [\"['«6.1. [...] а также в случае изъятия Креди...   \n",
       "50  [\"['«5.15. На основании обращения Клиента и по...   \n",
       "51  [\"['Банк имеет установленные процедуры для обр...   \n",
       "52  [\"['В случае смерти клиента банк замораживает ...   \n",
       "53  [\"['Клиенты имеют право отказаться от получени...   \n",
       "54  [\"['Для увеличения кредитного лимита клиенты д...   \n",
       "55  [\"['Клиенты могут отменить определенные банков...   \n",
       "56  [\"['Через Интернет-банк клиенты могут управлят...   \n",
       "57  ['[\\'\"8. Расторжение Договора кредитной карты\\...   \n",
       "\n",
       "                                         ground_truth  \\\n",
       "0   При отсутствии подписи карта может быть не при...   \n",
       "1   Не передавайте карту другим лицам, в т.ч. родс...   \n",
       "2   Да, однако не указывайте в названии заметки, ч...   \n",
       "3   Если вы не уверены, что карту украли, не спеши...   \n",
       "4   Важно проверять правильность суммы перед подпи...   \n",
       "5   Если вы потеряли телефон с установленным мобил...   \n",
       "6   Нет, не рекомендуется использовать интернет-ка...   \n",
       "7   Если вы получили SMS-оповещение о операции, ко...   \n",
       "8   Чтобы обезопасить себя от съема данных карты в...   \n",
       "9   Нет, неправда. При бронировании гостиницы по к...   \n",
       "10  \\n                        Если вы из другой ст...   \n",
       "11  Выписка из Единого государственного реестра юр...   \n",
       "12  Да, индивидуальному предпринимателю необходимо...   \n",
       "13  Да, Банк может запросить у Вас дополнительные ...   \n",
       "14  Физическому лицу для открытия счета необходимо...   \n",
       "15  Юридическому лицу необходимо предоставить учре...   \n",
       "16  Да, индивидуальному предпринимателю-иностранно...   \n",
       "17  Для открытия счета нотариусу, занимающемуся ча...   \n",
       "18  Для идентификации бенефициарного владельца юри...   \n",
       "19   Да, конечно! Договор страхования — это догово...   \n",
       "20   \\n                    Минимальная страховая в...   \n",
       "21  \\n                    Согласно пункту 5.1 поль...   \n",
       "22  Страховщик ведет аудио, видеозапись, фотографи...   \n",
       "23  По договорам добровольного страхования непредв...   \n",
       "24  При возникновении вопросов или спора с АО 'Тин...   \n",
       "25  Дополнительная информация и документы о деятел...   \n",
       "26  Давайте разберемся! \\n                    Парт...   \n",
       "27  Да, Вас действительно должнен сфотографировать...   \n",
       "28  \\n                    В соответсвии с пунктом ...   \n",
       "29  Сертификат качества слитка - это документ, выд...   \n",
       "30  Доверенность выдается сроком на 1 год. Полномо...   \n",
       "31  По требованию клиента банк предоставляет ему з...   \n",
       "32  Слитки хранятся в специальном хранилище 5 клас...   \n",
       "33  Да, если при получении слитка с хранения были ...   \n",
       "34  Доверенным лицом клиента может стать любое физ...   \n",
       "35  Да, клиент может отменить ранее выданную довер...   \n",
       "36  Банк осуществляет покупку слитков драгоценных ...   \n",
       "37  \\n                    Накопительный счет - это...   \n",
       "38  Нет, Банк не заключает договор вклада с лицами...   \n",
       "39   \\n                    Да, вы можете открыть н...   \n",
       "40  Да, в таком случае необходимы справки из психо...   \n",
       "41  Да, в соответсвии с пунктом 3.1. Банк предоста...   \n",
       "42  Нет, страховое покрытие не распространяется на...   \n",
       "43  Да, Банк может изменить Тарифный план по креди...   \n",
       "44  Да, Клиент имеет право совершить частичное дос...   \n",
       "45  В случае неоплаты минимального платежа по кред...   \n",
       "46  Да, на основании обращения Клиента и по соглас...   \n",
       "47  Вы можете оформить дополнительную кредитную ка...   \n",
       "48  В случае утери или кражи кредитной карты, вы д...   \n",
       "49  Если вы забыли карту в банкомате, вам необходи...   \n",
       "50  Да, в документе указано, что по обращению клие...   \n",
       "51  Банк следует четко установленным процедурам дл...   \n",
       "52  После смерти клиента банк замораживает все его...   \n",
       "53  Клиенты могут отказаться от получения определе...   \n",
       "54  Чтобы увеличить кредитный лимит, клиентам необ...   \n",
       "55  Условия отмены банковской операции зависят от ...   \n",
       "56  Интернет-банк предоставляет клиентам возможнос...   \n",
       "57  Согласно пунуту 8.6 - вы не можете вернуть ваш...   \n",
       "\n",
       "                                               answer  faithfulness  \\\n",
       "0     Не указано, можно ли не расписываться на карте.           NaN   \n",
       "1   Да, использование карты будет безопасным, если...           NaN   \n",
       "2   Нет, не рекомендуется хранить пинкод в заметка...           NaN   \n",
       "3   Если вы потеряли карту, вам следует немедленно...      0.500000   \n",
       "4   Подпись на квитанциях/чеках до проверки правил...           NaN   \n",
       "5   Если вы потеряли телефон, на котором было уста...      1.000000   \n",
       "6   Нет, нельзя использовать интернет-кафе и други...      1.000000   \n",
       "7   Проверьте наличие карты. Если карта у Вас, то ...           NaN   \n",
       "8   Для того чтобы обезопасить себя от съема данны...      1.000000   \n",
       "9   При бронировании гостиницы по карте вам потреб...           NaN   \n",
       "10  Если вы являетесь лицом без гражданства и нахо...      1.000000   \n",
       "11  Выписка из ЕГРЮЛ действительна в течение 30 ка...      1.000000   \n",
       "12  Да, ИП должен указывать свой сайт для предприя...      0.000000   \n",
       "13  Да, Банк имеет право дополнительно запросить о...           NaN   \n",
       "14  Для открытия счета физическому лицу необходимо...           NaN   \n",
       "15  Для открытия счета в Банке юридическому лицу н...      1.000000   \n",
       "16  Да, согласно представленному контексту, индиви...           NaN   \n",
       "17  Для открытия счета нотариусу, занимающемуся ча...      0.666667   \n",
       "18  Для того чтобы узнать, кто является бенефициар...      1.000000   \n",
       "19  Договор страхования - это соглашение между стр...      0.666667   \n",
       "20                   Я не знаю ответа на этот вопрос.           NaN   \n",
       "21  Мои данные могут попасть другим лицам, включая...      1.000000   \n",
       "22  Страховщик ведет аудио и видеозапись при взаим...      1.000000   \n",
       "23                   Я не знаю ответа на этот вопрос.           NaN   \n",
       "24  Пользователь может направить обращение при воз...      0.285714   \n",
       "25  Дополнительную информацию и документы о деятел...           NaN   \n",
       "26  Партия - это приобретенные Клиентом Слитки в к...      1.000000   \n",
       "27                   Я не знаю ответа на этот вопрос.           NaN   \n",
       "28  Условия хранения включают температуру воздуха ...      1.000000   \n",
       "29  Сертификат качества слитка - это документ о ка...      1.000000   \n",
       "30  Из предоставленного контекста невозможно опред...           NaN   \n",
       "31  Клиент может получить сертификат качества слит...           NaN   \n",
       "32  Слитки в банке хранятся в специальном помещени...      0.666667   \n",
       "33  Да, согласно представленному контексту, клиент...           NaN   \n",
       "34  Доверенным лицом может стать юридическое лицо ...      0.000000   \n",
       "35  Да, можно поменять доверенное лицо. Для этого ...           NaN   \n",
       "36  Из предоставленного контекста нельзя однозначн...           NaN   \n",
       "37  Накопительный счет - это счет, на котором учит...      1.000000   \n",
       "38  Нет, согласно представленному контексту, Банк ...           NaN   \n",
       "39  Да, согласно представленному контексту, клиент...           NaN   \n",
       "40  Нет, справка из психушки не требуется для полу...           NaN   \n",
       "41  Нет информации о кредитовании автомобилей в да...           NaN   \n",
       "42                                                 Да      0.000000   \n",
       "43  Да, Банк может изменить Тарифный план по креди...      1.000000   \n",
       "44  Да, клиент имеет право внести частичное досроч...      1.000000   \n",
       "45  В случае просрочки платежа по кредиту могут бы...      1.000000   \n",
       "46  Да, на основании обращения клиента и по соглас...      0.600000   \n",
       "47  Я не знаю, как оформить дополнительную карту н...           NaN   \n",
       "48  Если вы потеряете карту, вам нужно как можно с...           NaN   \n",
       "49  Если карта была у Вас украдена на территории Р...      0.666667   \n",
       "50  Да, согласно представленному контексту, на осн...      1.000000   \n",
       "51  Банк предоставляет процедуры для обработки жал...           NaN   \n",
       "52  В случае смерти депозита, банк прекращает начи...           NaN   \n",
       "53  Да, вы можете отказаться от получения уведомле...           NaN   \n",
       "54  Я не знаю, как увеличить лимит по кредитной ка...           NaN   \n",
       "55                   Я не знаю ответа на этот вопрос.           NaN   \n",
       "56  Из предоставленного контекста невозможно точно...           NaN   \n",
       "57  Да, вы можете вернуть свои 800 рублей, которые...           NaN   \n",
       "\n",
       "    answer_relevancy  context_precision  context_relevancy  answer_similarity  \\\n",
       "0           0.000000                1.0           1.000000           0.811101   \n",
       "1           0.841236                1.0           1.000000           0.863962   \n",
       "2           0.000000                1.0           0.000000           0.886986   \n",
       "3           0.870734                1.0           0.300000           0.910199   \n",
       "4           0.920934                1.0           0.000000           0.954130   \n",
       "5           0.946174                1.0           1.000000           0.932893   \n",
       "6           0.962368                1.0           1.000000           0.956816   \n",
       "7           0.866305                1.0           1.000000           0.918248   \n",
       "8           0.971479                1.0           1.000000           0.936355   \n",
       "9           0.916637                1.0           1.000000           0.939711   \n",
       "10          0.000000                1.0           0.166667           0.936281   \n",
       "11          0.968630                1.0           0.250000           0.947873   \n",
       "12          0.954505                1.0           0.666667           0.929378   \n",
       "13          0.962073                1.0           0.250000           0.908355   \n",
       "14          0.991141                1.0           1.000000           0.944503   \n",
       "15          0.949714                1.0           0.000000           0.951906   \n",
       "16          0.942691                1.0           1.000000           0.942328   \n",
       "17          0.924230                1.0           1.000000           0.951314   \n",
       "18          0.937868                1.0           1.000000           0.967600   \n",
       "19          0.875539                1.0           0.250000           0.937980   \n",
       "20          0.000000                1.0           0.200000           0.752914   \n",
       "21          0.000000                1.0           0.250000           0.881107   \n",
       "22          0.937510                1.0           1.000000           0.977124   \n",
       "23          0.000000                1.0           1.000000           0.779073   \n",
       "24          0.979188                1.0           1.000000           0.915763   \n",
       "25          0.991238                1.0           1.000000           0.950701   \n",
       "26          0.867917                1.0           1.000000           0.935629   \n",
       "27          0.000000                1.0           1.000000           0.777616   \n",
       "28          0.965477                1.0           0.750000           0.932819   \n",
       "29          0.829405                1.0           1.000000           0.990096   \n",
       "30          0.000000                1.0           1.000000           0.892511   \n",
       "31          0.996966                1.0           1.000000           0.947300   \n",
       "32          0.944735                1.0           1.000000           0.957763   \n",
       "33          0.950077                1.0           1.000000           0.912159   \n",
       "34          0.963069                1.0           1.000000           0.891399   \n",
       "35          0.991871                1.0           1.000000           0.932285   \n",
       "36          0.000000                1.0           1.000000           0.929445   \n",
       "37          0.953366                1.0           0.333333           0.950454   \n",
       "38          0.888754                1.0           1.000000           0.979416   \n",
       "39          0.902381                1.0           0.375000           0.910703   \n",
       "40          0.000000                1.0           0.666667           0.855506   \n",
       "41          0.000000                1.0           1.000000           0.864233   \n",
       "42          0.000000                1.0           0.500000           0.755390   \n",
       "43          0.969623                1.0           1.000000           0.960253   \n",
       "44          0.948555                1.0           1.000000           0.980029   \n",
       "45          0.947406                1.0           1.000000           0.917177   \n",
       "46          0.957807                1.0           1.000000           0.976501   \n",
       "47          0.000000                1.0           1.000000           0.928284   \n",
       "48          0.888786                1.0           1.000000           0.915141   \n",
       "49          0.854830                1.0           1.000000           0.882907   \n",
       "50          0.895507                1.0           1.000000           0.967631   \n",
       "51          0.988582                1.0           1.000000           0.911744   \n",
       "52          0.865758                1.0           1.000000           0.915648   \n",
       "53          0.952851                1.0           1.000000           0.934876   \n",
       "54          0.000000                1.0           1.000000           0.895260   \n",
       "55          0.000000                1.0           1.000000           0.765703   \n",
       "56          0.000000                1.0           1.000000           0.891867   \n",
       "57          0.946879                1.0           0.076923           0.873982   \n",
       "\n",
       "    bleu_score  cos-sim-TF-IDF  sim-spacy  cos-sim-BertModel  human  \n",
       "0       0.0000        0.077070   0.445012           0.962151    0.0  \n",
       "1       0.0000        0.058044   0.845790           0.988961    0.0  \n",
       "2       0.0000        0.056122   0.543077           0.971645    0.0  \n",
       "3       0.0000        0.200897   0.903016           0.991184    0.5  \n",
       "4       0.0000        0.095980   0.860726           0.986887    0.5  \n",
       "5       0.0000        0.091971   0.771761           0.988128    0.5  \n",
       "6       0.2703        0.335480   0.920774           0.989851    1.0  \n",
       "7       0.0000        0.120239   0.820956           0.980761    1.0  \n",
       "8       0.0434        0.182184   0.926720           0.985207    0.5  \n",
       "9       0.2542        0.400257   0.890918           0.993448    1.0  \n",
       "10      0.0000        0.169517   0.854023           0.985457    0.0  \n",
       "11      0.2818        0.547675   0.930322           0.979881    1.0  \n",
       "12      0.0000        0.052250   0.671037           0.957059    1.0  \n",
       "13      0.0000        0.114873   0.623433           0.975561    1.0  \n",
       "14      0.0000        0.120017   0.901617           0.981424    0.0  \n",
       "15      0.0000        0.242237   0.918056           0.988176    0.5  \n",
       "16      0.0000        0.081896   0.897574           0.969698    0.5  \n",
       "17      0.0043        0.206739   0.927586           0.987027    1.0  \n",
       "18      0.0028        0.248485   0.851023           0.985897    0.5  \n",
       "19      0.0000        0.243856   0.875033           0.986001    0.5  \n",
       "20      0.0000        0.000000   0.705354           0.888243    0.0  \n",
       "21      0.0000        0.111456   0.725240           0.982407    0.5  \n",
       "22      0.0837        0.349390   0.966309           0.990571    1.0  \n",
       "23      0.0000        0.073349   0.726362           0.873519    0.0  \n",
       "24      0.0510        0.137080   0.906280           0.983045    0.0  \n",
       "25      0.1663        0.189755   0.907349           0.979832    0.5  \n",
       "26      0.1024        0.304456   0.973320           0.994473    1.0  \n",
       "27      0.0000        0.000000   0.565071           0.928687    0.0  \n",
       "28      0.4266        0.787639   0.935024           0.990773    1.0  \n",
       "29      0.2041        0.643760   0.959325           0.994699    1.0  \n",
       "30      0.0000        0.037585   0.808841           0.977700    0.5  \n",
       "31      0.0000        0.318460   0.870785           0.984284    0.0  \n",
       "32      0.1188        0.353201   0.949123           0.988621    1.0  \n",
       "33      0.0000        0.151898   0.912367           0.992563    0.5  \n",
       "34      0.0000        0.155456   0.757424           0.985608    0.5  \n",
       "35      0.0943        0.428837   0.919914           0.985248    0.5  \n",
       "36      0.0000        0.081820   0.893044           0.984659    0.0  \n",
       "37      0.1528        0.453237   0.951492           0.989548    0.5  \n",
       "38      0.7388        0.838212   0.896380           0.992889    1.0  \n",
       "39      0.1166        0.251654   0.833940           0.973824    1.0  \n",
       "40      0.0000        0.081506   0.811149           0.978872    0.0  \n",
       "41      0.0000        0.000000   0.686364           0.965766    0.0  \n",
       "42      0.0000        0.000000   0.000000           0.523208    0.0  \n",
       "43      0.1402        0.427563   0.966180           0.988014    1.0  \n",
       "44      0.2070        0.639225   0.954243           0.996001    1.0  \n",
       "45      0.0000        0.171603   0.890761           0.990688    1.0  \n",
       "46      0.3024        0.599099   0.935600           0.993993    1.0  \n",
       "47      0.1268        0.284436   0.772896           0.972000    0.0  \n",
       "48      0.0000        0.177240   0.786467           0.988925    1.0  \n",
       "49      0.0000        0.075323   0.684462           0.987537    0.0  \n",
       "50      0.4068        0.560964   0.975322           0.995591    1.0  \n",
       "51      0.0573        0.100200   0.831655           0.989781    1.0  \n",
       "52      0.0000        0.084881   0.817837           0.983181    0.5  \n",
       "53      0.0000        0.293799   0.893627           0.984501    1.0  \n",
       "54      0.0000        0.066547   0.769124           0.982973    0.0  \n",
       "55      0.0000        0.036206   0.612880           0.900779    0.0  \n",
       "56      0.0000        0.097157   0.715149           0.984181    0.0  \n",
       "57      0.0000        0.101999   0.797931           0.984613    0.0  "
      ]
     },
     "execution_count": 20,
     "metadata": {},
     "output_type": "execute_result"
    }
   ],
   "source": [
    "df"
   ]
  },
  {
   "cell_type": "markdown",
   "metadata": {},
   "source": [
    "### Сохранение"
   ]
  },
  {
   "cell_type": "code",
   "execution_count": 26,
   "metadata": {},
   "outputs": [],
   "source": [
    "df.to_csv(path, index=False)"
   ]
  }
 ],
 "metadata": {
  "kernelspec": {
   "display_name": "Python 3",
   "language": "python",
   "name": "python3"
  },
  "language_info": {
   "codemirror_mode": {
    "name": "ipython",
    "version": 3
   },
   "file_extension": ".py",
   "mimetype": "text/x-python",
   "name": "python",
   "nbconvert_exporter": "python",
   "pygments_lexer": "ipython3",
   "version": "3.10.4"
  }
 },
 "nbformat": 4,
 "nbformat_minor": 2
}
